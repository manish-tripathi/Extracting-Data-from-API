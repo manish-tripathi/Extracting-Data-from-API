{
 "cells": [
  {
   "cell_type": "markdown",
   "id": "edfb7ed4",
   "metadata": {
    "papermill": {
     "duration": 0.027218,
     "end_time": "2022-04-18T15:32:34.091851",
     "exception": false,
     "start_time": "2022-04-18T15:32:34.064633",
     "status": "completed"
    },
    "tags": []
   },
   "source": [
    "We are going to apply the XGBoost classifier to address the binary classification problem where our task is to predict whether water is safe for drinking or not. For this, we are considering a [dataset](https://raw.githubusercontent.com/analyticsindiamagazine/MocksDatasets/main/Water_Quality.csv) that holds information about the level of various ingredients present in water such as copper, lead, mercury, etc and there are such 20 features.  \n",
    "\n",
    "In binary features or the target feature, 0 states that the water is safe for drinking, and 1 states that it is not safe for drinking.\n",
    "\n",
    "So by making use of these features we are going to build an XGBoost classifier that will fit the relationship between those 20 features and the target feature.\n",
    "\n",
    "[Notebook Inspiration](https://machinehack.com/bootcamp/bootcampcourse/623c3b39473fe2338d71edad)"
   ]
  },
  {
   "cell_type": "code",
   "execution_count": 1,
   "id": "98aaa07e",
   "metadata": {
    "_cell_guid": "b1076dfc-b9ad-4769-8c92-a6c4dae69d19",
    "_uuid": "8f2839f25d086af736a60e9eeb907d3b93b6e0e5",
    "execution": {
     "iopub.execute_input": "2022-04-18T15:32:34.144917Z",
     "iopub.status.busy": "2022-04-18T15:32:34.144262Z",
     "iopub.status.idle": "2022-04-18T15:32:34.155319Z",
     "shell.execute_reply": "2022-04-18T15:32:34.154870Z"
    },
    "papermill": {
     "duration": 0.039647,
     "end_time": "2022-04-18T15:32:34.157111",
     "exception": false,
     "start_time": "2022-04-18T15:32:34.117464",
     "status": "completed"
    },
    "tags": []
   },
   "outputs": [],
   "source": [
    "import numpy as np # linear algebra\n",
    "import pandas as pd # data processing, CSV file I/O (e.g. pd.read_csv)\n",
    "pd.set_option(\"display.max_columns\", 100)"
   ]
  },
  {
   "cell_type": "markdown",
   "id": "5f64d848",
   "metadata": {
    "papermill": {
     "duration": 0.025518,
     "end_time": "2022-04-18T15:32:34.208668",
     "exception": false,
     "start_time": "2022-04-18T15:32:34.183150",
     "status": "completed"
    },
    "tags": []
   },
   "source": [
    "**Step 1: Load and read the data**\n",
    "\n",
    "For loading the data we import the Pandas library and read the dataset which is stored on github in a CSV file."
   ]
  },
  {
   "cell_type": "code",
   "execution_count": 2,
   "id": "7d1ab2fe",
   "metadata": {
    "execution": {
     "iopub.execute_input": "2022-04-18T15:32:34.261202Z",
     "iopub.status.busy": "2022-04-18T15:32:34.260812Z",
     "iopub.status.idle": "2022-04-18T15:32:34.899946Z",
     "shell.execute_reply": "2022-04-18T15:32:34.899129Z"
    },
    "papermill": {
     "duration": 0.668427,
     "end_time": "2022-04-18T15:32:34.902379",
     "exception": false,
     "start_time": "2022-04-18T15:32:34.233952",
     "status": "completed"
    },
    "tags": []
   },
   "outputs": [],
   "source": [
    "df = pd.read_csv('https://raw.githubusercontent.com/analyticsindiamagazine/MocksDatasets/main/Water_Quality.csv')"
   ]
  },
  {
   "cell_type": "code",
   "execution_count": 3,
   "id": "e6644e48",
   "metadata": {
    "execution": {
     "iopub.execute_input": "2022-04-18T15:32:34.956493Z",
     "iopub.status.busy": "2022-04-18T15:32:34.956034Z",
     "iopub.status.idle": "2022-04-18T15:32:34.997669Z",
     "shell.execute_reply": "2022-04-18T15:32:34.996979Z"
    },
    "papermill": {
     "duration": 0.071019,
     "end_time": "2022-04-18T15:32:34.999690",
     "exception": false,
     "start_time": "2022-04-18T15:32:34.928671",
     "status": "completed"
    },
    "tags": []
   },
   "outputs": [
    {
     "data": {
      "text/html": [
       "<div>\n",
       "<style scoped>\n",
       "    .dataframe tbody tr th:only-of-type {\n",
       "        vertical-align: middle;\n",
       "    }\n",
       "\n",
       "    .dataframe tbody tr th {\n",
       "        vertical-align: top;\n",
       "    }\n",
       "\n",
       "    .dataframe thead th {\n",
       "        text-align: right;\n",
       "    }\n",
       "</style>\n",
       "<table border=\"1\" class=\"dataframe\">\n",
       "  <thead>\n",
       "    <tr style=\"text-align: right;\">\n",
       "      <th></th>\n",
       "      <th>aluminium</th>\n",
       "      <th>ammonia</th>\n",
       "      <th>arsenic</th>\n",
       "      <th>barium</th>\n",
       "      <th>cadmium</th>\n",
       "      <th>chloramine</th>\n",
       "      <th>chromium</th>\n",
       "      <th>copper</th>\n",
       "      <th>flouride</th>\n",
       "      <th>bacteria</th>\n",
       "      <th>viruses</th>\n",
       "      <th>lead</th>\n",
       "      <th>nitrates</th>\n",
       "      <th>nitrites</th>\n",
       "      <th>mercury</th>\n",
       "      <th>perchlorate</th>\n",
       "      <th>radium</th>\n",
       "      <th>selenium</th>\n",
       "      <th>silver</th>\n",
       "      <th>uranium</th>\n",
       "      <th>is_safe</th>\n",
       "    </tr>\n",
       "  </thead>\n",
       "  <tbody>\n",
       "    <tr>\n",
       "      <th>0</th>\n",
       "      <td>1.65</td>\n",
       "      <td>9.08</td>\n",
       "      <td>0.04</td>\n",
       "      <td>2.85</td>\n",
       "      <td>0.007</td>\n",
       "      <td>0.35</td>\n",
       "      <td>0.83</td>\n",
       "      <td>0.17</td>\n",
       "      <td>0.05</td>\n",
       "      <td>0.20</td>\n",
       "      <td>0.000</td>\n",
       "      <td>0.054</td>\n",
       "      <td>16.08</td>\n",
       "      <td>1.13</td>\n",
       "      <td>0.007</td>\n",
       "      <td>37.75</td>\n",
       "      <td>6.78</td>\n",
       "      <td>0.08</td>\n",
       "      <td>0.34</td>\n",
       "      <td>0.02</td>\n",
       "      <td>1</td>\n",
       "    </tr>\n",
       "    <tr>\n",
       "      <th>1</th>\n",
       "      <td>2.32</td>\n",
       "      <td>21.16</td>\n",
       "      <td>0.01</td>\n",
       "      <td>3.31</td>\n",
       "      <td>0.002</td>\n",
       "      <td>5.28</td>\n",
       "      <td>0.68</td>\n",
       "      <td>0.66</td>\n",
       "      <td>0.90</td>\n",
       "      <td>0.65</td>\n",
       "      <td>0.650</td>\n",
       "      <td>0.100</td>\n",
       "      <td>2.01</td>\n",
       "      <td>1.93</td>\n",
       "      <td>0.003</td>\n",
       "      <td>32.26</td>\n",
       "      <td>3.21</td>\n",
       "      <td>0.08</td>\n",
       "      <td>0.27</td>\n",
       "      <td>0.05</td>\n",
       "      <td>1</td>\n",
       "    </tr>\n",
       "    <tr>\n",
       "      <th>2</th>\n",
       "      <td>1.01</td>\n",
       "      <td>14.02</td>\n",
       "      <td>0.04</td>\n",
       "      <td>0.58</td>\n",
       "      <td>0.008</td>\n",
       "      <td>4.24</td>\n",
       "      <td>0.53</td>\n",
       "      <td>0.02</td>\n",
       "      <td>0.99</td>\n",
       "      <td>0.05</td>\n",
       "      <td>0.003</td>\n",
       "      <td>0.078</td>\n",
       "      <td>14.16</td>\n",
       "      <td>1.11</td>\n",
       "      <td>0.006</td>\n",
       "      <td>50.28</td>\n",
       "      <td>7.07</td>\n",
       "      <td>0.07</td>\n",
       "      <td>0.44</td>\n",
       "      <td>0.01</td>\n",
       "      <td>0</td>\n",
       "    </tr>\n",
       "    <tr>\n",
       "      <th>3</th>\n",
       "      <td>1.36</td>\n",
       "      <td>11.33</td>\n",
       "      <td>0.04</td>\n",
       "      <td>2.96</td>\n",
       "      <td>0.001</td>\n",
       "      <td>7.23</td>\n",
       "      <td>0.03</td>\n",
       "      <td>1.66</td>\n",
       "      <td>1.08</td>\n",
       "      <td>0.71</td>\n",
       "      <td>0.710</td>\n",
       "      <td>0.016</td>\n",
       "      <td>1.41</td>\n",
       "      <td>1.29</td>\n",
       "      <td>0.004</td>\n",
       "      <td>9.12</td>\n",
       "      <td>1.72</td>\n",
       "      <td>0.02</td>\n",
       "      <td>0.45</td>\n",
       "      <td>0.05</td>\n",
       "      <td>1</td>\n",
       "    </tr>\n",
       "    <tr>\n",
       "      <th>4</th>\n",
       "      <td>0.92</td>\n",
       "      <td>24.33</td>\n",
       "      <td>0.03</td>\n",
       "      <td>0.20</td>\n",
       "      <td>0.006</td>\n",
       "      <td>2.67</td>\n",
       "      <td>0.69</td>\n",
       "      <td>0.57</td>\n",
       "      <td>0.61</td>\n",
       "      <td>0.13</td>\n",
       "      <td>0.001</td>\n",
       "      <td>0.117</td>\n",
       "      <td>6.74</td>\n",
       "      <td>1.11</td>\n",
       "      <td>0.003</td>\n",
       "      <td>16.90</td>\n",
       "      <td>2.41</td>\n",
       "      <td>0.02</td>\n",
       "      <td>0.06</td>\n",
       "      <td>0.02</td>\n",
       "      <td>1</td>\n",
       "    </tr>\n",
       "  </tbody>\n",
       "</table>\n",
       "</div>"
      ],
      "text/plain": [
       "   aluminium  ammonia  arsenic  barium  cadmium  chloramine  chromium  copper  \\\n",
       "0       1.65     9.08     0.04    2.85    0.007        0.35      0.83    0.17   \n",
       "1       2.32    21.16     0.01    3.31    0.002        5.28      0.68    0.66   \n",
       "2       1.01    14.02     0.04    0.58    0.008        4.24      0.53    0.02   \n",
       "3       1.36    11.33     0.04    2.96    0.001        7.23      0.03    1.66   \n",
       "4       0.92    24.33     0.03    0.20    0.006        2.67      0.69    0.57   \n",
       "\n",
       "   flouride  bacteria  viruses   lead  nitrates  nitrites  mercury  \\\n",
       "0      0.05      0.20    0.000  0.054     16.08      1.13    0.007   \n",
       "1      0.90      0.65    0.650  0.100      2.01      1.93    0.003   \n",
       "2      0.99      0.05    0.003  0.078     14.16      1.11    0.006   \n",
       "3      1.08      0.71    0.710  0.016      1.41      1.29    0.004   \n",
       "4      0.61      0.13    0.001  0.117      6.74      1.11    0.003   \n",
       "\n",
       "   perchlorate  radium  selenium  silver  uranium  is_safe  \n",
       "0        37.75    6.78      0.08    0.34     0.02        1  \n",
       "1        32.26    3.21      0.08    0.27     0.05        1  \n",
       "2        50.28    7.07      0.07    0.44     0.01        0  \n",
       "3         9.12    1.72      0.02    0.45     0.05        1  \n",
       "4        16.90    2.41      0.02    0.06     0.02        1  "
      ]
     },
     "execution_count": 3,
     "metadata": {},
     "output_type": "execute_result"
    }
   ],
   "source": [
    "# Checking top 5 rows of dataset\n",
    "df.head()"
   ]
  },
  {
   "cell_type": "code",
   "execution_count": 4,
   "id": "72d48866",
   "metadata": {
    "execution": {
     "iopub.execute_input": "2022-04-18T15:32:35.066037Z",
     "iopub.status.busy": "2022-04-18T15:32:35.065520Z",
     "iopub.status.idle": "2022-04-18T15:32:35.070084Z",
     "shell.execute_reply": "2022-04-18T15:32:35.069538Z"
    },
    "papermill": {
     "duration": 0.039018,
     "end_time": "2022-04-18T15:32:35.071748",
     "exception": false,
     "start_time": "2022-04-18T15:32:35.032730",
     "status": "completed"
    },
    "tags": []
   },
   "outputs": [
    {
     "data": {
      "text/plain": [
       "(7996, 21)"
      ]
     },
     "execution_count": 4,
     "metadata": {},
     "output_type": "execute_result"
    }
   ],
   "source": [
    "# Checking the shape of the dataset\n",
    "df.shape"
   ]
  },
  {
   "cell_type": "markdown",
   "id": "0af7dae1",
   "metadata": {
    "papermill": {
     "duration": 0.028246,
     "end_time": "2022-04-18T15:32:35.127158",
     "exception": false,
     "start_time": "2022-04-18T15:32:35.098912",
     "status": "completed"
    },
    "tags": []
   },
   "source": [
    "We can see there are 21 columns in the dataset, the first 20 columns are the independent features, **\"is_safe\"** is the dependent variable that we need to predict.\n",
    "\n",
    "There are 7996 rows, we will be splitting these records for training and testing purposes.\n",
    "\n",
    "Let us check if there are any null values in the dataset."
   ]
  },
  {
   "cell_type": "code",
   "execution_count": 5,
   "id": "84558c89",
   "metadata": {
    "execution": {
     "iopub.execute_input": "2022-04-18T15:32:35.181988Z",
     "iopub.status.busy": "2022-04-18T15:32:35.181513Z",
     "iopub.status.idle": "2022-04-18T15:32:35.188752Z",
     "shell.execute_reply": "2022-04-18T15:32:35.188280Z"
    },
    "papermill": {
     "duration": 0.036405,
     "end_time": "2022-04-18T15:32:35.190390",
     "exception": false,
     "start_time": "2022-04-18T15:32:35.153985",
     "status": "completed"
    },
    "tags": []
   },
   "outputs": [
    {
     "data": {
      "text/plain": [
       "aluminium      0\n",
       "ammonia        0\n",
       "arsenic        0\n",
       "barium         0\n",
       "cadmium        0\n",
       "chloramine     0\n",
       "chromium       0\n",
       "copper         0\n",
       "flouride       0\n",
       "bacteria       0\n",
       "viruses        0\n",
       "lead           0\n",
       "nitrates       0\n",
       "nitrites       0\n",
       "mercury        0\n",
       "perchlorate    0\n",
       "radium         0\n",
       "selenium       0\n",
       "silver         0\n",
       "uranium        0\n",
       "is_safe        0\n",
       "dtype: int64"
      ]
     },
     "execution_count": 5,
     "metadata": {},
     "output_type": "execute_result"
    }
   ],
   "source": [
    "df.isnull().sum()"
   ]
  },
  {
   "cell_type": "markdown",
   "id": "3cab72be",
   "metadata": {
    "papermill": {
     "duration": 0.026934,
     "end_time": "2022-04-18T15:32:35.244620",
     "exception": false,
     "start_time": "2022-04-18T15:32:35.217686",
     "status": "completed"
    },
    "tags": []
   },
   "source": [
    "There are no null values in the dataset.\n",
    "\n",
    "Next we will check how the target class is distributed."
   ]
  },
  {
   "cell_type": "code",
   "execution_count": 6,
   "id": "f051296e",
   "metadata": {
    "execution": {
     "iopub.execute_input": "2022-04-18T15:32:35.300269Z",
     "iopub.status.busy": "2022-04-18T15:32:35.299752Z",
     "iopub.status.idle": "2022-04-18T15:32:35.310906Z",
     "shell.execute_reply": "2022-04-18T15:32:35.310122Z"
    },
    "papermill": {
     "duration": 0.041161,
     "end_time": "2022-04-18T15:32:35.312834",
     "exception": false,
     "start_time": "2022-04-18T15:32:35.271673",
     "status": "completed"
    },
    "tags": []
   },
   "outputs": [
    {
     "data": {
      "text/plain": [
       "0    7084\n",
       "1     912\n",
       "Name: is_safe, dtype: int64"
      ]
     },
     "execution_count": 6,
     "metadata": {},
     "output_type": "execute_result"
    }
   ],
   "source": [
    "# Class label count\n",
    "df[\"is_safe\"].value_counts()"
   ]
  },
  {
   "cell_type": "code",
   "execution_count": 7,
   "id": "43d1c7e8",
   "metadata": {
    "execution": {
     "iopub.execute_input": "2022-04-18T15:32:35.371042Z",
     "iopub.status.busy": "2022-04-18T15:32:35.370781Z",
     "iopub.status.idle": "2022-04-18T15:32:35.377669Z",
     "shell.execute_reply": "2022-04-18T15:32:35.376892Z"
    },
    "papermill": {
     "duration": 0.038419,
     "end_time": "2022-04-18T15:32:35.379931",
     "exception": false,
     "start_time": "2022-04-18T15:32:35.341512",
     "status": "completed"
    },
    "tags": []
   },
   "outputs": [
    {
     "data": {
      "text/plain": [
       "0    0.885943\n",
       "1    0.114057\n",
       "Name: is_safe, dtype: float64"
      ]
     },
     "execution_count": 7,
     "metadata": {},
     "output_type": "execute_result"
    }
   ],
   "source": [
    "# Percentage distribution\n",
    "df['is_safe'].value_counts(normalize=True)"
   ]
  },
  {
   "cell_type": "markdown",
   "id": "db5d0449",
   "metadata": {
    "papermill": {
     "duration": 0.02822,
     "end_time": "2022-04-18T15:32:35.436914",
     "exception": false,
     "start_time": "2022-04-18T15:32:35.408694",
     "status": "completed"
    },
    "tags": []
   },
   "source": [
    "Out of a total of 7996 records, 7084 or 88.59% records belong to 0 class and 912 or 11.40% records belong to the 1 class. The distribution of the classes are unbalanced which means when making predictions there is a high chance that the result might be more concentrated on 0 class."
   ]
  },
  {
   "cell_type": "markdown",
   "id": "bc7d3f64",
   "metadata": {
    "papermill": {
     "duration": 0.02792,
     "end_time": "2022-04-18T15:32:35.493710",
     "exception": false,
     "start_time": "2022-04-18T15:32:35.465790",
     "status": "completed"
    },
    "tags": []
   },
   "source": [
    "**Step 2: Defining input(x)-output(y) features**\n",
    "\n",
    "Now we have understood and identified the features, here we will bound the input features to the variable X and output feature to variable y, this step is necessary as the model takes the data in X and y form."
   ]
  },
  {
   "cell_type": "code",
   "execution_count": 8,
   "id": "cfafa15f",
   "metadata": {
    "execution": {
     "iopub.execute_input": "2022-04-18T15:32:35.551358Z",
     "iopub.status.busy": "2022-04-18T15:32:35.551062Z",
     "iopub.status.idle": "2022-04-18T15:32:35.558026Z",
     "shell.execute_reply": "2022-04-18T15:32:35.557311Z"
    },
    "papermill": {
     "duration": 0.038259,
     "end_time": "2022-04-18T15:32:35.559788",
     "exception": false,
     "start_time": "2022-04-18T15:32:35.521529",
     "status": "completed"
    },
    "tags": []
   },
   "outputs": [],
   "source": [
    "# Defining input (X) and output (y) features\n",
    "X = df.iloc[:,:-1].values\n",
    "y = df.iloc[:, -1].values"
   ]
  },
  {
   "cell_type": "markdown",
   "id": "ab895c42",
   "metadata": {
    "papermill": {
     "duration": 0.026636,
     "end_time": "2022-04-18T15:32:35.614004",
     "exception": false,
     "start_time": "2022-04-18T15:32:35.587368",
     "status": "completed"
    },
    "tags": []
   },
   "source": [
    "After bounding the data, let’s now create a pair of training and testing sets by using the train_test_split() function from the SK-Learn library which will be used in the training and testing phase respectively.\n",
    "\n",
    "As the data classes are unbalanced we will distribute the data in a stratified manner so that both train and test set contain similar proportion of both class labels"
   ]
  },
  {
   "cell_type": "code",
   "execution_count": 9,
   "id": "9ede7759",
   "metadata": {
    "execution": {
     "iopub.execute_input": "2022-04-18T15:32:35.670202Z",
     "iopub.status.busy": "2022-04-18T15:32:35.669807Z",
     "iopub.status.idle": "2022-04-18T15:32:36.625646Z",
     "shell.execute_reply": "2022-04-18T15:32:36.624874Z"
    },
    "papermill": {
     "duration": 0.986664,
     "end_time": "2022-04-18T15:32:36.627978",
     "exception": false,
     "start_time": "2022-04-18T15:32:35.641314",
     "status": "completed"
    },
    "tags": []
   },
   "outputs": [],
   "source": [
    "# Creating training and test patterns\n",
    "from sklearn.model_selection import train_test_split\n",
    "X_train, X_test, y_train, y_test = train_test_split(X, y, test_size = 0.30, shuffle=True, random_state = 0)"
   ]
  },
  {
   "cell_type": "markdown",
   "id": "fc3d8db8",
   "metadata": {
    "papermill": {
     "duration": 0.02678,
     "end_time": "2022-04-18T15:32:36.681798",
     "exception": false,
     "start_time": "2022-04-18T15:32:36.655018",
     "status": "completed"
    },
    "tags": []
   },
   "source": [
    "Let’s check the shape of the training and testing data."
   ]
  },
  {
   "cell_type": "code",
   "execution_count": 10,
   "id": "f839a961",
   "metadata": {
    "execution": {
     "iopub.execute_input": "2022-04-18T15:32:36.738452Z",
     "iopub.status.busy": "2022-04-18T15:32:36.737852Z",
     "iopub.status.idle": "2022-04-18T15:32:36.744018Z",
     "shell.execute_reply": "2022-04-18T15:32:36.743368Z"
    },
    "papermill": {
     "duration": 0.03681,
     "end_time": "2022-04-18T15:32:36.745765",
     "exception": false,
     "start_time": "2022-04-18T15:32:36.708955",
     "status": "completed"
    },
    "tags": []
   },
   "outputs": [
    {
     "data": {
      "text/plain": [
       "((5597, 20), (2399, 20))"
      ]
     },
     "execution_count": 10,
     "metadata": {},
     "output_type": "execute_result"
    }
   ],
   "source": [
    "# Checking shape of training and test sets\n",
    "X_train.shape, X_test.shape"
   ]
  },
  {
   "cell_type": "markdown",
   "id": "26b6b9c1",
   "metadata": {
    "papermill": {
     "duration": 0.027176,
     "end_time": "2022-04-18T15:32:36.799980",
     "exception": false,
     "start_time": "2022-04-18T15:32:36.772804",
     "status": "completed"
    },
    "tags": []
   },
   "source": [
    "Let us check percentage distribution of target classes in training and test sets"
   ]
  },
  {
   "cell_type": "code",
   "execution_count": 11,
   "id": "2c605749",
   "metadata": {
    "execution": {
     "iopub.execute_input": "2022-04-18T15:32:36.856706Z",
     "iopub.status.busy": "2022-04-18T15:32:36.856124Z",
     "iopub.status.idle": "2022-04-18T15:32:36.864013Z",
     "shell.execute_reply": "2022-04-18T15:32:36.863482Z"
    },
    "papermill": {
     "duration": 0.038906,
     "end_time": "2022-04-18T15:32:36.865691",
     "exception": false,
     "start_time": "2022-04-18T15:32:36.826785",
     "status": "completed"
    },
    "tags": []
   },
   "outputs": [
    {
     "data": {
      "text/plain": [
       "(0.11309630159013757, 0.11629845769070446)"
      ]
     },
     "execution_count": 11,
     "metadata": {},
     "output_type": "execute_result"
    }
   ],
   "source": [
    "y_train.sum()/len(y_train), y_test.sum()/len(y_test)"
   ]
  },
  {
   "cell_type": "markdown",
   "id": "44b65fc0",
   "metadata": {
    "papermill": {
     "duration": 0.028262,
     "end_time": "2022-04-18T15:32:36.920966",
     "exception": false,
     "start_time": "2022-04-18T15:32:36.892704",
     "status": "completed"
    },
    "tags": []
   },
   "source": [
    "**Step 3: Initializing and training the eXtremely Gradient Boosting Classifier**\n",
    "\n",
    "The XGBoost is developed and being maintained by the distributed ML community, to use this algorithm we first need to install it using the pip command."
   ]
  },
  {
   "cell_type": "code",
   "execution_count": 12,
   "id": "66fc5999",
   "metadata": {
    "execution": {
     "iopub.execute_input": "2022-04-18T15:32:36.978183Z",
     "iopub.status.busy": "2022-04-18T15:32:36.977719Z",
     "iopub.status.idle": "2022-04-18T15:32:47.743522Z",
     "shell.execute_reply": "2022-04-18T15:32:47.742261Z"
    },
    "papermill": {
     "duration": 10.797386,
     "end_time": "2022-04-18T15:32:47.746011",
     "exception": false,
     "start_time": "2022-04-18T15:32:36.948625",
     "status": "completed"
    },
    "tags": []
   },
   "outputs": [
    {
     "name": "stdout",
     "output_type": "stream",
     "text": [
      "Requirement already satisfied: xgboost in /opt/conda/lib/python3.7/site-packages (1.5.2)\r\n",
      "Requirement already satisfied: numpy in /opt/conda/lib/python3.7/site-packages (from xgboost) (1.21.5)\r\n",
      "Requirement already satisfied: scipy in /opt/conda/lib/python3.7/site-packages (from xgboost) (1.7.3)\r\n",
      "\u001b[33mWARNING: Running pip as the 'root' user can result in broken permissions and conflicting behaviour with the system package manager. It is recommended to use a virtual environment instead: https://pip.pypa.io/warnings/venv\u001b[0m\u001b[33m\r\n",
      "\u001b[0m"
     ]
    }
   ],
   "source": [
    "# Install the package\n",
    "! pip install xgboost"
   ]
  },
  {
   "cell_type": "markdown",
   "id": "a4f488d6",
   "metadata": {
    "papermill": {
     "duration": 0.027752,
     "end_time": "2022-04-18T15:32:47.803100",
     "exception": false,
     "start_time": "2022-04-18T15:32:47.775348",
     "status": "completed"
    },
    "tags": []
   },
   "source": [
    "After successfully installing, below is how we can import, initialize and train the XGBClassifier."
   ]
  },
  {
   "cell_type": "code",
   "execution_count": 13,
   "id": "928ae066",
   "metadata": {
    "execution": {
     "iopub.execute_input": "2022-04-18T15:32:47.861182Z",
     "iopub.status.busy": "2022-04-18T15:32:47.860914Z",
     "iopub.status.idle": "2022-04-18T15:32:55.127491Z",
     "shell.execute_reply": "2022-04-18T15:32:55.126728Z"
    },
    "papermill": {
     "duration": 7.297607,
     "end_time": "2022-04-18T15:32:55.129332",
     "exception": false,
     "start_time": "2022-04-18T15:32:47.831725",
     "status": "completed"
    },
    "tags": []
   },
   "outputs": [
    {
     "name": "stdout",
     "output_type": "stream",
     "text": [
      "[15:32:47] WARNING: ../src/learner.cc:1115: Starting in XGBoost 1.3.0, the default evaluation metric used with the objective 'binary:logistic' was changed from 'error' to 'logloss'. Explicitly set eval_metric if you'd like to restore the old behavior.\n"
     ]
    },
    {
     "data": {
      "text/plain": [
       "XGBClassifier(base_score=0.5, booster='gbtree', colsample_bylevel=1,\n",
       "              colsample_bynode=1, colsample_bytree=1, enable_categorical=False,\n",
       "              gamma=0, gpu_id=-1, importance_type=None,\n",
       "              interaction_constraints='', learning_rate=0.1, max_delta_step=0,\n",
       "              max_depth=10, min_child_weight=1, missing=nan,\n",
       "              monotone_constraints='()', n_estimators=1000, n_jobs=4,\n",
       "              num_parallel_tree=1, predictor='auto', random_state=0,\n",
       "              reg_alpha=0, reg_lambda=1, scale_pos_weight=1, subsample=1,\n",
       "              tree_method='exact', use_label_encoder=False,\n",
       "              validate_parameters=1, verbosity=None)"
      ]
     },
     "execution_count": 13,
     "metadata": {},
     "output_type": "execute_result"
    }
   ],
   "source": [
    "# Defining the  Classifier\n",
    "from xgboost import XGBClassifier\n",
    "classifier = XGBClassifier(n_estimators = 1000, max_depth =10, learning_rate = 0.1, use_label_encoder=False)\n",
    "\n",
    "# Training the XGB classifier\n",
    "classifier.fit(X_train, y_train)"
   ]
  },
  {
   "cell_type": "markdown",
   "id": "f5e20eb5",
   "metadata": {
    "papermill": {
     "duration": 0.034546,
     "end_time": "2022-04-18T15:32:55.194447",
     "exception": false,
     "start_time": "2022-04-18T15:32:55.159901",
     "status": "completed"
    },
    "tags": []
   },
   "source": [
    "**Step 4: Predicting and evaluating the classifier**\n",
    "\n",
    "After successfully training the classifier in this section we first make predictions on test data and will compare the prediction with actual truth."
   ]
  },
  {
   "cell_type": "code",
   "execution_count": 14,
   "id": "cf7a832d",
   "metadata": {
    "execution": {
     "iopub.execute_input": "2022-04-18T15:32:55.260761Z",
     "iopub.status.busy": "2022-04-18T15:32:55.260178Z",
     "iopub.status.idle": "2022-04-18T15:32:55.343486Z",
     "shell.execute_reply": "2022-04-18T15:32:55.342787Z"
    },
    "papermill": {
     "duration": 0.117558,
     "end_time": "2022-04-18T15:32:55.345828",
     "exception": false,
     "start_time": "2022-04-18T15:32:55.228270",
     "status": "completed"
    },
    "tags": []
   },
   "outputs": [
    {
     "data": {
      "text/html": [
       "<div>\n",
       "<style scoped>\n",
       "    .dataframe tbody tr th:only-of-type {\n",
       "        vertical-align: middle;\n",
       "    }\n",
       "\n",
       "    .dataframe tbody tr th {\n",
       "        vertical-align: top;\n",
       "    }\n",
       "\n",
       "    .dataframe thead th {\n",
       "        text-align: right;\n",
       "    }\n",
       "</style>\n",
       "<table border=\"1\" class=\"dataframe\">\n",
       "  <thead>\n",
       "    <tr style=\"text-align: right;\">\n",
       "      <th></th>\n",
       "      <th>Actual Labels</th>\n",
       "      <th>Predicted Labels</th>\n",
       "    </tr>\n",
       "  </thead>\n",
       "  <tbody>\n",
       "    <tr>\n",
       "      <th>0</th>\n",
       "      <td>0</td>\n",
       "      <td>0</td>\n",
       "    </tr>\n",
       "    <tr>\n",
       "      <th>1</th>\n",
       "      <td>0</td>\n",
       "      <td>0</td>\n",
       "    </tr>\n",
       "    <tr>\n",
       "      <th>2</th>\n",
       "      <td>0</td>\n",
       "      <td>0</td>\n",
       "    </tr>\n",
       "    <tr>\n",
       "      <th>3</th>\n",
       "      <td>0</td>\n",
       "      <td>0</td>\n",
       "    </tr>\n",
       "    <tr>\n",
       "      <th>4</th>\n",
       "      <td>0</td>\n",
       "      <td>0</td>\n",
       "    </tr>\n",
       "  </tbody>\n",
       "</table>\n",
       "</div>"
      ],
      "text/plain": [
       "   Actual Labels  Predicted Labels\n",
       "0              0                 0\n",
       "1              0                 0\n",
       "2              0                 0\n",
       "3              0                 0\n",
       "4              0                 0"
      ]
     },
     "execution_count": 14,
     "metadata": {},
     "output_type": "execute_result"
    }
   ],
   "source": [
    "# Making predictions with the test data\n",
    "y_pred = classifier.predict(X_test)\n",
    "# Combining the actual and predicted values\n",
    "pd.DataFrame(data={'Actual Labels': y_test, 'Predicted Labels': y_pred}).head()"
   ]
  },
  {
   "cell_type": "markdown",
   "id": "11d63195",
   "metadata": {
    "papermill": {
     "duration": 0.030581,
     "end_time": "2022-04-18T15:32:55.412730",
     "exception": false,
     "start_time": "2022-04-18T15:32:55.382149",
     "status": "completed"
    },
    "tags": []
   },
   "source": [
    "From the above comparison, each actual label is being predicted accurately but there might be some instances where the model has made inaccurate predictions. Let’s reveal those all using the confusion matrix."
   ]
  },
  {
   "cell_type": "code",
   "execution_count": 15,
   "id": "ae025928",
   "metadata": {
    "execution": {
     "iopub.execute_input": "2022-04-18T15:32:55.502061Z",
     "iopub.status.busy": "2022-04-18T15:32:55.501083Z",
     "iopub.status.idle": "2022-04-18T15:32:55.873883Z",
     "shell.execute_reply": "2022-04-18T15:32:55.872984Z"
    },
    "papermill": {
     "duration": 0.418497,
     "end_time": "2022-04-18T15:32:55.875973",
     "exception": false,
     "start_time": "2022-04-18T15:32:55.457476",
     "status": "completed"
    },
    "tags": []
   },
   "outputs": [
    {
     "name": "stderr",
     "output_type": "stream",
     "text": [
      "/opt/conda/lib/python3.7/site-packages/sklearn/utils/deprecation.py:87: FutureWarning: Function plot_confusion_matrix is deprecated; Function `plot_confusion_matrix` is deprecated in 1.0 and will be removed in 1.2. Use one of the class methods: ConfusionMatrixDisplay.from_predictions or ConfusionMatrixDisplay.from_estimator.\n",
      "  warnings.warn(msg, category=FutureWarning)\n"
     ]
    },
    {
     "data": {
      "text/plain": [
       "<sklearn.metrics._plot.confusion_matrix.ConfusionMatrixDisplay at 0x7fef18d490d0>"
      ]
     },
     "execution_count": 15,
     "metadata": {},
     "output_type": "execute_result"
    },
    {
     "data": {
      "image/png": "[encoded data removed]",
      "text/plain": [
       "<Figure size 432x288 with 2 Axes>"
      ]
     },
     "metadata": {
      "needs_background": "light"
     },
     "output_type": "display_data"
    }
   ],
   "source": [
    "# Confusion matrix\n",
    "from sklearn.metrics import plot_confusion_matrix\n",
    "plot_confusion_matrix(classifier, X_test, y_test, cmap='Blues')"
   ]
  },
  {
   "cell_type": "markdown",
   "id": "f1099564",
   "metadata": {
    "papermill": {
     "duration": 0.032521,
     "end_time": "2022-04-18T15:32:55.940920",
     "exception": false,
     "start_time": "2022-04-18T15:32:55.908399",
     "status": "completed"
    },
    "tags": []
   },
   "source": [
    "Out of 2399 test records, 2102+231= 2333 labels are accurately predicted and 48+18=66 labels are inaccurately predicted. \n",
    "\n",
    "Now let’s obtain the test accuracy of the classifier. "
   ]
  },
  {
   "cell_type": "code",
   "execution_count": 16,
   "id": "c372e0ac",
   "metadata": {
    "execution": {
     "iopub.execute_input": "2022-04-18T15:32:56.013100Z",
     "iopub.status.busy": "2022-04-18T15:32:56.012531Z",
     "iopub.status.idle": "2022-04-18T15:32:56.019126Z",
     "shell.execute_reply": "2022-04-18T15:32:56.018482Z"
    },
    "papermill": {
     "duration": 0.043369,
     "end_time": "2022-04-18T15:32:56.020978",
     "exception": false,
     "start_time": "2022-04-18T15:32:55.977609",
     "status": "completed"
    },
    "tags": []
   },
   "outputs": [
    {
     "data": {
      "text/plain": [
       "0.972488536890371"
      ]
     },
     "execution_count": 16,
     "metadata": {},
     "output_type": "execute_result"
    }
   ],
   "source": [
    "# Accuracy score\n",
    "from sklearn.metrics import accuracy_score\n",
    "accuracy_score(y_test, y_pred)"
   ]
  },
  {
   "cell_type": "markdown",
   "id": "fc455b78",
   "metadata": {
    "papermill": {
     "duration": 0.033343,
     "end_time": "2022-04-18T15:32:56.087806",
     "exception": false,
     "start_time": "2022-04-18T15:32:56.054463",
     "status": "completed"
    },
    "tags": []
   },
   "source": [
    "For the final evaluation of the classifier let’s use the classification report which asses the model on various parameters, and by observing the score we can conclude the performance of the model."
   ]
  },
  {
   "cell_type": "code",
   "execution_count": 17,
   "id": "ebc58aa7",
   "metadata": {
    "execution": {
     "iopub.execute_input": "2022-04-18T15:32:56.159363Z",
     "iopub.status.busy": "2022-04-18T15:32:56.159081Z",
     "iopub.status.idle": "2022-04-18T15:32:56.172053Z",
     "shell.execute_reply": "2022-04-18T15:32:56.171009Z"
    },
    "papermill": {
     "duration": 0.050084,
     "end_time": "2022-04-18T15:32:56.174032",
     "exception": false,
     "start_time": "2022-04-18T15:32:56.123948",
     "status": "completed"
    },
    "tags": []
   },
   "outputs": [
    {
     "name": "stdout",
     "output_type": "stream",
     "text": [
      "              precision    recall  f1-score   support\n",
      "\n",
      "           0       0.98      0.99      0.98      2120\n",
      "           1       0.93      0.83      0.87       279\n",
      "\n",
      "    accuracy                           0.97      2399\n",
      "   macro avg       0.95      0.91      0.93      2399\n",
      "weighted avg       0.97      0.97      0.97      2399\n",
      "\n"
     ]
    }
   ],
   "source": [
    "# Classification report\n",
    "from sklearn.metrics import classification_report\n",
    "print(classification_report(y_test, y_pred))"
   ]
  },
  {
   "cell_type": "markdown",
   "id": "0eb844d8",
   "metadata": {
    "papermill": {
     "duration": 0.032531,
     "end_time": "2022-04-18T15:32:56.239911",
     "exception": false,
     "start_time": "2022-04-18T15:32:56.207380",
     "status": "completed"
    },
    "tags": []
   },
   "source": [
    "In the first step, we observed that the distribution of the classes is imbalanced and we thought the prediction would be concentrated on the class label 0. But from the above classification report, we can say that the XGBoost classifier handles the imbalance dataset very well and the classifier is also well evaluated on the above parameters. \n",
    "\n",
    "So this is how we can use the XGBoost classifier to address the binary classification problem."
   ]
  }
 ],
 "metadata": {
  "kernelspec": {
   "display_name": "Python 3",
   "language": "python",
   "name": "python3"
  },
  "language_info": {
   "codemirror_mode": {
    "name": "ipython",
    "version": 3
   },
   "file_extension": ".py",
   "mimetype": "text/x-python",
   "name": "python",
   "nbconvert_exporter": "python",
   "pygments_lexer": "ipython3",
   "version": "3.7.12"
  },
  "papermill": {
   "default_parameters": {},
   "duration": 31.714361,
   "end_time": "2022-04-18T15:32:56.994711",
   "environment_variables": {},
   "exception": null,
   "input_path": "__notebook__.ipynb",
   "output_path": "__notebook__.ipynb",
   "parameters": {},
   "start_time": "2022-04-18T15:32:25.280350",
   "version": "2.3.4"
  }
 },
 "nbformat": 4,
 "nbformat_minor": 5
}
