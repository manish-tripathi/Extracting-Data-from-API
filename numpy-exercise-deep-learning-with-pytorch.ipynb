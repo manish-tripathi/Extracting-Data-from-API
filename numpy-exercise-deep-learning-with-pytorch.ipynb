{
 "cells": [
  {
   "cell_type": "markdown",
   "id": "52bdf2d3",
   "metadata": {
    "papermill": {
     "duration": 0.013065,
     "end_time": "2022-10-09T19:03:22.922535",
     "exception": false,
     "start_time": "2022-10-09T19:03:22.909470",
     "status": "completed"
    },
    "tags": []
   },
   "source": [
    "___\n",
    "\n",
    "<a href='http://www.pieriandata.com'><img src='../Pierian_Data_Logo.png'/></a>\n",
    "___\n",
    "<center><em>Copyright Pierian Data</em></center>\n",
    "<center><em>For more information, visit us at <a href='http://www.pieriandata.com'>www.pieriandata.com</a></em></center>"
   ]
  },
  {
   "cell_type": "markdown",
   "id": "4dab86fe",
   "metadata": {
    "papermill": {
     "duration": 0.011389,
     "end_time": "2022-10-09T19:03:22.945766",
     "exception": false,
     "start_time": "2022-10-09T19:03:22.934377",
     "status": "completed"
    },
    "tags": []
   },
   "source": [
    "# NumPy Exercises\n",
    "\n",
    "Now that we've learned about NumPy let's test your knowledge. We'll start off with a few simple tasks and then you'll be asked some more complicated questions.\n",
    "\n",
    "<div class=\"alert alert-danger\" style=\"margin: 10px\"><strong>IMPORTANT NOTE!</strong> Make sure you don't run the cells directly above the example output shown, <br>otherwise you will end up writing over the example output!</div>"
   ]
  },
  {
   "cell_type": "markdown",
   "id": "8cd3d992",
   "metadata": {
    "papermill": {
     "duration": 0.011344,
     "end_time": "2022-10-09T19:03:22.970998",
     "exception": false,
     "start_time": "2022-10-09T19:03:22.959654",
     "status": "completed"
    },
    "tags": []
   },
   "source": [
    "#### 1. Import NumPy as np"
   ]
  },
  {
   "cell_type": "code",
   "execution_count": 1,
   "id": "e7a39e32",
   "metadata": {
    "execution": {
     "iopub.execute_input": "2022-10-09T19:03:22.996551Z",
     "iopub.status.busy": "2022-10-09T19:03:22.995911Z",
     "iopub.status.idle": "2022-10-09T19:03:23.005105Z",
     "shell.execute_reply": "2022-10-09T19:03:23.004075Z"
    },
    "papermill": {
     "duration": 0.024799,
     "end_time": "2022-10-09T19:03:23.007504",
     "exception": false,
     "start_time": "2022-10-09T19:03:22.982705",
     "status": "completed"
    },
    "tags": []
   },
   "outputs": [],
   "source": [
    "import numpy as np"
   ]
  },
  {
   "cell_type": "markdown",
   "id": "841aa265",
   "metadata": {
    "papermill": {
     "duration": 0.011502,
     "end_time": "2022-10-09T19:03:23.031379",
     "exception": false,
     "start_time": "2022-10-09T19:03:23.019877",
     "status": "completed"
    },
    "tags": []
   },
   "source": [
    "#### 2. Create an array of 10 zeros "
   ]
  },
  {
   "cell_type": "code",
   "execution_count": 2,
   "id": "423819f1",
   "metadata": {
    "execution": {
     "iopub.execute_input": "2022-10-09T19:03:23.056491Z",
     "iopub.status.busy": "2022-10-09T19:03:23.056086Z",
     "iopub.status.idle": "2022-10-09T19:03:23.064633Z",
     "shell.execute_reply": "2022-10-09T19:03:23.063704Z"
    },
    "papermill": {
     "duration": 0.024105,
     "end_time": "2022-10-09T19:03:23.067215",
     "exception": false,
     "start_time": "2022-10-09T19:03:23.043110",
     "status": "completed"
    },
    "tags": []
   },
   "outputs": [
    {
     "data": {
      "text/plain": [
       "array([0., 0., 0., 0., 0., 0., 0., 0., 0., 0.])"
      ]
     },
     "execution_count": 2,
     "metadata": {},
     "output_type": "execute_result"
    }
   ],
   "source": [
    "# CODE HERE\n",
    "np.zeros(10)"
   ]
  },
  {
   "cell_type": "code",
   "execution_count": 3,
   "id": "d05ae4bd",
   "metadata": {
    "execution": {
     "iopub.execute_input": "2022-10-09T19:03:23.093348Z",
     "iopub.status.busy": "2022-10-09T19:03:23.092981Z",
     "iopub.status.idle": "2022-10-09T19:03:23.097037Z",
     "shell.execute_reply": "2022-10-09T19:03:23.096053Z"
    },
    "papermill": {
     "duration": 0.019511,
     "end_time": "2022-10-09T19:03:23.099111",
     "exception": false,
     "start_time": "2022-10-09T19:03:23.079600",
     "status": "completed"
    },
    "tags": []
   },
   "outputs": [],
   "source": [
    "# DON'T WRITE HERE"
   ]
  },
  {
   "cell_type": "markdown",
   "id": "001d5425",
   "metadata": {
    "papermill": {
     "duration": 0.011574,
     "end_time": "2022-10-09T19:03:23.122568",
     "exception": false,
     "start_time": "2022-10-09T19:03:23.110994",
     "status": "completed"
    },
    "tags": []
   },
   "source": [
    "#### 3. Create an array of 10 ones"
   ]
  },
  {
   "cell_type": "code",
   "execution_count": 4,
   "id": "6c009829",
   "metadata": {
    "execution": {
     "iopub.execute_input": "2022-10-09T19:03:23.148045Z",
     "iopub.status.busy": "2022-10-09T19:03:23.147670Z",
     "iopub.status.idle": "2022-10-09T19:03:23.154302Z",
     "shell.execute_reply": "2022-10-09T19:03:23.153231Z"
    },
    "papermill": {
     "duration": 0.021991,
     "end_time": "2022-10-09T19:03:23.156514",
     "exception": false,
     "start_time": "2022-10-09T19:03:23.134523",
     "status": "completed"
    },
    "tags": []
   },
   "outputs": [
    {
     "data": {
      "text/plain": [
       "array([1., 1., 1., 1., 1., 1., 1., 1., 1., 1.])"
      ]
     },
     "execution_count": 4,
     "metadata": {},
     "output_type": "execute_result"
    }
   ],
   "source": [
    "np.ones(10)"
   ]
  },
  {
   "cell_type": "code",
   "execution_count": 5,
   "id": "1e17e416",
   "metadata": {
    "execution": {
     "iopub.execute_input": "2022-10-09T19:03:23.184720Z",
     "iopub.status.busy": "2022-10-09T19:03:23.183779Z",
     "iopub.status.idle": "2022-10-09T19:03:23.188249Z",
     "shell.execute_reply": "2022-10-09T19:03:23.187385Z"
    },
    "papermill": {
     "duration": 0.019524,
     "end_time": "2022-10-09T19:03:23.190369",
     "exception": false,
     "start_time": "2022-10-09T19:03:23.170845",
     "status": "completed"
    },
    "tags": []
   },
   "outputs": [],
   "source": [
    "# DON'T WRITE HERE"
   ]
  },
  {
   "cell_type": "markdown",
   "id": "badfd954",
   "metadata": {
    "papermill": {
     "duration": 0.011484,
     "end_time": "2022-10-09T19:03:23.213762",
     "exception": false,
     "start_time": "2022-10-09T19:03:23.202278",
     "status": "completed"
    },
    "tags": []
   },
   "source": [
    "#### 4. Create an array of 10 fives"
   ]
  },
  {
   "cell_type": "code",
   "execution_count": 6,
   "id": "c360d76a",
   "metadata": {
    "execution": {
     "iopub.execute_input": "2022-10-09T19:03:23.239717Z",
     "iopub.status.busy": "2022-10-09T19:03:23.239294Z",
     "iopub.status.idle": "2022-10-09T19:03:23.246728Z",
     "shell.execute_reply": "2022-10-09T19:03:23.245598Z"
    },
    "papermill": {
     "duration": 0.023101,
     "end_time": "2022-10-09T19:03:23.248971",
     "exception": false,
     "start_time": "2022-10-09T19:03:23.225870",
     "status": "completed"
    },
    "tags": []
   },
   "outputs": [
    {
     "data": {
      "text/plain": [
       "array([5., 5., 5., 5., 5., 5., 5., 5., 5., 5.])"
      ]
     },
     "execution_count": 6,
     "metadata": {},
     "output_type": "execute_result"
    }
   ],
   "source": [
    "np.ones(10)+4"
   ]
  },
  {
   "cell_type": "code",
   "execution_count": 7,
   "id": "bd2cff4c",
   "metadata": {
    "execution": {
     "iopub.execute_input": "2022-10-09T19:03:23.275233Z",
     "iopub.status.busy": "2022-10-09T19:03:23.274868Z",
     "iopub.status.idle": "2022-10-09T19:03:23.279110Z",
     "shell.execute_reply": "2022-10-09T19:03:23.278146Z"
    },
    "papermill": {
     "duration": 0.020088,
     "end_time": "2022-10-09T19:03:23.281203",
     "exception": false,
     "start_time": "2022-10-09T19:03:23.261115",
     "status": "completed"
    },
    "tags": []
   },
   "outputs": [],
   "source": [
    "# DON'T WRITE HERE"
   ]
  },
  {
   "cell_type": "markdown",
   "id": "56693c7e",
   "metadata": {
    "papermill": {
     "duration": 0.011842,
     "end_time": "2022-10-09T19:03:23.305165",
     "exception": false,
     "start_time": "2022-10-09T19:03:23.293323",
     "status": "completed"
    },
    "tags": []
   },
   "source": [
    "#### 5. Create an array of the integers from 10 to 50"
   ]
  },
  {
   "cell_type": "code",
   "execution_count": 8,
   "id": "f2498f41",
   "metadata": {
    "execution": {
     "iopub.execute_input": "2022-10-09T19:03:23.331662Z",
     "iopub.status.busy": "2022-10-09T19:03:23.331284Z",
     "iopub.status.idle": "2022-10-09T19:03:23.339865Z",
     "shell.execute_reply": "2022-10-09T19:03:23.338743Z"
    },
    "papermill": {
     "duration": 0.024615,
     "end_time": "2022-10-09T19:03:23.342145",
     "exception": false,
     "start_time": "2022-10-09T19:03:23.317530",
     "status": "completed"
    },
    "tags": []
   },
   "outputs": [
    {
     "data": {
      "text/plain": [
       "array([10, 11, 12, 13, 14, 15, 16, 17, 18, 19, 20, 21, 22, 23, 24, 25, 26,\n",
       "       27, 28, 29, 30, 31, 32, 33, 34, 35, 36, 37, 38, 39, 40, 41, 42, 43,\n",
       "       44, 45, 46, 47, 48, 49, 50])"
      ]
     },
     "execution_count": 8,
     "metadata": {},
     "output_type": "execute_result"
    }
   ],
   "source": [
    "np.arange(10,51)"
   ]
  },
  {
   "cell_type": "code",
   "execution_count": 9,
   "id": "5aaa8b3f",
   "metadata": {
    "execution": {
     "iopub.execute_input": "2022-10-09T19:03:23.368790Z",
     "iopub.status.busy": "2022-10-09T19:03:23.368374Z",
     "iopub.status.idle": "2022-10-09T19:03:23.372738Z",
     "shell.execute_reply": "2022-10-09T19:03:23.371783Z"
    },
    "papermill": {
     "duration": 0.020313,
     "end_time": "2022-10-09T19:03:23.374898",
     "exception": false,
     "start_time": "2022-10-09T19:03:23.354585",
     "status": "completed"
    },
    "tags": []
   },
   "outputs": [],
   "source": [
    "# DON'T WRITE HERE"
   ]
  },
  {
   "cell_type": "markdown",
   "id": "ea0d6298",
   "metadata": {
    "papermill": {
     "duration": 0.011976,
     "end_time": "2022-10-09T19:03:23.398983",
     "exception": false,
     "start_time": "2022-10-09T19:03:23.387007",
     "status": "completed"
    },
    "tags": []
   },
   "source": [
    "#### 6. Create an array of all the even integers from 10 to 50"
   ]
  },
  {
   "cell_type": "code",
   "execution_count": 10,
   "id": "6d0b1cd7",
   "metadata": {
    "execution": {
     "iopub.execute_input": "2022-10-09T19:03:23.425235Z",
     "iopub.status.busy": "2022-10-09T19:03:23.424874Z",
     "iopub.status.idle": "2022-10-09T19:03:23.431690Z",
     "shell.execute_reply": "2022-10-09T19:03:23.430715Z"
    },
    "papermill": {
     "duration": 0.022527,
     "end_time": "2022-10-09T19:03:23.433716",
     "exception": false,
     "start_time": "2022-10-09T19:03:23.411189",
     "status": "completed"
    },
    "tags": []
   },
   "outputs": [
    {
     "data": {
      "text/plain": [
       "array([10, 12, 14, 16, 18, 20, 22, 24, 26, 28, 30, 32, 34, 36, 38, 40, 42,\n",
       "       44, 46, 48, 50])"
      ]
     },
     "execution_count": 10,
     "metadata": {},
     "output_type": "execute_result"
    }
   ],
   "source": [
    "np.arange(10,51,2)"
   ]
  },
  {
   "cell_type": "code",
   "execution_count": 11,
   "id": "2334648c",
   "metadata": {
    "execution": {
     "iopub.execute_input": "2022-10-09T19:03:23.459846Z",
     "iopub.status.busy": "2022-10-09T19:03:23.459397Z",
     "iopub.status.idle": "2022-10-09T19:03:23.463768Z",
     "shell.execute_reply": "2022-10-09T19:03:23.462690Z"
    },
    "papermill": {
     "duration": 0.019891,
     "end_time": "2022-10-09T19:03:23.465831",
     "exception": false,
     "start_time": "2022-10-09T19:03:23.445940",
     "status": "completed"
    },
    "tags": []
   },
   "outputs": [],
   "source": [
    "# DON'T WRITE HERE"
   ]
  },
  {
   "cell_type": "markdown",
   "id": "aa8c2f18",
   "metadata": {
    "papermill": {
     "duration": 0.012008,
     "end_time": "2022-10-09T19:03:23.490200",
     "exception": false,
     "start_time": "2022-10-09T19:03:23.478192",
     "status": "completed"
    },
    "tags": []
   },
   "source": [
    "#### 7. Create a 3x3 matrix with values ranging from 0 to 8"
   ]
  },
  {
   "cell_type": "code",
   "execution_count": 12,
   "id": "c3246131",
   "metadata": {
    "execution": {
     "iopub.execute_input": "2022-10-09T19:03:23.516373Z",
     "iopub.status.busy": "2022-10-09T19:03:23.515962Z",
     "iopub.status.idle": "2022-10-09T19:03:23.523312Z",
     "shell.execute_reply": "2022-10-09T19:03:23.522322Z"
    },
    "papermill": {
     "duration": 0.023036,
     "end_time": "2022-10-09T19:03:23.525583",
     "exception": false,
     "start_time": "2022-10-09T19:03:23.502547",
     "status": "completed"
    },
    "tags": []
   },
   "outputs": [
    {
     "data": {
      "text/plain": [
       "array([[0, 1, 2],\n",
       "       [3, 4, 5],\n",
       "       [6, 7, 8]])"
      ]
     },
     "execution_count": 12,
     "metadata": {},
     "output_type": "execute_result"
    }
   ],
   "source": [
    "np.arange(0,9).reshape(3,3)"
   ]
  },
  {
   "cell_type": "code",
   "execution_count": 13,
   "id": "7df6d770",
   "metadata": {
    "execution": {
     "iopub.execute_input": "2022-10-09T19:03:23.552231Z",
     "iopub.status.busy": "2022-10-09T19:03:23.551820Z",
     "iopub.status.idle": "2022-10-09T19:03:23.556481Z",
     "shell.execute_reply": "2022-10-09T19:03:23.555422Z"
    },
    "papermill": {
     "duration": 0.020459,
     "end_time": "2022-10-09T19:03:23.558567",
     "exception": false,
     "start_time": "2022-10-09T19:03:23.538108",
     "status": "completed"
    },
    "tags": []
   },
   "outputs": [],
   "source": [
    "# DON'T WRITE HERE"
   ]
  },
  {
   "cell_type": "markdown",
   "id": "97e8e4f5",
   "metadata": {
    "papermill": {
     "duration": 0.012063,
     "end_time": "2022-10-09T19:03:23.583205",
     "exception": false,
     "start_time": "2022-10-09T19:03:23.571142",
     "status": "completed"
    },
    "tags": []
   },
   "source": [
    "#### 8. Create a 3x3 identity matrix"
   ]
  },
  {
   "cell_type": "code",
   "execution_count": 14,
   "id": "d8991109",
   "metadata": {
    "execution": {
     "iopub.execute_input": "2022-10-09T19:03:23.609767Z",
     "iopub.status.busy": "2022-10-09T19:03:23.609351Z",
     "iopub.status.idle": "2022-10-09T19:03:23.616288Z",
     "shell.execute_reply": "2022-10-09T19:03:23.615471Z"
    },
    "papermill": {
     "duration": 0.02256,
     "end_time": "2022-10-09T19:03:23.618306",
     "exception": false,
     "start_time": "2022-10-09T19:03:23.595746",
     "status": "completed"
    },
    "tags": []
   },
   "outputs": [
    {
     "data": {
      "text/plain": [
       "array([[1., 0., 0.],\n",
       "       [0., 1., 0.],\n",
       "       [0., 0., 1.]])"
      ]
     },
     "execution_count": 14,
     "metadata": {},
     "output_type": "execute_result"
    }
   ],
   "source": [
    "np.eye(3)"
   ]
  },
  {
   "cell_type": "code",
   "execution_count": 15,
   "id": "0124b1a1",
   "metadata": {
    "execution": {
     "iopub.execute_input": "2022-10-09T19:03:23.645053Z",
     "iopub.status.busy": "2022-10-09T19:03:23.644625Z",
     "iopub.status.idle": "2022-10-09T19:03:23.648824Z",
     "shell.execute_reply": "2022-10-09T19:03:23.647961Z"
    },
    "papermill": {
     "duration": 0.019719,
     "end_time": "2022-10-09T19:03:23.650699",
     "exception": false,
     "start_time": "2022-10-09T19:03:23.630980",
     "status": "completed"
    },
    "tags": []
   },
   "outputs": [],
   "source": [
    "# DON'T WRITE HERE"
   ]
  },
  {
   "cell_type": "markdown",
   "id": "af7c7ab7",
   "metadata": {
    "papermill": {
     "duration": 0.012327,
     "end_time": "2022-10-09T19:03:23.675713",
     "exception": false,
     "start_time": "2022-10-09T19:03:23.663386",
     "status": "completed"
    },
    "tags": []
   },
   "source": [
    "#### 9. Use NumPy to generate a random number between 0 and 1<br><br>&emsp;NOTE: Your result's value should be different from the one shown below."
   ]
  },
  {
   "cell_type": "code",
   "execution_count": 16,
   "id": "3f02b891",
   "metadata": {
    "execution": {
     "iopub.execute_input": "2022-10-09T19:03:23.702521Z",
     "iopub.status.busy": "2022-10-09T19:03:23.702134Z",
     "iopub.status.idle": "2022-10-09T19:03:23.708257Z",
     "shell.execute_reply": "2022-10-09T19:03:23.707510Z"
    },
    "papermill": {
     "duration": 0.021769,
     "end_time": "2022-10-09T19:03:23.710164",
     "exception": false,
     "start_time": "2022-10-09T19:03:23.688395",
     "status": "completed"
    },
    "tags": []
   },
   "outputs": [
    {
     "data": {
      "text/plain": [
       "array([0.67714579])"
      ]
     },
     "execution_count": 16,
     "metadata": {},
     "output_type": "execute_result"
    }
   ],
   "source": [
    "np.random.rand(1)"
   ]
  },
  {
   "cell_type": "code",
   "execution_count": 17,
   "id": "88b96a36",
   "metadata": {
    "execution": {
     "iopub.execute_input": "2022-10-09T19:03:23.737032Z",
     "iopub.status.busy": "2022-10-09T19:03:23.736644Z",
     "iopub.status.idle": "2022-10-09T19:03:23.741311Z",
     "shell.execute_reply": "2022-10-09T19:03:23.740208Z"
    },
    "papermill": {
     "duration": 0.020628,
     "end_time": "2022-10-09T19:03:23.743469",
     "exception": false,
     "start_time": "2022-10-09T19:03:23.722841",
     "status": "completed"
    },
    "tags": []
   },
   "outputs": [],
   "source": [
    "# DON'T WRITE HERE"
   ]
  },
  {
   "cell_type": "markdown",
   "id": "23cb51c0",
   "metadata": {
    "papermill": {
     "duration": 0.012614,
     "end_time": "2022-10-09T19:03:23.769168",
     "exception": false,
     "start_time": "2022-10-09T19:03:23.756554",
     "status": "completed"
    },
    "tags": []
   },
   "source": [
    "#### 10. Use NumPy to generate an array of 25 random numbers sampled from a standard normal distribution<br><br>&emsp;&ensp;NOTE: Your result's values should be different from the ones shown below."
   ]
  },
  {
   "cell_type": "code",
   "execution_count": 18,
   "id": "41f4d30b",
   "metadata": {
    "execution": {
     "iopub.execute_input": "2022-10-09T19:03:23.796396Z",
     "iopub.status.busy": "2022-10-09T19:03:23.795990Z",
     "iopub.status.idle": "2022-10-09T19:03:23.803400Z",
     "shell.execute_reply": "2022-10-09T19:03:23.802462Z"
    },
    "papermill": {
     "duration": 0.023329,
     "end_time": "2022-10-09T19:03:23.805341",
     "exception": false,
     "start_time": "2022-10-09T19:03:23.782012",
     "status": "completed"
    },
    "tags": []
   },
   "outputs": [
    {
     "data": {
      "text/plain": [
       "array([-0.08935057,  0.7225533 ,  1.57865337, -1.96170655,  0.23588216,\n",
       "       -0.4411633 ,  0.09545832,  0.87075495,  0.69993113,  0.44157013,\n",
       "       -0.19529991,  0.73669037,  0.64785893,  0.33227812, -0.47086725,\n",
       "       -0.35098255,  0.44511356, -1.01003484,  1.34041051,  0.33535641,\n",
       "        1.21953133,  1.03288706,  0.36522062, -0.06846379, -1.84627545])"
      ]
     },
     "execution_count": 18,
     "metadata": {},
     "output_type": "execute_result"
    }
   ],
   "source": [
    "np.random.randn(25)"
   ]
  },
  {
   "cell_type": "code",
   "execution_count": 19,
   "id": "3a20f36b",
   "metadata": {
    "execution": {
     "iopub.execute_input": "2022-10-09T19:03:23.832746Z",
     "iopub.status.busy": "2022-10-09T19:03:23.832333Z",
     "iopub.status.idle": "2022-10-09T19:03:23.836474Z",
     "shell.execute_reply": "2022-10-09T19:03:23.835477Z"
    },
    "papermill": {
     "duration": 0.020213,
     "end_time": "2022-10-09T19:03:23.838444",
     "exception": false,
     "start_time": "2022-10-09T19:03:23.818231",
     "status": "completed"
    },
    "tags": []
   },
   "outputs": [],
   "source": [
    "# DON'T WRITE HERE"
   ]
  },
  {
   "cell_type": "markdown",
   "id": "91abb59d",
   "metadata": {
    "papermill": {
     "duration": 0.012664,
     "end_time": "2022-10-09T19:03:23.863988",
     "exception": false,
     "start_time": "2022-10-09T19:03:23.851324",
     "status": "completed"
    },
    "tags": []
   },
   "source": [
    "#### 11. Create the following matrix:"
   ]
  },
  {
   "cell_type": "code",
   "execution_count": 20,
   "id": "dd84ae0a",
   "metadata": {
    "execution": {
     "iopub.execute_input": "2022-10-09T19:03:23.891734Z",
     "iopub.status.busy": "2022-10-09T19:03:23.891306Z",
     "iopub.status.idle": "2022-10-09T19:03:23.899120Z",
     "shell.execute_reply": "2022-10-09T19:03:23.898141Z"
    },
    "papermill": {
     "duration": 0.024197,
     "end_time": "2022-10-09T19:03:23.901139",
     "exception": false,
     "start_time": "2022-10-09T19:03:23.876942",
     "status": "completed"
    },
    "tags": []
   },
   "outputs": [
    {
     "data": {
      "text/plain": [
       "array([[0.01, 0.02, 0.03, 0.04, 0.05, 0.06, 0.07, 0.08, 0.09, 0.1 ],\n",
       "       [0.11, 0.12, 0.13, 0.14, 0.15, 0.16, 0.17, 0.18, 0.19, 0.2 ],\n",
       "       [0.21, 0.22, 0.23, 0.24, 0.25, 0.26, 0.27, 0.28, 0.29, 0.3 ],\n",
       "       [0.31, 0.32, 0.33, 0.34, 0.35, 0.36, 0.37, 0.38, 0.39, 0.4 ],\n",
       "       [0.41, 0.42, 0.43, 0.44, 0.45, 0.46, 0.47, 0.48, 0.49, 0.5 ],\n",
       "       [0.51, 0.52, 0.53, 0.54, 0.55, 0.56, 0.57, 0.58, 0.59, 0.6 ],\n",
       "       [0.61, 0.62, 0.63, 0.64, 0.65, 0.66, 0.67, 0.68, 0.69, 0.7 ],\n",
       "       [0.71, 0.72, 0.73, 0.74, 0.75, 0.76, 0.77, 0.78, 0.79, 0.8 ],\n",
       "       [0.81, 0.82, 0.83, 0.84, 0.85, 0.86, 0.87, 0.88, 0.89, 0.9 ],\n",
       "       [0.91, 0.92, 0.93, 0.94, 0.95, 0.96, 0.97, 0.98, 0.99, 1.  ]])"
      ]
     },
     "execution_count": 20,
     "metadata": {},
     "output_type": "execute_result"
    }
   ],
   "source": [
    "(np.arange(1,101)/100).reshape(10,10)"
   ]
  },
  {
   "cell_type": "code",
   "execution_count": 21,
   "id": "6ece9248",
   "metadata": {
    "execution": {
     "iopub.execute_input": "2022-10-09T19:03:23.928684Z",
     "iopub.status.busy": "2022-10-09T19:03:23.928269Z",
     "iopub.status.idle": "2022-10-09T19:03:23.932467Z",
     "shell.execute_reply": "2022-10-09T19:03:23.931465Z"
    },
    "papermill": {
     "duration": 0.020414,
     "end_time": "2022-10-09T19:03:23.934544",
     "exception": false,
     "start_time": "2022-10-09T19:03:23.914130",
     "status": "completed"
    },
    "tags": []
   },
   "outputs": [],
   "source": [
    "# DON'T WRITE HERE"
   ]
  },
  {
   "cell_type": "markdown",
   "id": "ca48aa32",
   "metadata": {
    "papermill": {
     "duration": 0.012773,
     "end_time": "2022-10-09T19:03:23.960463",
     "exception": false,
     "start_time": "2022-10-09T19:03:23.947690",
     "status": "completed"
    },
    "tags": []
   },
   "source": [
    "#### 12. Create an array of 20 linearly spaced points between 0 and 1:"
   ]
  },
  {
   "cell_type": "code",
   "execution_count": 22,
   "id": "596fa7e2",
   "metadata": {
    "execution": {
     "iopub.execute_input": "2022-10-09T19:03:23.988348Z",
     "iopub.status.busy": "2022-10-09T19:03:23.987964Z",
     "iopub.status.idle": "2022-10-09T19:03:23.995556Z",
     "shell.execute_reply": "2022-10-09T19:03:23.994490Z"
    },
    "papermill": {
     "duration": 0.024053,
     "end_time": "2022-10-09T19:03:23.997619",
     "exception": false,
     "start_time": "2022-10-09T19:03:23.973566",
     "status": "completed"
    },
    "tags": []
   },
   "outputs": [
    {
     "data": {
      "text/plain": [
       "array([0.        , 0.05263158, 0.10526316, 0.15789474, 0.21052632,\n",
       "       0.26315789, 0.31578947, 0.36842105, 0.42105263, 0.47368421,\n",
       "       0.52631579, 0.57894737, 0.63157895, 0.68421053, 0.73684211,\n",
       "       0.78947368, 0.84210526, 0.89473684, 0.94736842, 1.        ])"
      ]
     },
     "execution_count": 22,
     "metadata": {},
     "output_type": "execute_result"
    }
   ],
   "source": [
    "np.linspace(0,1,20)"
   ]
  },
  {
   "cell_type": "code",
   "execution_count": 23,
   "id": "b9b99589",
   "metadata": {
    "execution": {
     "iopub.execute_input": "2022-10-09T19:03:24.025970Z",
     "iopub.status.busy": "2022-10-09T19:03:24.025578Z",
     "iopub.status.idle": "2022-10-09T19:03:24.030212Z",
     "shell.execute_reply": "2022-10-09T19:03:24.029176Z"
    },
    "papermill": {
     "duration": 0.0216,
     "end_time": "2022-10-09T19:03:24.032519",
     "exception": false,
     "start_time": "2022-10-09T19:03:24.010919",
     "status": "completed"
    },
    "tags": []
   },
   "outputs": [],
   "source": [
    "# DON'T WRITE HERE"
   ]
  },
  {
   "cell_type": "markdown",
   "id": "ab672521",
   "metadata": {
    "papermill": {
     "duration": 0.013139,
     "end_time": "2022-10-09T19:03:24.059090",
     "exception": false,
     "start_time": "2022-10-09T19:03:24.045951",
     "status": "completed"
    },
    "tags": []
   },
   "source": [
    "## Numpy Indexing and Selection\n",
    "\n",
    "Now you will be given a starting matrix (be sure to run the cell below!), and be asked to replicate the resulting matrix outputs:"
   ]
  },
  {
   "cell_type": "code",
   "execution_count": 24,
   "id": "c109d990",
   "metadata": {
    "execution": {
     "iopub.execute_input": "2022-10-09T19:03:24.087221Z",
     "iopub.status.busy": "2022-10-09T19:03:24.086823Z",
     "iopub.status.idle": "2022-10-09T19:03:24.094924Z",
     "shell.execute_reply": "2022-10-09T19:03:24.093576Z"
    },
    "papermill": {
     "duration": 0.024883,
     "end_time": "2022-10-09T19:03:24.097108",
     "exception": false,
     "start_time": "2022-10-09T19:03:24.072225",
     "status": "completed"
    },
    "tags": []
   },
   "outputs": [
    {
     "data": {
      "text/plain": [
       "array([[ 1,  2,  3,  4,  5],\n",
       "       [ 6,  7,  8,  9, 10],\n",
       "       [11, 12, 13, 14, 15],\n",
       "       [16, 17, 18, 19, 20],\n",
       "       [21, 22, 23, 24, 25]])"
      ]
     },
     "execution_count": 24,
     "metadata": {},
     "output_type": "execute_result"
    }
   ],
   "source": [
    "# RUN THIS CELL - THIS IS OUR STARTING MATRIX\n",
    "mat = np.arange(1,26).reshape(5,5)\n",
    "mat"
   ]
  },
  {
   "cell_type": "markdown",
   "id": "3eb96a7b",
   "metadata": {
    "papermill": {
     "duration": 0.012973,
     "end_time": "2022-10-09T19:03:24.123559",
     "exception": false,
     "start_time": "2022-10-09T19:03:24.110586",
     "status": "completed"
    },
    "tags": []
   },
   "source": [
    "#### 13. Write code that reproduces the output shown below.<br><br>&emsp;&ensp;Be careful not to run the cell immediately above the output, otherwise you won't be able to see the output any more."
   ]
  },
  {
   "cell_type": "code",
   "execution_count": 25,
   "id": "82011bb8",
   "metadata": {
    "execution": {
     "iopub.execute_input": "2022-10-09T19:03:24.152002Z",
     "iopub.status.busy": "2022-10-09T19:03:24.151606Z",
     "iopub.status.idle": "2022-10-09T19:03:24.158324Z",
     "shell.execute_reply": "2022-10-09T19:03:24.157302Z"
    },
    "papermill": {
     "duration": 0.023718,
     "end_time": "2022-10-09T19:03:24.160546",
     "exception": false,
     "start_time": "2022-10-09T19:03:24.136828",
     "status": "completed"
    },
    "tags": []
   },
   "outputs": [
    {
     "data": {
      "text/plain": [
       "array([[12, 13, 14, 15],\n",
       "       [17, 18, 19, 20],\n",
       "       [22, 23, 24, 25]])"
      ]
     },
     "execution_count": 25,
     "metadata": {},
     "output_type": "execute_result"
    }
   ],
   "source": [
    "# CODE HERE\n",
    "mat[2:,1:]"
   ]
  },
  {
   "cell_type": "code",
   "execution_count": 26,
   "id": "3b1a0b8a",
   "metadata": {
    "execution": {
     "iopub.execute_input": "2022-10-09T19:03:24.189147Z",
     "iopub.status.busy": "2022-10-09T19:03:24.188774Z",
     "iopub.status.idle": "2022-10-09T19:03:24.193126Z",
     "shell.execute_reply": "2022-10-09T19:03:24.192113Z"
    },
    "papermill": {
     "duration": 0.021279,
     "end_time": "2022-10-09T19:03:24.195289",
     "exception": false,
     "start_time": "2022-10-09T19:03:24.174010",
     "status": "completed"
    },
    "tags": []
   },
   "outputs": [],
   "source": [
    "# DON'T WRITE HERE"
   ]
  },
  {
   "cell_type": "markdown",
   "id": "6188cac2",
   "metadata": {
    "papermill": {
     "duration": 0.013231,
     "end_time": "2022-10-09T19:03:24.222168",
     "exception": false,
     "start_time": "2022-10-09T19:03:24.208937",
     "status": "completed"
    },
    "tags": []
   },
   "source": [
    "#### 14. Write code that reproduces the output shown below."
   ]
  },
  {
   "cell_type": "code",
   "execution_count": 27,
   "id": "7342622c",
   "metadata": {
    "execution": {
     "iopub.execute_input": "2022-10-09T19:03:24.250754Z",
     "iopub.status.busy": "2022-10-09T19:03:24.250350Z",
     "iopub.status.idle": "2022-10-09T19:03:24.256864Z",
     "shell.execute_reply": "2022-10-09T19:03:24.255808Z"
    },
    "papermill": {
     "duration": 0.023067,
     "end_time": "2022-10-09T19:03:24.258794",
     "exception": false,
     "start_time": "2022-10-09T19:03:24.235727",
     "status": "completed"
    },
    "tags": []
   },
   "outputs": [
    {
     "data": {
      "text/plain": [
       "20"
      ]
     },
     "execution_count": 27,
     "metadata": {},
     "output_type": "execute_result"
    }
   ],
   "source": [
    "mat[3,4]"
   ]
  },
  {
   "cell_type": "code",
   "execution_count": 28,
   "id": "1ae873a3",
   "metadata": {
    "execution": {
     "iopub.execute_input": "2022-10-09T19:03:24.287914Z",
     "iopub.status.busy": "2022-10-09T19:03:24.287535Z",
     "iopub.status.idle": "2022-10-09T19:03:24.292091Z",
     "shell.execute_reply": "2022-10-09T19:03:24.291037Z"
    },
    "papermill": {
     "duration": 0.021767,
     "end_time": "2022-10-09T19:03:24.294329",
     "exception": false,
     "start_time": "2022-10-09T19:03:24.272562",
     "status": "completed"
    },
    "tags": []
   },
   "outputs": [],
   "source": [
    "# DON'T WRITE HERE"
   ]
  },
  {
   "cell_type": "markdown",
   "id": "afd01cb0",
   "metadata": {
    "papermill": {
     "duration": 0.013602,
     "end_time": "2022-10-09T19:03:24.321783",
     "exception": false,
     "start_time": "2022-10-09T19:03:24.308181",
     "status": "completed"
    },
    "tags": []
   },
   "source": [
    "#### 15. Write code that reproduces the output shown below."
   ]
  },
  {
   "cell_type": "code",
   "execution_count": 29,
   "id": "4541b497",
   "metadata": {
    "execution": {
     "iopub.execute_input": "2022-10-09T19:03:24.350345Z",
     "iopub.status.busy": "2022-10-09T19:03:24.349959Z",
     "iopub.status.idle": "2022-10-09T19:03:24.356854Z",
     "shell.execute_reply": "2022-10-09T19:03:24.355775Z"
    },
    "papermill": {
     "duration": 0.023559,
     "end_time": "2022-10-09T19:03:24.358945",
     "exception": false,
     "start_time": "2022-10-09T19:03:24.335386",
     "status": "completed"
    },
    "tags": []
   },
   "outputs": [
    {
     "data": {
      "text/plain": [
       "array([[ 2],\n",
       "       [ 7],\n",
       "       [12]])"
      ]
     },
     "execution_count": 29,
     "metadata": {},
     "output_type": "execute_result"
    }
   ],
   "source": [
    "mat[0:3,1:2]"
   ]
  },
  {
   "cell_type": "code",
   "execution_count": 30,
   "id": "3584fc1e",
   "metadata": {
    "execution": {
     "iopub.execute_input": "2022-10-09T19:03:24.388549Z",
     "iopub.status.busy": "2022-10-09T19:03:24.387532Z",
     "iopub.status.idle": "2022-10-09T19:03:24.392086Z",
     "shell.execute_reply": "2022-10-09T19:03:24.391313Z"
    },
    "papermill": {
     "duration": 0.02155,
     "end_time": "2022-10-09T19:03:24.394140",
     "exception": false,
     "start_time": "2022-10-09T19:03:24.372590",
     "status": "completed"
    },
    "tags": []
   },
   "outputs": [],
   "source": [
    "# DON'T WRITE HERE"
   ]
  },
  {
   "cell_type": "markdown",
   "id": "8a7271d5",
   "metadata": {
    "papermill": {
     "duration": 0.014069,
     "end_time": "2022-10-09T19:03:24.422136",
     "exception": false,
     "start_time": "2022-10-09T19:03:24.408067",
     "status": "completed"
    },
    "tags": []
   },
   "source": [
    "#### 16. Write code that reproduces the output shown below."
   ]
  },
  {
   "cell_type": "code",
   "execution_count": 31,
   "id": "2f62efc6",
   "metadata": {
    "execution": {
     "iopub.execute_input": "2022-10-09T19:03:24.457140Z",
     "iopub.status.busy": "2022-10-09T19:03:24.456589Z",
     "iopub.status.idle": "2022-10-09T19:03:24.464096Z",
     "shell.execute_reply": "2022-10-09T19:03:24.462992Z"
    },
    "papermill": {
     "duration": 0.028988,
     "end_time": "2022-10-09T19:03:24.466552",
     "exception": false,
     "start_time": "2022-10-09T19:03:24.437564",
     "status": "completed"
    },
    "tags": []
   },
   "outputs": [
    {
     "data": {
      "text/plain": [
       "array([21, 22, 23, 24, 25])"
      ]
     },
     "execution_count": 31,
     "metadata": {},
     "output_type": "execute_result"
    }
   ],
   "source": [
    "mat[4]"
   ]
  },
  {
   "cell_type": "code",
   "execution_count": 32,
   "id": "772d5c01",
   "metadata": {
    "execution": {
     "iopub.execute_input": "2022-10-09T19:03:24.501106Z",
     "iopub.status.busy": "2022-10-09T19:03:24.500541Z",
     "iopub.status.idle": "2022-10-09T19:03:24.505707Z",
     "shell.execute_reply": "2022-10-09T19:03:24.504649Z"
    },
    "papermill": {
     "duration": 0.02256,
     "end_time": "2022-10-09T19:03:24.507646",
     "exception": false,
     "start_time": "2022-10-09T19:03:24.485086",
     "status": "completed"
    },
    "tags": []
   },
   "outputs": [],
   "source": [
    "# DON'T WRITE HERE"
   ]
  },
  {
   "cell_type": "markdown",
   "id": "57f94052",
   "metadata": {
    "papermill": {
     "duration": 0.014153,
     "end_time": "2022-10-09T19:03:24.535941",
     "exception": false,
     "start_time": "2022-10-09T19:03:24.521788",
     "status": "completed"
    },
    "tags": []
   },
   "source": [
    "#### 17. Write code that reproduces the output shown below."
   ]
  },
  {
   "cell_type": "code",
   "execution_count": 33,
   "id": "a43660e6",
   "metadata": {
    "execution": {
     "iopub.execute_input": "2022-10-09T19:03:24.565721Z",
     "iopub.status.busy": "2022-10-09T19:03:24.565340Z",
     "iopub.status.idle": "2022-10-09T19:03:24.571671Z",
     "shell.execute_reply": "2022-10-09T19:03:24.570829Z"
    },
    "papermill": {
     "duration": 0.023514,
     "end_time": "2022-10-09T19:03:24.573586",
     "exception": false,
     "start_time": "2022-10-09T19:03:24.550072",
     "status": "completed"
    },
    "tags": []
   },
   "outputs": [
    {
     "data": {
      "text/plain": [
       "array([[16, 17, 18, 19, 20],\n",
       "       [21, 22, 23, 24, 25]])"
      ]
     },
     "execution_count": 33,
     "metadata": {},
     "output_type": "execute_result"
    }
   ],
   "source": [
    "mat[3:]"
   ]
  },
  {
   "cell_type": "code",
   "execution_count": 34,
   "id": "80a99263",
   "metadata": {
    "execution": {
     "iopub.execute_input": "2022-10-09T19:03:24.603480Z",
     "iopub.status.busy": "2022-10-09T19:03:24.603041Z",
     "iopub.status.idle": "2022-10-09T19:03:24.607895Z",
     "shell.execute_reply": "2022-10-09T19:03:24.606817Z"
    },
    "papermill": {
     "duration": 0.022224,
     "end_time": "2022-10-09T19:03:24.610013",
     "exception": false,
     "start_time": "2022-10-09T19:03:24.587789",
     "status": "completed"
    },
    "tags": []
   },
   "outputs": [],
   "source": [
    "# DON'T WRITE HERE"
   ]
  },
  {
   "cell_type": "markdown",
   "id": "1fbe06f4",
   "metadata": {
    "papermill": {
     "duration": 0.013847,
     "end_time": "2022-10-09T19:03:24.638182",
     "exception": false,
     "start_time": "2022-10-09T19:03:24.624335",
     "status": "completed"
    },
    "tags": []
   },
   "source": [
    "## NumPy Operations"
   ]
  },
  {
   "cell_type": "markdown",
   "id": "3a36610c",
   "metadata": {
    "papermill": {
     "duration": 0.013814,
     "end_time": "2022-10-09T19:03:24.666087",
     "exception": false,
     "start_time": "2022-10-09T19:03:24.652273",
     "status": "completed"
    },
    "tags": []
   },
   "source": [
    "#### 18. Get the sum of all the values in mat"
   ]
  },
  {
   "cell_type": "code",
   "execution_count": 35,
   "id": "c2bec12d",
   "metadata": {
    "execution": {
     "iopub.execute_input": "2022-10-09T19:03:24.695861Z",
     "iopub.status.busy": "2022-10-09T19:03:24.695404Z",
     "iopub.status.idle": "2022-10-09T19:03:24.701530Z",
     "shell.execute_reply": "2022-10-09T19:03:24.700819Z"
    },
    "papermill": {
     "duration": 0.023252,
     "end_time": "2022-10-09T19:03:24.703426",
     "exception": false,
     "start_time": "2022-10-09T19:03:24.680174",
     "status": "completed"
    },
    "tags": []
   },
   "outputs": [
    {
     "data": {
      "text/plain": [
       "325"
      ]
     },
     "execution_count": 35,
     "metadata": {},
     "output_type": "execute_result"
    }
   ],
   "source": [
    "mat.sum()"
   ]
  },
  {
   "cell_type": "code",
   "execution_count": 36,
   "id": "dac41cbb",
   "metadata": {
    "execution": {
     "iopub.execute_input": "2022-10-09T19:03:24.733423Z",
     "iopub.status.busy": "2022-10-09T19:03:24.733018Z",
     "iopub.status.idle": "2022-10-09T19:03:24.737504Z",
     "shell.execute_reply": "2022-10-09T19:03:24.736489Z"
    },
    "papermill": {
     "duration": 0.021962,
     "end_time": "2022-10-09T19:03:24.739683",
     "exception": false,
     "start_time": "2022-10-09T19:03:24.717721",
     "status": "completed"
    },
    "tags": []
   },
   "outputs": [],
   "source": [
    "# DON'T WRITE HERE"
   ]
  },
  {
   "cell_type": "markdown",
   "id": "b2f95198",
   "metadata": {
    "papermill": {
     "duration": 0.013874,
     "end_time": "2022-10-09T19:03:24.767899",
     "exception": false,
     "start_time": "2022-10-09T19:03:24.754025",
     "status": "completed"
    },
    "tags": []
   },
   "source": [
    "#### 19. Get the standard deviation of the values in mat"
   ]
  },
  {
   "cell_type": "code",
   "execution_count": 37,
   "id": "bb479194",
   "metadata": {
    "execution": {
     "iopub.execute_input": "2022-10-09T19:03:24.798157Z",
     "iopub.status.busy": "2022-10-09T19:03:24.797645Z",
     "iopub.status.idle": "2022-10-09T19:03:24.804724Z",
     "shell.execute_reply": "2022-10-09T19:03:24.803522Z"
    },
    "papermill": {
     "duration": 0.025564,
     "end_time": "2022-10-09T19:03:24.807594",
     "exception": false,
     "start_time": "2022-10-09T19:03:24.782030",
     "status": "completed"
    },
    "tags": []
   },
   "outputs": [
    {
     "data": {
      "text/plain": [
       "7.211102550927978"
      ]
     },
     "execution_count": 37,
     "metadata": {},
     "output_type": "execute_result"
    }
   ],
   "source": [
    "mat.std()"
   ]
  },
  {
   "cell_type": "code",
   "execution_count": 38,
   "id": "1677f897",
   "metadata": {
    "execution": {
     "iopub.execute_input": "2022-10-09T19:03:24.842934Z",
     "iopub.status.busy": "2022-10-09T19:03:24.842533Z",
     "iopub.status.idle": "2022-10-09T19:03:24.849569Z",
     "shell.execute_reply": "2022-10-09T19:03:24.848509Z"
    },
    "papermill": {
     "duration": 0.027056,
     "end_time": "2022-10-09T19:03:24.852010",
     "exception": false,
     "start_time": "2022-10-09T19:03:24.824954",
     "status": "completed"
    },
    "tags": []
   },
   "outputs": [],
   "source": [
    "# DON'T WRITE HERE"
   ]
  },
  {
   "cell_type": "markdown",
   "id": "7f53c6b9",
   "metadata": {
    "papermill": {
     "duration": 0.014311,
     "end_time": "2022-10-09T19:03:24.880828",
     "exception": false,
     "start_time": "2022-10-09T19:03:24.866517",
     "status": "completed"
    },
    "tags": []
   },
   "source": [
    "#### 20. Get the sum of all the columns in mat"
   ]
  },
  {
   "cell_type": "code",
   "execution_count": 39,
   "id": "f0141321",
   "metadata": {
    "execution": {
     "iopub.execute_input": "2022-10-09T19:03:24.911544Z",
     "iopub.status.busy": "2022-10-09T19:03:24.911117Z",
     "iopub.status.idle": "2022-10-09T19:03:24.920391Z",
     "shell.execute_reply": "2022-10-09T19:03:24.918374Z"
    },
    "papermill": {
     "duration": 0.02725,
     "end_time": "2022-10-09T19:03:24.922583",
     "exception": false,
     "start_time": "2022-10-09T19:03:24.895333",
     "status": "completed"
    },
    "tags": []
   },
   "outputs": [
    {
     "data": {
      "text/plain": [
       "array([55, 60, 65, 70, 75])"
      ]
     },
     "execution_count": 39,
     "metadata": {},
     "output_type": "execute_result"
    }
   ],
   "source": [
    "mat.sum(axis =0)"
   ]
  },
  {
   "cell_type": "code",
   "execution_count": 40,
   "id": "3e32c6aa",
   "metadata": {
    "execution": {
     "iopub.execute_input": "2022-10-09T19:03:24.954789Z",
     "iopub.status.busy": "2022-10-09T19:03:24.953781Z",
     "iopub.status.idle": "2022-10-09T19:03:24.957885Z",
     "shell.execute_reply": "2022-10-09T19:03:24.957074Z"
    },
    "papermill": {
     "duration": 0.022267,
     "end_time": "2022-10-09T19:03:24.959788",
     "exception": false,
     "start_time": "2022-10-09T19:03:24.937521",
     "status": "completed"
    },
    "tags": []
   },
   "outputs": [],
   "source": [
    "# DON'T WRITE HERE"
   ]
  },
  {
   "cell_type": "markdown",
   "id": "7e52e942",
   "metadata": {
    "papermill": {
     "duration": 0.014305,
     "end_time": "2022-10-09T19:03:24.988587",
     "exception": false,
     "start_time": "2022-10-09T19:03:24.974282",
     "status": "completed"
    },
    "tags": []
   },
   "source": [
    "## Bonus Question\n",
    "\n",
    "We worked a lot with random data with numpy, but is there a way we can insure that we always get the same random numbers? [Click Here for a Hint](https://www.google.com/search?q=numpy+random+seed&rlz=1C1CHBF_enUS747US747&oq=numpy+random+seed&aqs=chrome..69i57j69i60j0l4.2087j0j7&sourceid=chrome&ie=UTF-8)"
   ]
  },
  {
   "cell_type": "code",
   "execution_count": 41,
   "id": "4b230239",
   "metadata": {
    "execution": {
     "iopub.execute_input": "2022-10-09T19:03:25.019867Z",
     "iopub.status.busy": "2022-10-09T19:03:25.018887Z",
     "iopub.status.idle": "2022-10-09T19:03:25.023965Z",
     "shell.execute_reply": "2022-10-09T19:03:25.023129Z"
    },
    "papermill": {
     "duration": 0.022788,
     "end_time": "2022-10-09T19:03:25.026018",
     "exception": false,
     "start_time": "2022-10-09T19:03:25.003230",
     "status": "completed"
    },
    "tags": []
   },
   "outputs": [],
   "source": [
    "np.random.seed(21)"
   ]
  },
  {
   "cell_type": "markdown",
   "id": "8cfa0c26",
   "metadata": {
    "papermill": {
     "duration": 0.014293,
     "end_time": "2022-10-09T19:03:25.055270",
     "exception": false,
     "start_time": "2022-10-09T19:03:25.040977",
     "status": "completed"
    },
    "tags": []
   },
   "source": [
    "# Great Job!"
   ]
  }
 ],
 "metadata": {
  "kernelspec": {
   "display_name": "Python 3",
   "language": "python",
   "name": "python3"
  },
  "language_info": {
   "codemirror_mode": {
    "name": "ipython",
    "version": 3
   },
   "file_extension": ".py",
   "mimetype": "text/x-python",
   "name": "python",
   "nbconvert_exporter": "python",
   "pygments_lexer": "ipython3",
   "version": "3.7.12"
  },
  "papermill": {
   "default_parameters": {},
   "duration": 11.353466,
   "end_time": "2022-10-09T19:03:25.690748",
   "environment_variables": {},
   "exception": null,
   "input_path": "__notebook__.ipynb",
   "output_path": "__notebook__.ipynb",
   "parameters": {},
   "start_time": "2022-10-09T19:03:14.337282",
   "version": "2.3.4"
  }
 },
 "nbformat": 4,
 "nbformat_minor": 5
}
