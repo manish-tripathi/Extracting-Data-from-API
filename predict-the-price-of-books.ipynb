{
 "cells": [
  {
   "cell_type": "markdown",
   "id": "78d0a8c3",
   "metadata": {
    "papermill": {
     "duration": 0.02953,
     "end_time": "2022-03-26T06:04:04.800281",
     "exception": false,
     "start_time": "2022-03-26T06:04:04.770751",
     "status": "completed"
    },
    "tags": []
   },
   "source": [
    "# [Predict The Price Of Books](https://machinehack.com/hackathon/predict_the_price_of_books/overview)\n",
    "\n",
    "***\n",
    "\n",
    "The aim of the project is to use the dataset to build a Machine Learning model to predict the price of books based on a given set of features.\n",
    "\n",
    "***\n",
    "* Size of training set: 6237 records\n",
    "* Size of test set: 1560 records\n",
    "* FEATURES: Title: The title of the book\n",
    "* Author: The author(s) of the book.\n",
    "* Edition: The edition of the book eg (Paperback,– Import, 26 Apr 2018)\n",
    "* Reviews: The customer reviews about the book\n",
    "* Ratings: The customer ratings of the book\n",
    "* Synopsis: The synopsis of the book\n",
    "* Genre: The genre the book belongs to Book\n",
    "* Category: The department the book is usually available at.\n",
    "***\n",
    "* **Price: The price of the book (Target variable)**"
   ]
  },
  {
   "cell_type": "code",
   "execution_count": 1,
   "id": "b11f9afd",
   "metadata": {
    "_cell_guid": "b1076dfc-b9ad-4769-8c92-a6c4dae69d19",
    "_uuid": "8f2839f25d086af736a60e9eeb907d3b93b6e0e5",
    "execution": {
     "iopub.execute_input": "2022-03-26T06:04:04.864168Z",
     "iopub.status.busy": "2022-03-26T06:04:04.862896Z",
     "iopub.status.idle": "2022-03-26T06:04:18.338830Z",
     "shell.execute_reply": "2022-03-26T06:04:18.338076Z",
     "shell.execute_reply.started": "2022-03-26T05:39:25.512876Z"
    },
    "papermill": {
     "duration": 13.508835,
     "end_time": "2022-03-26T06:04:18.339039",
     "exception": false,
     "start_time": "2022-03-26T06:04:04.830204",
     "status": "completed"
    },
    "tags": []
   },
   "outputs": [
    {
     "name": "stdout",
     "output_type": "stream",
     "text": [
      "Collecting openpyxl\r\n",
      "  Downloading openpyxl-3.0.9-py2.py3-none-any.whl (242 kB)\r\n",
      "     |████████████████████████████████| 242 kB 287 kB/s            \r\n",
      "\u001b[?25hCollecting et-xmlfile\r\n",
      "  Downloading et_xmlfile-1.1.0-py3-none-any.whl (4.7 kB)\r\n",
      "Installing collected packages: et-xmlfile, openpyxl\r\n",
      "Successfully installed et-xmlfile-1.1.0 openpyxl-3.0.9\r\n",
      "\u001b[33mWARNING: Running pip as the 'root' user can result in broken permissions and conflicting behaviour with the system package manager. It is recommended to use a virtual environment instead: https://pip.pypa.io/warnings/venv\u001b[0m\r\n"
     ]
    }
   ],
   "source": [
    "# Importing packages necessary to preprocess the dataset and create features which can be used for prediction\n",
    "\n",
    "import numpy as np # linear algebra\n",
    "import pandas as pd # data processing, CSV file I/O (e.g. pd.read_csv)\n",
    "import re\n",
    "!pip install openpyxl # Opening Excel File"
   ]
  },
  {
   "cell_type": "code",
   "execution_count": 2,
   "id": "c205f483",
   "metadata": {
    "execution": {
     "iopub.execute_input": "2022-03-26T06:04:18.411144Z",
     "iopub.status.busy": "2022-03-26T06:04:18.410331Z",
     "iopub.status.idle": "2022-03-26T06:04:20.435456Z",
     "shell.execute_reply": "2022-03-26T06:04:20.435996Z",
     "shell.execute_reply.started": "2022-03-26T04:58:10.848663Z"
    },
    "papermill": {
     "duration": 2.063713,
     "end_time": "2022-03-26T06:04:20.436190",
     "exception": false,
     "start_time": "2022-03-26T06:04:18.372477",
     "status": "completed"
    },
    "tags": []
   },
   "outputs": [],
   "source": [
    "train = pd.read_excel(\"../input/PredictThePriceOfBooks-MH/Participants_Data/Data_Train.xlsx\", engine=\"openpyxl\")"
   ]
  },
  {
   "cell_type": "code",
   "execution_count": 3,
   "id": "7dc47c5f",
   "metadata": {
    "execution": {
     "iopub.execute_input": "2022-03-26T06:04:20.512252Z",
     "iopub.status.busy": "2022-03-26T06:04:20.505240Z",
     "iopub.status.idle": "2022-03-26T06:04:20.551524Z",
     "shell.execute_reply": "2022-03-26T06:04:20.552016Z",
     "shell.execute_reply.started": "2022-03-26T04:58:12.713612Z"
    },
    "papermill": {
     "duration": 0.082804,
     "end_time": "2022-03-26T06:04:20.552204",
     "exception": false,
     "start_time": "2022-03-26T06:04:20.469400",
     "status": "completed"
    },
    "tags": []
   },
   "outputs": [
    {
     "data": {
      "text/plain": [
       "Title           5568\n",
       "Author          3679\n",
       "Edition         3370\n",
       "Reviews           36\n",
       "Ratings          342\n",
       "Synopsis        5549\n",
       "Genre            345\n",
       "BookCategory      11\n",
       "Price           1614\n",
       "dtype: int64"
      ]
     },
     "execution_count": 3,
     "metadata": {},
     "output_type": "execute_result"
    }
   ],
   "source": [
    "train.nunique() #Checking unique values in each coloumn in the dataset"
   ]
  },
  {
   "cell_type": "code",
   "execution_count": 4,
   "id": "53244e36",
   "metadata": {
    "execution": {
     "iopub.execute_input": "2022-03-26T06:04:20.622825Z",
     "iopub.status.busy": "2022-03-26T06:04:20.621988Z",
     "iopub.status.idle": "2022-03-26T06:04:20.627924Z",
     "shell.execute_reply": "2022-03-26T06:04:20.628464Z",
     "shell.execute_reply.started": "2022-03-26T04:58:12.760551Z"
    },
    "papermill": {
     "duration": 0.042528,
     "end_time": "2022-03-26T06:04:20.628657",
     "exception": false,
     "start_time": "2022-03-26T06:04:20.586129",
     "status": "completed"
    },
    "tags": []
   },
   "outputs": [
    {
     "data": {
      "text/plain": [
       "(6237, 9)"
      ]
     },
     "execution_count": 4,
     "metadata": {},
     "output_type": "execute_result"
    }
   ],
   "source": [
    "train.shape #Shape of the dataset"
   ]
  },
  {
   "cell_type": "code",
   "execution_count": 5,
   "id": "5f66bab9",
   "metadata": {
    "execution": {
     "iopub.execute_input": "2022-03-26T06:04:20.699165Z",
     "iopub.status.busy": "2022-03-26T06:04:20.698378Z",
     "iopub.status.idle": "2022-03-26T06:04:20.712645Z",
     "shell.execute_reply": "2022-03-26T06:04:20.713155Z",
     "shell.execute_reply.started": "2022-03-26T04:58:12.768936Z"
    },
    "papermill": {
     "duration": 0.051646,
     "end_time": "2022-03-26T06:04:20.713339",
     "exception": false,
     "start_time": "2022-03-26T06:04:20.661693",
     "status": "completed"
    },
    "tags": []
   },
   "outputs": [
    {
     "data": {
      "text/plain": [
       "Title           0\n",
       "Author          0\n",
       "Edition         0\n",
       "Reviews         0\n",
       "Ratings         0\n",
       "Synopsis        0\n",
       "Genre           0\n",
       "BookCategory    0\n",
       "Price           0\n",
       "dtype: int64"
      ]
     },
     "execution_count": 5,
     "metadata": {},
     "output_type": "execute_result"
    }
   ],
   "source": [
    "train.isna().sum() #Checking if there are any null values in the dataset"
   ]
  },
  {
   "cell_type": "code",
   "execution_count": 6,
   "id": "8b78ee1c",
   "metadata": {
    "execution": {
     "iopub.execute_input": "2022-03-26T06:04:20.785331Z",
     "iopub.status.busy": "2022-03-26T06:04:20.784544Z",
     "iopub.status.idle": "2022-03-26T06:04:20.806926Z",
     "shell.execute_reply": "2022-03-26T06:04:20.807469Z",
     "shell.execute_reply.started": "2022-03-26T04:58:12.790547Z"
    },
    "papermill": {
     "duration": 0.059611,
     "end_time": "2022-03-26T06:04:20.807645",
     "exception": false,
     "start_time": "2022-03-26T06:04:20.748034",
     "status": "completed"
    },
    "tags": []
   },
   "outputs": [
    {
     "data": {
      "text/html": [
       "<div>\n",
       "<style scoped>\n",
       "    .dataframe tbody tr th:only-of-type {\n",
       "        vertical-align: middle;\n",
       "    }\n",
       "\n",
       "    .dataframe tbody tr th {\n",
       "        vertical-align: top;\n",
       "    }\n",
       "\n",
       "    .dataframe thead th {\n",
       "        text-align: right;\n",
       "    }\n",
       "</style>\n",
       "<table border=\"1\" class=\"dataframe\">\n",
       "  <thead>\n",
       "    <tr style=\"text-align: right;\">\n",
       "      <th></th>\n",
       "      <th>Title</th>\n",
       "      <th>Author</th>\n",
       "      <th>Edition</th>\n",
       "      <th>Reviews</th>\n",
       "      <th>Ratings</th>\n",
       "      <th>Synopsis</th>\n",
       "      <th>Genre</th>\n",
       "      <th>BookCategory</th>\n",
       "      <th>Price</th>\n",
       "    </tr>\n",
       "  </thead>\n",
       "  <tbody>\n",
       "    <tr>\n",
       "      <th>0</th>\n",
       "      <td>The Prisoner's Gold (The Hunters 3)</td>\n",
       "      <td>Chris Kuzneski</td>\n",
       "      <td>Paperback,– 10 Mar 2016</td>\n",
       "      <td>4.0 out of 5 stars</td>\n",
       "      <td>8 customer reviews</td>\n",
       "      <td>THE HUNTERS return in their third brilliant no...</td>\n",
       "      <td>Action &amp; Adventure (Books)</td>\n",
       "      <td>Action &amp; Adventure</td>\n",
       "      <td>220.00</td>\n",
       "    </tr>\n",
       "    <tr>\n",
       "      <th>1</th>\n",
       "      <td>Guru Dutt: A Tragedy in Three Acts</td>\n",
       "      <td>Arun Khopkar</td>\n",
       "      <td>Paperback,– 7 Nov 2012</td>\n",
       "      <td>3.9 out of 5 stars</td>\n",
       "      <td>14 customer reviews</td>\n",
       "      <td>A layered portrait of a troubled genius for wh...</td>\n",
       "      <td>Cinema &amp; Broadcast (Books)</td>\n",
       "      <td>Biographies, Diaries &amp; True Accounts</td>\n",
       "      <td>202.93</td>\n",
       "    </tr>\n",
       "    <tr>\n",
       "      <th>2</th>\n",
       "      <td>Leviathan (Penguin Classics)</td>\n",
       "      <td>Thomas Hobbes</td>\n",
       "      <td>Paperback,– 25 Feb 1982</td>\n",
       "      <td>4.8 out of 5 stars</td>\n",
       "      <td>6 customer reviews</td>\n",
       "      <td>\"During the time men live without a common Pow...</td>\n",
       "      <td>International Relations</td>\n",
       "      <td>Humour</td>\n",
       "      <td>299.00</td>\n",
       "    </tr>\n",
       "    <tr>\n",
       "      <th>3</th>\n",
       "      <td>A Pocket Full of Rye (Miss Marple)</td>\n",
       "      <td>Agatha Christie</td>\n",
       "      <td>Paperback,– 5 Oct 2017</td>\n",
       "      <td>4.1 out of 5 stars</td>\n",
       "      <td>13 customer reviews</td>\n",
       "      <td>A handful of grain is found in the pocket of a...</td>\n",
       "      <td>Contemporary Fiction (Books)</td>\n",
       "      <td>Crime, Thriller &amp; Mystery</td>\n",
       "      <td>180.00</td>\n",
       "    </tr>\n",
       "    <tr>\n",
       "      <th>4</th>\n",
       "      <td>LIFE 70 Years of Extraordinary Photography</td>\n",
       "      <td>Editors of Life</td>\n",
       "      <td>Hardcover,– 10 Oct 2006</td>\n",
       "      <td>5.0 out of 5 stars</td>\n",
       "      <td>1 customer review</td>\n",
       "      <td>For seven decades, \"Life\" has been thrilling t...</td>\n",
       "      <td>Photography Textbooks</td>\n",
       "      <td>Arts, Film &amp; Photography</td>\n",
       "      <td>965.62</td>\n",
       "    </tr>\n",
       "    <tr>\n",
       "      <th>5</th>\n",
       "      <td>ChiRunning: A Revolutionary Approach to Effort...</td>\n",
       "      <td>Danny Dreyer</td>\n",
       "      <td>Paperback,– 5 May 2009</td>\n",
       "      <td>4.5 out of 5 stars</td>\n",
       "      <td>8 customer reviews</td>\n",
       "      <td>The revised edition of the bestselling ChiRunn...</td>\n",
       "      <td>Healthy Living &amp; Wellness (Books)</td>\n",
       "      <td>Sports</td>\n",
       "      <td>900.00</td>\n",
       "    </tr>\n",
       "    <tr>\n",
       "      <th>6</th>\n",
       "      <td>Death on the Nile (Poirot)</td>\n",
       "      <td>Agatha Christie</td>\n",
       "      <td>Paperback,– 5 Oct 2017</td>\n",
       "      <td>4.4 out of 5 stars</td>\n",
       "      <td>72 customer reviews</td>\n",
       "      <td>Agatha Christie’s most exotic murder mystery\\n...</td>\n",
       "      <td>Crime, Thriller &amp; Mystery (Books)</td>\n",
       "      <td>Crime, Thriller &amp; Mystery</td>\n",
       "      <td>224.00</td>\n",
       "    </tr>\n",
       "    <tr>\n",
       "      <th>7</th>\n",
       "      <td>Yoga Your Home Practice Companion: A Complete ...</td>\n",
       "      <td>Sivananda Yoga Vedanta Centre</td>\n",
       "      <td>Hardcover,– Import, 1 Mar 2018</td>\n",
       "      <td>4.7 out of 5 stars</td>\n",
       "      <td>16 customer reviews</td>\n",
       "      <td>Achieve a healthy body, mental alertness, and ...</td>\n",
       "      <td>Sports Training &amp; Coaching (Books)</td>\n",
       "      <td>Sports</td>\n",
       "      <td>836.00</td>\n",
       "    </tr>\n",
       "    <tr>\n",
       "      <th>8</th>\n",
       "      <td>Karmayogi: A Biography of E. Sreedharan</td>\n",
       "      <td>M S Ashokan</td>\n",
       "      <td>Paperback,– 15 Dec 2015</td>\n",
       "      <td>4.2 out of 5 stars</td>\n",
       "      <td>111 customer reviews</td>\n",
       "      <td>Karmayogi is the dramatic and inspiring story ...</td>\n",
       "      <td>Biographies &amp; Autobiographies (Books)</td>\n",
       "      <td>Biographies, Diaries &amp; True Accounts</td>\n",
       "      <td>130.00</td>\n",
       "    </tr>\n",
       "    <tr>\n",
       "      <th>9</th>\n",
       "      <td>The Iron King (The Accursed Kings, Book 1)</td>\n",
       "      <td>Maurice Druon</td>\n",
       "      <td>Paperback,– 26 Mar 2013</td>\n",
       "      <td>4.0 out of 5 stars</td>\n",
       "      <td>1 customer review</td>\n",
       "      <td>‘This is the original game of thrones’ George ...</td>\n",
       "      <td>Action &amp; Adventure (Books)</td>\n",
       "      <td>Action &amp; Adventure</td>\n",
       "      <td>695.00</td>\n",
       "    </tr>\n",
       "  </tbody>\n",
       "</table>\n",
       "</div>"
      ],
      "text/plain": [
       "                                               Title  \\\n",
       "0                The Prisoner's Gold (The Hunters 3)   \n",
       "1                 Guru Dutt: A Tragedy in Three Acts   \n",
       "2                       Leviathan (Penguin Classics)   \n",
       "3                 A Pocket Full of Rye (Miss Marple)   \n",
       "4         LIFE 70 Years of Extraordinary Photography   \n",
       "5  ChiRunning: A Revolutionary Approach to Effort...   \n",
       "6                         Death on the Nile (Poirot)   \n",
       "7  Yoga Your Home Practice Companion: A Complete ...   \n",
       "8            Karmayogi: A Biography of E. Sreedharan   \n",
       "9         The Iron King (The Accursed Kings, Book 1)   \n",
       "\n",
       "                          Author                         Edition  \\\n",
       "0                 Chris Kuzneski         Paperback,– 10 Mar 2016   \n",
       "1                   Arun Khopkar          Paperback,– 7 Nov 2012   \n",
       "2                  Thomas Hobbes         Paperback,– 25 Feb 1982   \n",
       "3                Agatha Christie          Paperback,– 5 Oct 2017   \n",
       "4                Editors of Life         Hardcover,– 10 Oct 2006   \n",
       "5                   Danny Dreyer          Paperback,– 5 May 2009   \n",
       "6                Agatha Christie          Paperback,– 5 Oct 2017   \n",
       "7  Sivananda Yoga Vedanta Centre  Hardcover,– Import, 1 Mar 2018   \n",
       "8                    M S Ashokan         Paperback,– 15 Dec 2015   \n",
       "9                  Maurice Druon         Paperback,– 26 Mar 2013   \n",
       "\n",
       "              Reviews               Ratings  \\\n",
       "0  4.0 out of 5 stars    8 customer reviews   \n",
       "1  3.9 out of 5 stars   14 customer reviews   \n",
       "2  4.8 out of 5 stars    6 customer reviews   \n",
       "3  4.1 out of 5 stars   13 customer reviews   \n",
       "4  5.0 out of 5 stars     1 customer review   \n",
       "5  4.5 out of 5 stars    8 customer reviews   \n",
       "6  4.4 out of 5 stars   72 customer reviews   \n",
       "7  4.7 out of 5 stars   16 customer reviews   \n",
       "8  4.2 out of 5 stars  111 customer reviews   \n",
       "9  4.0 out of 5 stars     1 customer review   \n",
       "\n",
       "                                            Synopsis  \\\n",
       "0  THE HUNTERS return in their third brilliant no...   \n",
       "1  A layered portrait of a troubled genius for wh...   \n",
       "2  \"During the time men live without a common Pow...   \n",
       "3  A handful of grain is found in the pocket of a...   \n",
       "4  For seven decades, \"Life\" has been thrilling t...   \n",
       "5  The revised edition of the bestselling ChiRunn...   \n",
       "6  Agatha Christie’s most exotic murder mystery\\n...   \n",
       "7  Achieve a healthy body, mental alertness, and ...   \n",
       "8  Karmayogi is the dramatic and inspiring story ...   \n",
       "9  ‘This is the original game of thrones’ George ...   \n",
       "\n",
       "                                   Genre  \\\n",
       "0             Action & Adventure (Books)   \n",
       "1             Cinema & Broadcast (Books)   \n",
       "2                International Relations   \n",
       "3           Contemporary Fiction (Books)   \n",
       "4                  Photography Textbooks   \n",
       "5      Healthy Living & Wellness (Books)   \n",
       "6      Crime, Thriller & Mystery (Books)   \n",
       "7     Sports Training & Coaching (Books)   \n",
       "8  Biographies & Autobiographies (Books)   \n",
       "9             Action & Adventure (Books)   \n",
       "\n",
       "                           BookCategory   Price  \n",
       "0                    Action & Adventure  220.00  \n",
       "1  Biographies, Diaries & True Accounts  202.93  \n",
       "2                                Humour  299.00  \n",
       "3             Crime, Thriller & Mystery  180.00  \n",
       "4              Arts, Film & Photography  965.62  \n",
       "5                                Sports  900.00  \n",
       "6             Crime, Thriller & Mystery  224.00  \n",
       "7                                Sports  836.00  \n",
       "8  Biographies, Diaries & True Accounts  130.00  \n",
       "9                    Action & Adventure  695.00  "
      ]
     },
     "execution_count": 6,
     "metadata": {},
     "output_type": "execute_result"
    }
   ],
   "source": [
    "train.head(10) #Visualizing first 10 rows"
   ]
  },
  {
   "cell_type": "code",
   "execution_count": 7,
   "id": "1172dc51",
   "metadata": {
    "execution": {
     "iopub.execute_input": "2022-03-26T06:04:20.883486Z",
     "iopub.status.busy": "2022-03-26T06:04:20.882723Z",
     "iopub.status.idle": "2022-03-26T06:04:20.908429Z",
     "shell.execute_reply": "2022-03-26T06:04:20.908920Z",
     "shell.execute_reply.started": "2022-03-26T04:58:12.814205Z"
    },
    "papermill": {
     "duration": 0.065981,
     "end_time": "2022-03-26T06:04:20.909138",
     "exception": false,
     "start_time": "2022-03-26T06:04:20.843157",
     "status": "completed"
    },
    "tags": []
   },
   "outputs": [],
   "source": [
    "# Creating new feature \"Average Star Rating\" from \"Reviews\"\n",
    "train[\"Average_Star_Rating\"] = pd.to_numeric(train.Reviews.str.split(pat = \" out of \", n = 1, expand = True)[0],\\\n",
    "                                             downcast='float')"
   ]
  },
  {
   "cell_type": "code",
   "execution_count": 8,
   "id": "e2ad084a",
   "metadata": {
    "execution": {
     "iopub.execute_input": "2022-03-26T06:04:20.983622Z",
     "iopub.status.busy": "2022-03-26T06:04:20.982722Z",
     "iopub.status.idle": "2022-03-26T06:04:21.008763Z",
     "shell.execute_reply": "2022-03-26T06:04:21.008140Z",
     "shell.execute_reply.started": "2022-03-26T04:58:12.840191Z"
    },
    "papermill": {
     "duration": 0.065029,
     "end_time": "2022-03-26T06:04:21.008920",
     "exception": false,
     "start_time": "2022-03-26T06:04:20.943891",
     "status": "completed"
    },
    "tags": []
   },
   "outputs": [],
   "source": [
    "# Creating new feature \"Number of Reviews\" from \"Ratings\"\n",
    "train[\"No_of_Reviews\"] = pd.to_numeric(train.Ratings.str.split(pat = \" \", n = 1, expand = True)[0].apply(lambda x: x.replace(\",\", \"\"))\\\n",
    "                                       , downcast='float')"
   ]
  },
  {
   "cell_type": "markdown",
   "id": "a59f057f",
   "metadata": {
    "papermill": {
     "duration": 0.034422,
     "end_time": "2022-03-26T06:04:21.079576",
     "exception": false,
     "start_time": "2022-03-26T06:04:21.045154",
     "status": "completed"
    },
    "tags": []
   },
   "source": [
    "**Analyzing \"Edition\" column and Creating new features**\n",
    "\n",
    "Usually Hardcover books are more expensive as compared to softcover and paperbacks"
   ]
  },
  {
   "cell_type": "code",
   "execution_count": 9,
   "id": "803d1522",
   "metadata": {
    "execution": {
     "iopub.execute_input": "2022-03-26T06:04:21.154808Z",
     "iopub.status.busy": "2022-03-26T06:04:21.153744Z",
     "iopub.status.idle": "2022-03-26T06:04:21.157560Z",
     "shell.execute_reply": "2022-03-26T06:04:21.158405Z",
     "shell.execute_reply.started": "2022-03-26T05:48:21.966903Z"
    },
    "papermill": {
     "duration": 0.043484,
     "end_time": "2022-03-26T06:04:21.158715",
     "exception": false,
     "start_time": "2022-03-26T06:04:21.115231",
     "status": "completed"
    },
    "tags": []
   },
   "outputs": [],
   "source": [
    "# Checking the unique word that appear in Edition column"
   ]
  },
  {
   "cell_type": "code",
   "execution_count": 10,
   "id": "079edfba",
   "metadata": {
    "execution": {
     "iopub.execute_input": "2022-03-26T06:04:21.234191Z",
     "iopub.status.busy": "2022-03-26T06:04:21.233163Z",
     "iopub.status.idle": "2022-03-26T06:04:21.281690Z",
     "shell.execute_reply": "2022-03-26T06:04:21.282842Z",
     "shell.execute_reply.started": "2022-03-26T05:48:21.966903Z"
    },
    "papermill": {
     "duration": 0.089479,
     "end_time": "2022-03-26T06:04:21.283178",
     "exception": false,
     "start_time": "2022-03-26T06:04:21.193699",
     "status": "completed"
    },
    "tags": []
   },
   "outputs": [
    {
     "name": "stdout",
     "output_type": "stream",
     "text": [
      "Counter({'paperback': 5349, 'hardcover': 823, '2018': 811, '1': 762, '2017': 757, '2016': 659, 'oct': 639, 'import': 625, 'sep': 543, 'may': 537, '2015': 519, 'jan': 514, 'jun': 501, 'nov': 487, 'apr': 470, 'jul': 457, 'mar': 455, 'aug': 446, 'feb': 410, 'dec': 408, '2014': 402, '2013': 388, '2019': 361, '5': 307, '2012': 304, '2011': 267, '15': 246, '2010': 235, '7': 231, '30': 229, '2': 216, '28': 214, '3': 210, '4': 204, '10': 202, '25': 200, '2009': 182, '6': 180, '20': 179, '26': 172, '14': 167, '2008': 163, '18': 156, 'mass': 155, 'market': 155, '27': 155, '29': 154, '24': 148, '31': 133, '22': 132, '12': 132, '21': 130, '8': 129, '16': 129, '23': 127, '2005': 125, '19': 118, '13': 117, '2006': 110, '17': 110, '2007': 108, '9': 100, '2003': 99, '11': 96, '2004': 85, '2002': 72, '2000': 69, '2001': 66, 'illustrated': 53, 'edition': 44, '1999': 39, '1997': 33, '1994': 33, '1992': 31, '1998': 31, '1995': 30, '1996': 27, 'sheet': 24, 'music': 24, '1993': 22, '1989': 20, '1991': 19, 'unabridged': 19, 'special': 19, 'box': 16, 'set': 16, '1986': 16, 'flexibound': 15, 'abridged': 15, '1988': 15, '1984': 15, '1982': 14, 'student': 14, '1990': 14, 'print': 14, '1987': 13, 'large': 11, 'audiobook': 11, 'international': 10, '1983': 10, '1985': 10, 'cards': 8, 'deckle': 7, 'edge': 7, '1976': 6, '1980': 5, '1971': 4, 'facsimile': 4, 'spiral-bound': 4, '1975': 4, '1977': 3, '1974': 3, 'tankobon': 3, 'softcover': 3, '1964': 3, 'loose': 2, 'leaf': 2, '1978': 2, '1979': 2, '1960': 2, '1969': 1, 'plastic': 1, 'comb': 1, 'dvd': 1, 'ntsc': 1, 'bargain': 1, 'price': 1, '1981': 1, 'perfect': 1, 'board': 1, 'book': 1, '(kannada)paperback': 1, 'product': 1, 'bundle': 1, 'library': 1, 'binding': 1, 'deluxe': 1, '1970': 1, '(german)paperback': 1, 'kindle': 1, 'ebook': 1, '1905': 1, '1900': 1, 'leather': 1, 'bound': 1, '1961': 1, '1925': 1, '(french)paperback': 1, 'everybook': 1, '1973': 1, '(spanish)paperback': 1, 'adpcm': 1})\n"
     ]
    }
   ],
   "source": [
    "from collections import Counter\n",
    "results = Counter()\n",
    "train.Edition.str.casefold().str.replace(\",–\", \"\").str.replace(\",\", \"\").str.split().apply(results.update)\n",
    "print(results)"
   ]
  },
  {
   "cell_type": "code",
   "execution_count": 11,
   "id": "7f358056",
   "metadata": {
    "execution": {
     "iopub.execute_input": "2022-03-26T06:04:21.362303Z",
     "iopub.status.busy": "2022-03-26T06:04:21.361530Z",
     "iopub.status.idle": "2022-03-26T06:04:21.405760Z",
     "shell.execute_reply": "2022-03-26T06:04:21.405226Z",
     "shell.execute_reply.started": "2022-03-26T05:55:46.995118Z"
    },
    "papermill": {
     "duration": 0.086565,
     "end_time": "2022-03-26T06:04:21.405918",
     "exception": false,
     "start_time": "2022-03-26T06:04:21.319353",
     "status": "completed"
    },
    "tags": []
   },
   "outputs": [
    {
     "name": "stdout",
     "output_type": "stream",
     "text": [
      "['Paperback', 'Hardcover', 'Mass Market Paperback', 'Sheet music', 'Flexibound', 'Plastic Comb', 'Loose Leaf', 'Tankobon Softcover', 'Perfect Paperback', 'Board book', 'Cards', 'Spiral-bound', '(Kannada),Paperback', 'Product Bundle', 'Library Binding', '(German),Paperback', 'Leather Bound', '(French),Paperback', '(Spanish),Paperback']\n",
      "19\n"
     ]
    }
   ],
   "source": [
    "print(train.Edition.str.split(pat = \",–\", n = 1, expand = True)[0].unique().tolist()) # Splitting the String to check unique values of cover type\n",
    "print(train.Edition.str.split(pat = \",–\", n = 1, expand = True)[0].nunique()) # Count of unique cover types\n",
    "train[\"cover_type\"] = train.Edition.str.split(pat = \",–\", n = 1, expand = True)[0] #Creating new column Cover Type"
   ]
  },
  {
   "cell_type": "code",
   "execution_count": 12,
   "id": "ce25d66b",
   "metadata": {
    "execution": {
     "iopub.execute_input": "2022-03-26T06:04:21.486634Z",
     "iopub.status.busy": "2022-03-26T06:04:21.485841Z",
     "iopub.status.idle": "2022-03-26T06:04:21.497398Z",
     "shell.execute_reply": "2022-03-26T06:04:21.496816Z",
     "shell.execute_reply.started": "2022-03-26T05:56:35.313344Z"
    },
    "papermill": {
     "duration": 0.05614,
     "end_time": "2022-03-26T06:04:21.497549",
     "exception": false,
     "start_time": "2022-03-26T06:04:21.441409",
     "status": "completed"
    },
    "tags": []
   },
   "outputs": [
    {
     "data": {
      "text/plain": [
       "(221, 12)"
      ]
     },
     "execution_count": 12,
     "metadata": {},
     "output_type": "execute_result"
    }
   ],
   "source": [
    "train[train[\"cover_type\"].isin(['Mass Market Paperback', 'Sheet music', 'Flexibound', 'Plastic Comb',\\\n",
    "                                'Loose Leaf', 'Tankobon Softcover', 'Perfect Paperback', 'Board book',\\\n",
    "                                'Cards', 'Spiral-bound', '(Kannada),Paperback', 'Product Bundle', 'Library Binding',\\\n",
    "                                '(German),Paperback', 'Leather Bound', '(French),Paperback', '(Spanish),Paperback'])].shape"
   ]
  },
  {
   "cell_type": "code",
   "execution_count": 13,
   "id": "54c9edb2",
   "metadata": {
    "execution": {
     "iopub.execute_input": "2022-03-26T06:04:21.576713Z",
     "iopub.status.busy": "2022-03-26T06:04:21.575893Z",
     "iopub.status.idle": "2022-03-26T06:04:21.709184Z",
     "shell.execute_reply": "2022-03-26T06:04:21.708403Z",
     "shell.execute_reply.started": "2022-03-26T05:10:41.278388Z"
    },
    "papermill": {
     "duration": 0.176045,
     "end_time": "2022-03-26T06:04:21.709327",
     "exception": false,
     "start_time": "2022-03-26T06:04:21.533282",
     "status": "completed"
    },
    "tags": []
   },
   "outputs": [
    {
     "data": {
      "text/plain": [
       "19      Paperback,– 2016\n",
       "35      Paperback,– 2019\n",
       "44      Hardcover,– 2019\n",
       "60      Paperback,– 2016\n",
       "98      Paperback,– 2011\n",
       "              ...       \n",
       "6165    Paperback,– 2017\n",
       "6176    Paperback,– 2011\n",
       "6177    Paperback,– 2010\n",
       "6217    Hardcover,– 2015\n",
       "6223    Paperback,– 2014\n",
       "Name: Edition, Length: 338, dtype: object"
      ]
     },
     "execution_count": 13,
     "metadata": {},
     "output_type": "execute_result"
    }
   ],
   "source": [
    "#Checking if year of Publication can be extracted as Prices can be a function of year\n",
    "train.Edition[train.Edition.str.rsplit(pat = \" \", n= 2, expand = True)[2].isnull()]"
   ]
  },
  {
   "cell_type": "code",
   "execution_count": 14,
   "id": "371900f9",
   "metadata": {
    "execution": {
     "iopub.execute_input": "2022-03-26T06:04:21.792151Z",
     "iopub.status.busy": "2022-03-26T06:04:21.786477Z",
     "iopub.status.idle": "2022-03-26T06:04:21.795857Z",
     "shell.execute_reply": "2022-03-26T06:04:21.796500Z",
     "shell.execute_reply.started": "2022-03-26T05:25:20.526279Z"
    },
    "papermill": {
     "duration": 0.051293,
     "end_time": "2022-03-26T06:04:21.796671",
     "exception": false,
     "start_time": "2022-03-26T06:04:21.745378",
     "status": "completed"
    },
    "tags": []
   },
   "outputs": [
    {
     "data": {
      "text/plain": [
       "27              Paperback,– Box set, 15 Jun 2014\n",
       "1605    Paperback,– Abridged, Audiobook, Box set\n",
       "1769    Hardcover,– Abridged, Audiobook, Box set\n",
       "2007            Paperback,– Box set, 10 Dec 2012\n",
       "2359             Paperback,– Box set, 7 Oct 2008\n",
       "2660    Paperback,– Abridged, Audiobook, Box set\n",
       "3511    Paperback,– Abridged, Audiobook, Box set\n",
       "3655             Hardcover,– Box set, 2 Aug 2009\n",
       "4449            Paperback,– Box set, 13 Sep 2011\n",
       "4907             Hardcover,– Box set, 7 Nov 2013\n",
       "4964             Paperback,– Box set, 9 Jul 2003\n",
       "5117    Paperback,– Abridged, Audiobook, Box set\n",
       "5221               Paperback,– Box set, Aug 2013\n",
       "5449             Paperback,– Box set, 5 Mar 2016\n",
       "5927             Paperback,– Box set, 7 Oct 2008\n",
       "5974             Paperback,– Box set, 7 Aug 2012\n",
       "Name: Edition, dtype: object"
      ]
     },
     "execution_count": 14,
     "metadata": {},
     "output_type": "execute_result"
    }
   ],
   "source": [
    "train.Edition[train.Edition.str.contains(\"Box set\")]"
   ]
  },
  {
   "cell_type": "code",
   "execution_count": 15,
   "id": "dffc61a8",
   "metadata": {
    "execution": {
     "iopub.execute_input": "2022-03-26T06:04:21.891729Z",
     "iopub.status.busy": "2022-03-26T06:04:21.890995Z",
     "iopub.status.idle": "2022-03-26T06:04:21.894297Z",
     "shell.execute_reply": "2022-03-26T06:04:21.894923Z",
     "shell.execute_reply.started": "2022-03-26T05:15:12.722929Z"
    },
    "papermill": {
     "duration": 0.061,
     "end_time": "2022-03-26T06:04:21.895114",
     "exception": false,
     "start_time": "2022-03-26T06:04:21.834114",
     "status": "completed"
    },
    "tags": []
   },
   "outputs": [
    {
     "data": {
      "text/plain": [
       "array(['2016', '2012', '1982', '2017', '2006', '2009', '2018', '2015',\n",
       "       '2013', '1999', '2002', '2011', '1991', None, '2014', '1989',\n",
       "       '2000', '2005', '2008', '2019', '2004', '2010', '2007', '2001',\n",
       "       '1969', '1993', '1992', '2003', '1996', 'Import', '1997', '1995',\n",
       "       'NTSC', '1987', '1986', '1990', '1988', '1981', '1976', '1994',\n",
       "       '1998', '1977', '1974', '1983', '1985', '1971', 'Facsimile', 'set',\n",
       "       'Edition', '1964', '1984', '1980', 'Unabridged', 'Print', '1960',\n",
       "       '1970', '1905', '1900', 'Audiobook', '1975', '1961', '1925',\n",
       "       '1979', '1978'], dtype=object)"
      ]
     },
     "execution_count": 15,
     "metadata": {},
     "output_type": "execute_result"
    }
   ],
   "source": [
    "train.Edition.str.rsplit(pat = \" \", n= 2, expand = True)[2].unique()"
   ]
  },
  {
   "cell_type": "code",
   "execution_count": 16,
   "id": "65501539",
   "metadata": {
    "execution": {
     "iopub.execute_input": "2022-03-26T06:04:21.974393Z",
     "iopub.status.busy": "2022-03-26T06:04:21.973622Z",
     "iopub.status.idle": "2022-03-26T06:04:21.995239Z",
     "shell.execute_reply": "2022-03-26T06:04:21.995868Z",
     "shell.execute_reply.started": "2022-03-26T06:01:10.020752Z"
    },
    "papermill": {
     "duration": 0.063322,
     "end_time": "2022-03-26T06:04:21.996071",
     "exception": false,
     "start_time": "2022-03-26T06:04:21.932749",
     "status": "completed"
    },
    "tags": []
   },
   "outputs": [
    {
     "data": {
      "text/plain": [
       "169                        Paperback,– Abridged, Import\n",
       "235                            Plastic Comb,– DVD, NTSC\n",
       "582                     Paperback,– Illustrated, Import\n",
       "972                     Paperback,– Illustrated, Import\n",
       "1233                    Paperback,– Large Print, Import\n",
       "1558                      Hardcover,– Import, Facsimile\n",
       "1605           Paperback,– Abridged, Audiobook, Box set\n",
       "1631                    Paperback,– Large Print, Import\n",
       "1643       Paperback,– Student Edition, Special Edition\n",
       "1769           Hardcover,– Abridged, Audiobook, Box set\n",
       "2101                  Hardcover,– Audiobook, Unabridged\n",
       "2229       Paperback,– Abridged, Audiobook, Large Print\n",
       "2660           Paperback,– Abridged, Audiobook, Box set\n",
       "2779                    Paperback,– Illustrated, Import\n",
       "3511           Paperback,– Abridged, Audiobook, Box set\n",
       "3875                      Hardcover,– Facsimile, Import\n",
       "3960    Paperback,– Illustrated, Large Print, Audiobook\n",
       "4036                    Paperback,– Illustrated, Import\n",
       "4403                    Hardcover,– Illustrated, Import\n",
       "5117           Paperback,– Abridged, Audiobook, Box set\n",
       "5860               Paperback,– Illustrated, Large Print\n",
       "Name: Edition, dtype: object"
      ]
     },
     "execution_count": 16,
     "metadata": {},
     "output_type": "execute_result"
    }
   ],
   "source": [
    "train.Edition[train.Edition.str.rsplit(pat = \" \", n= 2, expand = True)[2]\\\n",
    "              .isin([\"Import\",\"NTSC\",\"Facsimile\",\"set\", \"Edition\", \"Unabridged\",\\\n",
    "                    \"Print\", \"Audiobook\"])]"
   ]
  },
  {
   "cell_type": "code",
   "execution_count": 17,
   "id": "60a9573b",
   "metadata": {
    "execution": {
     "iopub.execute_input": "2022-03-26T06:04:22.075796Z",
     "iopub.status.busy": "2022-03-26T06:04:22.075083Z",
     "iopub.status.idle": "2022-03-26T06:04:22.095972Z",
     "shell.execute_reply": "2022-03-26T06:04:22.095375Z",
     "shell.execute_reply.started": "2022-03-26T05:16:52.710328Z"
    },
    "papermill": {
     "duration": 0.062623,
     "end_time": "2022-03-26T06:04:22.096119",
     "exception": false,
     "start_time": "2022-03-26T06:04:22.033496",
     "status": "completed"
    },
    "tags": []
   },
   "outputs": [
    {
     "data": {
      "text/plain": [
       "2229    Paperback,– Abridged, Audiobook, Large Print\n",
       "5860            Paperback,– Illustrated, Large Print\n",
       "Name: Edition, dtype: object"
      ]
     },
     "execution_count": 17,
     "metadata": {},
     "output_type": "execute_result"
    }
   ],
   "source": [
    "train.Edition[train.Edition.str.rsplit(pat = \" \", n= 2, expand = True)[2]==\"Print\"]"
   ]
  },
  {
   "cell_type": "code",
   "execution_count": 18,
   "id": "db84f9fd",
   "metadata": {
    "execution": {
     "iopub.execute_input": "2022-03-26T06:04:22.182838Z",
     "iopub.status.busy": "2022-03-26T06:04:22.182138Z",
     "iopub.status.idle": "2022-03-26T06:04:22.203153Z",
     "shell.execute_reply": "2022-03-26T06:04:22.203874Z",
     "shell.execute_reply.started": "2022-03-26T05:17:01.848862Z"
    },
    "papermill": {
     "duration": 0.068944,
     "end_time": "2022-03-26T06:04:22.204127",
     "exception": false,
     "start_time": "2022-03-26T06:04:22.135183",
     "status": "completed"
    },
    "tags": []
   },
   "outputs": [
    {
     "data": {
      "text/plain": [
       "3960    Paperback,– Illustrated, Large Print, Audiobook\n",
       "Name: Edition, dtype: object"
      ]
     },
     "execution_count": 18,
     "metadata": {},
     "output_type": "execute_result"
    }
   ],
   "source": [
    "train.Edition[train.Edition.str.rsplit(pat = \" \", n= 2, expand = True)[2]==\"Audiobook\"]"
   ]
  },
  {
   "cell_type": "code",
   "execution_count": 19,
   "id": "0bd09c16",
   "metadata": {
    "execution": {
     "iopub.execute_input": "2022-03-26T06:04:22.284353Z",
     "iopub.status.busy": "2022-03-26T06:04:22.283697Z",
     "iopub.status.idle": "2022-03-26T06:04:22.304916Z",
     "shell.execute_reply": "2022-03-26T06:04:22.305499Z",
     "shell.execute_reply.started": "2022-03-26T05:17:11.959442Z"
    },
    "papermill": {
     "duration": 0.063278,
     "end_time": "2022-03-26T06:04:22.305672",
     "exception": false,
     "start_time": "2022-03-26T06:04:22.242394",
     "status": "completed"
    },
    "tags": []
   },
   "outputs": [
    {
     "data": {
      "text/plain": [
       "1643    Paperback,– Student Edition, Special Edition\n",
       "Name: Edition, dtype: object"
      ]
     },
     "execution_count": 19,
     "metadata": {},
     "output_type": "execute_result"
    }
   ],
   "source": [
    "train.Edition[train.Edition.str.rsplit(pat = \" \", n= 2, expand = True)[2]==\"Edition\"]"
   ]
  },
  {
   "cell_type": "code",
   "execution_count": 20,
   "id": "d6b9c9ad",
   "metadata": {
    "execution": {
     "iopub.execute_input": "2022-03-26T06:04:22.386437Z",
     "iopub.status.busy": "2022-03-26T06:04:22.385692Z",
     "iopub.status.idle": "2022-03-26T06:04:22.409226Z",
     "shell.execute_reply": "2022-03-26T06:04:22.408516Z",
     "shell.execute_reply.started": "2022-03-26T05:17:14.625386Z"
    },
    "papermill": {
     "duration": 0.065088,
     "end_time": "2022-03-26T06:04:22.409400",
     "exception": false,
     "start_time": "2022-03-26T06:04:22.344312",
     "status": "completed"
    },
    "tags": []
   },
   "outputs": [
    {
     "data": {
      "text/plain": [
       "235    Plastic Comb,– DVD, NTSC\n",
       "Name: Edition, dtype: object"
      ]
     },
     "execution_count": 20,
     "metadata": {},
     "output_type": "execute_result"
    }
   ],
   "source": [
    "train.Edition[train.Edition.str.rsplit(pat = \" \", n= 2, expand = True)[2]==\"NTSC\"]"
   ]
  },
  {
   "cell_type": "code",
   "execution_count": 21,
   "id": "db343548",
   "metadata": {
    "execution": {
     "iopub.execute_input": "2022-03-26T06:04:22.509918Z",
     "iopub.status.busy": "2022-03-26T06:04:22.504198Z",
     "iopub.status.idle": "2022-03-26T06:04:22.512662Z",
     "shell.execute_reply": "2022-03-26T06:04:22.513311Z",
     "shell.execute_reply.started": "2022-03-26T05:15:32.672740Z"
    },
    "papermill": {
     "duration": 0.064593,
     "end_time": "2022-03-26T06:04:22.513493",
     "exception": false,
     "start_time": "2022-03-26T06:04:22.448900",
     "status": "completed"
    },
    "tags": []
   },
   "outputs": [
    {
     "data": {
      "text/plain": [
       "2101    Hardcover,– Audiobook, Unabridged\n",
       "Name: Edition, dtype: object"
      ]
     },
     "execution_count": 21,
     "metadata": {},
     "output_type": "execute_result"
    }
   ],
   "source": [
    "train.Edition[train.Edition.str.rsplit(pat = \" \", n= 2, expand = True)[2]==\"Unabridged\"]"
   ]
  },
  {
   "cell_type": "code",
   "execution_count": 22,
   "id": "f9146333",
   "metadata": {
    "execution": {
     "iopub.execute_input": "2022-03-26T06:04:22.598608Z",
     "iopub.status.busy": "2022-03-26T06:04:22.597810Z",
     "iopub.status.idle": "2022-03-26T06:04:22.618355Z",
     "shell.execute_reply": "2022-03-26T06:04:22.618910Z",
     "shell.execute_reply.started": "2022-03-26T05:15:25.240773Z"
    },
    "papermill": {
     "duration": 0.064712,
     "end_time": "2022-03-26T06:04:22.619117",
     "exception": false,
     "start_time": "2022-03-26T06:04:22.554405",
     "status": "completed"
    },
    "tags": []
   },
   "outputs": [
    {
     "data": {
      "text/plain": [
       "169        Paperback,– Abridged, Import\n",
       "582     Paperback,– Illustrated, Import\n",
       "972     Paperback,– Illustrated, Import\n",
       "1233    Paperback,– Large Print, Import\n",
       "1631    Paperback,– Large Print, Import\n",
       "2779    Paperback,– Illustrated, Import\n",
       "3875      Hardcover,– Facsimile, Import\n",
       "4036    Paperback,– Illustrated, Import\n",
       "4403    Hardcover,– Illustrated, Import\n",
       "Name: Edition, dtype: object"
      ]
     },
     "execution_count": 22,
     "metadata": {},
     "output_type": "execute_result"
    }
   ],
   "source": [
    "train.Edition[train.Edition.str.rsplit(pat = \" \", n= 2, expand = True)[2]==\"Import\"]"
   ]
  },
  {
   "cell_type": "code",
   "execution_count": 23,
   "id": "bae929c0",
   "metadata": {
    "execution": {
     "iopub.execute_input": "2022-03-26T06:04:22.717872Z",
     "iopub.status.busy": "2022-03-26T06:04:22.705851Z",
     "iopub.status.idle": "2022-03-26T06:04:22.723683Z",
     "shell.execute_reply": "2022-03-26T06:04:22.723042Z"
    },
    "papermill": {
     "duration": 0.063348,
     "end_time": "2022-03-26T06:04:22.723825",
     "exception": false,
     "start_time": "2022-03-26T06:04:22.660477",
     "status": "completed"
    },
    "tags": []
   },
   "outputs": [
    {
     "data": {
      "text/plain": [
       "array(['Paperback', 'Hardcover', 'Mass Market Paperback', 'Sheet music',\n",
       "       'Flexibound', 'Plastic Comb', 'Loose Leaf', 'Tankobon Softcover',\n",
       "       'Perfect Paperback', 'Board book', 'Cards', 'Spiral-bound',\n",
       "       '(Kannada),Paperback', 'Product Bundle', 'Library Binding',\n",
       "       '(German),Paperback', 'Leather Bound', '(French),Paperback',\n",
       "       '(Spanish),Paperback'], dtype=object)"
      ]
     },
     "execution_count": 23,
     "metadata": {},
     "output_type": "execute_result"
    }
   ],
   "source": [
    "train.Edition.str.split(pat = \",–\", n = 1, expand = True)[0].unique()"
   ]
  },
  {
   "cell_type": "code",
   "execution_count": 24,
   "id": "2f1cb6a1",
   "metadata": {
    "execution": {
     "iopub.execute_input": "2022-03-26T06:04:22.811708Z",
     "iopub.status.busy": "2022-03-26T06:04:22.810889Z",
     "iopub.status.idle": "2022-03-26T06:04:22.818517Z",
     "shell.execute_reply": "2022-03-26T06:04:22.819127Z"
    },
    "papermill": {
     "duration": 0.054679,
     "end_time": "2022-03-26T06:04:22.819307",
     "exception": false,
     "start_time": "2022-03-26T06:04:22.764628",
     "status": "completed"
    },
    "tags": []
   },
   "outputs": [
    {
     "data": {
      "text/plain": [
       "array(['(Kannada),Paperback,– 2014'], dtype=object)"
      ]
     },
     "execution_count": 24,
     "metadata": {},
     "output_type": "execute_result"
    }
   ],
   "source": [
    "train.Edition[train.Edition.str.contains(\"Kannada\")].unique()"
   ]
  },
  {
   "cell_type": "code",
   "execution_count": 25,
   "id": "57a1c4b8",
   "metadata": {
    "execution": {
     "iopub.execute_input": "2022-03-26T06:04:22.905338Z",
     "iopub.status.busy": "2022-03-26T06:04:22.904427Z",
     "iopub.status.idle": "2022-03-26T06:04:22.916338Z",
     "shell.execute_reply": "2022-03-26T06:04:22.915722Z"
    },
    "papermill": {
     "duration": 0.055884,
     "end_time": "2022-03-26T06:04:22.916509",
     "exception": false,
     "start_time": "2022-03-26T06:04:22.860625",
     "status": "completed"
    },
    "tags": []
   },
   "outputs": [
    {
     "data": {
      "text/plain": [
       "array(['International Relations',\n",
       "       'International Relations & Globalization (Books)'], dtype=object)"
      ]
     },
     "execution_count": 25,
     "metadata": {},
     "output_type": "execute_result"
    }
   ],
   "source": [
    "train.Genre[train.Genre.str.contains(\"International Relations\")].unique()"
   ]
  },
  {
   "cell_type": "code",
   "execution_count": 26,
   "id": "49a29ef0",
   "metadata": {
    "execution": {
     "iopub.execute_input": "2022-03-26T06:04:23.006984Z",
     "iopub.status.busy": "2022-03-26T06:04:23.006259Z",
     "iopub.status.idle": "2022-03-26T06:04:23.019374Z",
     "shell.execute_reply": "2022-03-26T06:04:23.019879Z"
    },
    "papermill": {
     "duration": 0.06084,
     "end_time": "2022-03-26T06:04:23.020084",
     "exception": false,
     "start_time": "2022-03-26T06:04:22.959244",
     "status": "completed"
    },
    "tags": []
   },
   "outputs": [
    {
     "data": {
      "text/plain": [
       "['API & Operating Environments',\n",
       " 'Action & Adventure (Books)',\n",
       " 'Active Outdoor Pursuits (Books)',\n",
       " 'Aeronautical Engineering',\n",
       " 'Aesthetics',\n",
       " 'Agriculture & Farming (Books)',\n",
       " 'Air Sports (Books)',\n",
       " 'Algebra & Trigonometry',\n",
       " 'Algorithms',\n",
       " 'Alphabet Reference',\n",
       " 'Alternative Medicine (Books)',\n",
       " 'American Football (Books)',\n",
       " 'American Literature',\n",
       " 'Americas',\n",
       " 'Anatomy & Physiology',\n",
       " 'Ancient History (Books)',\n",
       " 'Anthologies (Books)',\n",
       " 'Anthropology (Books)',\n",
       " 'Archery (Books)',\n",
       " 'Architecture (Books)',\n",
       " 'Art Encyclopedias',\n",
       " 'Art History',\n",
       " 'Artificial Intelligence',\n",
       " 'Arts History, Theory & Criticism (Books)',\n",
       " 'Arts, Film & Photography (Books)',\n",
       " 'Asian History',\n",
       " 'Asian Literature',\n",
       " 'Astrology',\n",
       " 'Astronomy & Astrophysics',\n",
       " 'Astronomy (Books)',\n",
       " 'Atheism',\n",
       " 'Banks & Banking',\n",
       " 'Baseball (Books)',\n",
       " 'Basketball (Books)',\n",
       " 'Biographies & Autobiographies (Books)',\n",
       " 'Biographies, Diaries & True Accounts (Books)',\n",
       " 'Biology & Life Sciences',\n",
       " 'Biology Books',\n",
       " 'Biomedical Engineering',\n",
       " 'Biotechnology Engineering Textbooks',\n",
       " 'Bodybuilding & Weightlifting (Books)',\n",
       " 'Buddhism (Books)',\n",
       " 'Budget Travel',\n",
       " 'Business & Economics (Books)',\n",
       " 'Business Communication',\n",
       " 'Business Ethics',\n",
       " 'Business, Strategy & Management (Books)',\n",
       " 'C# Programming',\n",
       " 'CBSE',\n",
       " 'CSS Programming',\n",
       " 'Calculus',\n",
       " 'Camping & Woodcraft (Books)',\n",
       " 'Car Racing (Books)',\n",
       " 'Chemistry Books',\n",
       " \"Children's & Young Adult (Books)\",\n",
       " \"Children's Adventure (Books)\",\n",
       " \"Children's Crafts, Hobbies & Practical Interests (Books)\",\n",
       " \"Children's Crime & Thriller (Books)\",\n",
       " \"Children's Family, Personal & Social Issues (Books)\",\n",
       " \"Children's Fantasy (Books)\",\n",
       " \"Children's Games, Toys & Activities (Books)\",\n",
       " \"Children's Historical Fiction (Books)\",\n",
       " \"Children's History (Books)\",\n",
       " \"Children's Horror & Ghost Stories (Books)\",\n",
       " \"Children's Humour (Books)\",\n",
       " \"Children's Language Learning (Books)\",\n",
       " \"Children's Mysteries & Curiosities (Books)\",\n",
       " \"Children's Painting, Arts & Music (Books)\",\n",
       " \"Children's Picture Books (Books)\",\n",
       " \"Children's Reference (Books)\",\n",
       " \"Children's Science Fiction (Books)\",\n",
       " \"Children's Science, Nature & Technology (Books)\",\n",
       " \"Children's Sport (Books)\",\n",
       " \"Children's Traditional Stories (Books)\",\n",
       " 'Cinema & Broadcast (Books)',\n",
       " 'Civil Rights',\n",
       " 'Classic Fiction (Books)',\n",
       " 'Climbing & Mountaineering (Books)',\n",
       " 'Cold War',\n",
       " 'Colonialism & Imperialism History',\n",
       " 'Combat Sports & Self-Defence (Books)',\n",
       " 'Comics',\n",
       " 'Comics & Graphic Novels (Books)',\n",
       " 'Comics & Mangas (Books)',\n",
       " 'Communication Reference',\n",
       " 'Communications',\n",
       " 'Computer Databases (Books)',\n",
       " 'Computer Hardware & Handheld Devices (Books)',\n",
       " 'Computer Science Books',\n",
       " 'Computer Security (Books)',\n",
       " 'Computing, Internet & Digital Media (Books)',\n",
       " 'Constitutional Law',\n",
       " 'Contemporary Fiction (Books)',\n",
       " 'Crafts, Home & Lifestyle (Books)',\n",
       " 'Cricket (Books)',\n",
       " 'Crime, Thriller & Mystery (Books)',\n",
       " 'Dance (Books)',\n",
       " 'Design',\n",
       " 'Design & Fashion (Books)',\n",
       " 'Design Pattern Programming',\n",
       " 'Development & Growth',\n",
       " 'Developmental Psychology',\n",
       " 'Diaries, Letters & Journals (Books)',\n",
       " 'Dictionaries',\n",
       " 'Digital Media & Graphic Design (Books)',\n",
       " 'Earth Sciences Textbooks',\n",
       " 'Ecology',\n",
       " 'Economic Conditions',\n",
       " 'Economic History',\n",
       " 'Economic Policy & Development',\n",
       " 'Economic Theory',\n",
       " 'Economics Books',\n",
       " 'Economics Textbooks',\n",
       " 'Ecotourism',\n",
       " 'Education & Training',\n",
       " 'Electrical & Electronic Engineering',\n",
       " 'Encyclopaedias & Reference Works (Books)',\n",
       " 'Encyclopedias for Children',\n",
       " 'Engineering',\n",
       " 'Engineering & Technology (Books)',\n",
       " 'Engineering Services Exams',\n",
       " 'English Literature',\n",
       " 'Entrepreneurship',\n",
       " 'Environmental Economics',\n",
       " 'Environmental Engineering',\n",
       " 'Environmental Studies',\n",
       " 'Essay, Letter & Review Writing',\n",
       " 'Essays (Books)',\n",
       " 'Ethics',\n",
       " 'European History',\n",
       " 'European History Textbooks',\n",
       " 'Exam Preparation (Books)',\n",
       " 'FPC',\n",
       " 'Family & Relationships (Books)',\n",
       " 'Fantasy, Science Fiction & Horror (Books)',\n",
       " 'Film & Television',\n",
       " 'Fishing & Angling (Books)',\n",
       " 'Flash Cards',\n",
       " 'Food & Lodging',\n",
       " 'Food, Drink & Entertaining (Books)',\n",
       " 'Foreign Languages',\n",
       " 'French',\n",
       " 'GATE Exams',\n",
       " 'GMAT',\n",
       " 'GRE',\n",
       " 'Game Programming',\n",
       " 'Games & Quizzes (Books)',\n",
       " 'Gay & Lesbian Studies',\n",
       " 'Gender Studies',\n",
       " 'General Dentistry',\n",
       " 'Geography Textbooks',\n",
       " 'Geometry',\n",
       " 'German',\n",
       " 'Golf (Books)',\n",
       " 'Government (Books)',\n",
       " 'Government Exams',\n",
       " 'Governmental',\n",
       " 'Grammar (Books)',\n",
       " 'Graphics & Visualization',\n",
       " 'Gymnastics (Books)',\n",
       " 'Handicrafts, Decorative Arts & Crafts (Books)',\n",
       " 'Healthy Living & Wellness (Books)',\n",
       " 'Hinduism (Books)',\n",
       " 'Historical Fiction (Books)',\n",
       " 'History & Surveys',\n",
       " 'History (Books)',\n",
       " 'History of Ancient Greece',\n",
       " 'History of Civilization & Culture',\n",
       " 'History of Ideas',\n",
       " 'History of Religion (Books)',\n",
       " 'History of Slavery & Emancipation',\n",
       " 'Hockey',\n",
       " 'Holocaust',\n",
       " 'Home & House Maintenance (Books)',\n",
       " 'Horror (Books)',\n",
       " 'Horse Racing (Books)',\n",
       " 'Humanities',\n",
       " 'Humour (Books)',\n",
       " 'Hunting (Books)',\n",
       " 'IELTS',\n",
       " 'IGCSE',\n",
       " 'IT Certification Exams',\n",
       " 'Illustrated Travel Books (Books)',\n",
       " 'Immunology',\n",
       " 'Indian Writing (Books)',\n",
       " 'Industrial Engineering',\n",
       " 'Industries & Business Sectors (Books)',\n",
       " 'Inflation',\n",
       " 'Interface Design Programming',\n",
       " 'Internal Medicine',\n",
       " 'International Baccalaureate',\n",
       " 'International Business',\n",
       " 'International Entrance Exams',\n",
       " 'International Relations',\n",
       " 'International Relations & Globalization (Books)',\n",
       " 'Internet & Web (Books)',\n",
       " 'Interview Preparation',\n",
       " 'Intolerance, Persecution & Fundamentalism',\n",
       " 'Introductory & Beginning Programming',\n",
       " 'Investments & Securities',\n",
       " 'Islam (Books)',\n",
       " 'Italian',\n",
       " 'Japanese',\n",
       " 'Journalism Books',\n",
       " 'Labor & Industrial Relations',\n",
       " 'Language & Linguistics',\n",
       " 'Language Learning & Teaching (Books)',\n",
       " 'Language, Linguistics & Writing (Books)',\n",
       " 'Law (Books)',\n",
       " 'Library & Information Science',\n",
       " 'Linguistics (Books)',\n",
       " 'Literary Theory',\n",
       " 'Literary Travel',\n",
       " 'Literature',\n",
       " 'Literature & Fiction (Books)',\n",
       " 'Literature Encyclopedias',\n",
       " 'Macroeconomics Textbooks',\n",
       " 'Management',\n",
       " 'Mangas',\n",
       " 'Marathon & Running (Books)',\n",
       " 'Martial Arts (Books)',\n",
       " 'Mathematics (Books)',\n",
       " 'Media Studies',\n",
       " 'Medical Dictionaries',\n",
       " 'Medicine`',\n",
       " 'Meditation',\n",
       " 'Mental & Spiritual Healing',\n",
       " 'Microeconomics Textbooks',\n",
       " 'Middle Eastern History',\n",
       " 'Military Sciences',\n",
       " 'Mind, Body & Spirit (Books)',\n",
       " 'Motorcycle Racing',\n",
       " 'Music Books',\n",
       " 'Music Textbooks',\n",
       " 'Mysticism',\n",
       " 'Myths, Legends & Sagas (Books)',\n",
       " 'Networking (Books)',\n",
       " 'Networks & System Administration (Books)',\n",
       " 'Neurology',\n",
       " 'Neuroscience',\n",
       " 'Nuclear Engineering',\n",
       " 'Object-Oriented Software Design',\n",
       " 'Occupational Therapy',\n",
       " 'Oncology',\n",
       " 'Operating Systems Books',\n",
       " 'Operating Systems Textbooks',\n",
       " 'Outdoor Survival Skills (Books)',\n",
       " 'PC & Video Games (Books)',\n",
       " 'PGMEE Exam',\n",
       " 'Painting Books',\n",
       " 'Painting Textbooks',\n",
       " 'Personal Development & Self-Help (Books)',\n",
       " 'Pets (Books)',\n",
       " 'Photography Textbooks',\n",
       " 'Physician & Patient',\n",
       " 'Physics (Books)',\n",
       " 'Plays (Books)',\n",
       " 'Political Freedom & Security (Books)',\n",
       " 'Political Ideologies (Books)',\n",
       " 'Political Parties (Books)',\n",
       " 'Political Structure & Processes (Books)',\n",
       " 'Political Theory (Books)',\n",
       " 'Politics (Books)',\n",
       " 'Pool, Billiards & Snooker (Books)',\n",
       " 'Programming & Software Development (Books)',\n",
       " 'Programming Algorithms',\n",
       " 'Programming Languages (Books)',\n",
       " 'Psychology (Books)',\n",
       " 'Public Administration (Books)',\n",
       " 'Public Affairs',\n",
       " 'Public Health',\n",
       " 'Public Policy',\n",
       " 'Public Speaking Reference',\n",
       " 'Python Programming',\n",
       " 'Radiological & Ultrasound Technology',\n",
       " 'Readers',\n",
       " 'Reading Skills',\n",
       " 'Reference (Books)',\n",
       " 'Reincarnation',\n",
       " 'Religion (Books)',\n",
       " 'Religious & Spiritual Fiction (Books)',\n",
       " 'Rhetoric & Speech (Books)',\n",
       " 'Romance (Books)',\n",
       " 'Rome',\n",
       " 'Rugby (Books)',\n",
       " 'SAT',\n",
       " 'SSC Exam',\n",
       " 'Sailing (Books)',\n",
       " 'Sales',\n",
       " 'Science & Mathematics',\n",
       " 'Sciences, Technology & Medicine (Books)',\n",
       " 'Short Stories (Books)',\n",
       " 'Sign Language Reference',\n",
       " 'Sikhism (Books)',\n",
       " 'Soccer (Books)',\n",
       " 'Social Sciences',\n",
       " 'Social Welfare & Social Services (Books)',\n",
       " 'Society & Culture (Books)',\n",
       " 'Society & Social Sciences (Books)',\n",
       " 'Sociology (Books)',\n",
       " 'Software & Business Applications (Books)',\n",
       " 'Software Architecture',\n",
       " 'Software Design & Engineering',\n",
       " 'Software Programming Compilers',\n",
       " 'Software Testing',\n",
       " 'Specialty Travel',\n",
       " 'Speech',\n",
       " 'Spirituality',\n",
       " 'Sporting Events & Organisations (Books)',\n",
       " 'Sports (Books)',\n",
       " 'Sports Medicine',\n",
       " 'Sports Training & Coaching (Books)',\n",
       " 'Structural Engineering',\n",
       " 'Study Guides',\n",
       " 'Sustainable Development',\n",
       " 'Swimming, Snorkelling & Diving (Books)',\n",
       " 'TOEFL',\n",
       " 'Target Shooting (Books)',\n",
       " 'Teaching & Education',\n",
       " 'Textbooks & Study Guides',\n",
       " 'Theater',\n",
       " 'Theatre & Spectacles (Books)',\n",
       " 'Theory',\n",
       " 'Translation Reference',\n",
       " 'Transportation & Automotive (Books)',\n",
       " 'Travel & Holiday Guides (Books)',\n",
       " 'Travel (Books)',\n",
       " 'Travel with Pets',\n",
       " 'Triathlon (Books)',\n",
       " 'True Accounts (Books)',\n",
       " 'United States History',\n",
       " 'Urban & Regional',\n",
       " 'Vascular Surgery',\n",
       " 'Visual Arts',\n",
       " 'Visual C++ Programming',\n",
       " 'Vocabulary Books',\n",
       " 'Walking, Hiking & Trekking (Books)',\n",
       " 'Waste Management',\n",
       " 'Words, Language & Grammar Reference',\n",
       " 'Workbooks',\n",
       " 'World African & Middle Eastern Literature',\n",
       " 'Writing Guides (Books)',\n",
       " 'XHTML Software Programming',\n",
       " \"Young Adults' Money & Jobs (Books)\",\n",
       " 'Zoology']"
      ]
     },
     "execution_count": 26,
     "metadata": {},
     "output_type": "execute_result"
    }
   ],
   "source": [
    "sorted(train.Genre.unique().tolist()) # Checking Genre Visually"
   ]
  },
  {
   "cell_type": "code",
   "execution_count": 27,
   "id": "f92052be",
   "metadata": {
    "execution": {
     "iopub.execute_input": "2022-03-26T06:04:23.114275Z",
     "iopub.status.busy": "2022-03-26T06:04:23.113525Z",
     "iopub.status.idle": "2022-03-26T06:04:23.120321Z",
     "shell.execute_reply": "2022-03-26T06:04:23.120839Z"
    },
    "papermill": {
     "duration": 0.054946,
     "end_time": "2022-03-26T06:04:23.121030",
     "exception": false,
     "start_time": "2022-03-26T06:04:23.066084",
     "status": "completed"
    },
    "tags": []
   },
   "outputs": [
    {
     "data": {
      "text/plain": [
       "array(['Action & Adventure', 'Biographies, Diaries & True Accounts',\n",
       "       'Humour', 'Crime, Thriller & Mystery', 'Arts, Film & Photography',\n",
       "       'Sports', 'Language, Linguistics & Writing',\n",
       "       'Computing, Internet & Digital Media', 'Romance',\n",
       "       'Comics & Mangas', 'Politics'], dtype=object)"
      ]
     },
     "execution_count": 27,
     "metadata": {},
     "output_type": "execute_result"
    }
   ],
   "source": [
    "train.BookCategory.unique() # Checking BookCategory Visually"
   ]
  }
 ],
 "metadata": {
  "kernelspec": {
   "display_name": "Python 3",
   "language": "python",
   "name": "python3"
  },
  "language_info": {
   "codemirror_mode": {
    "name": "ipython",
    "version": 3
   },
   "file_extension": ".py",
   "mimetype": "text/x-python",
   "name": "python",
   "nbconvert_exporter": "python",
   "pygments_lexer": "ipython3",
   "version": "3.7.12"
  },
  "papermill": {
   "default_parameters": {},
   "duration": 29.94968,
   "end_time": "2022-03-26T06:04:23.876496",
   "environment_variables": {},
   "exception": null,
   "input_path": "__notebook__.ipynb",
   "output_path": "__notebook__.ipynb",
   "parameters": {},
   "start_time": "2022-03-26T06:03:53.926816",
   "version": "2.3.3"
  }
 },
 "nbformat": 4,
 "nbformat_minor": 5
}
