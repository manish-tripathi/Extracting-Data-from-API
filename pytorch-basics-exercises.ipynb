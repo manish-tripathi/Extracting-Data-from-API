{
 "cells": [
  {
   "cell_type": "markdown",
   "id": "981f5700",
   "metadata": {
    "papermill": {
     "duration": 0.008282,
     "end_time": "2022-10-09T19:01:21.909502",
     "exception": false,
     "start_time": "2022-10-09T19:01:21.901220",
     "status": "completed"
    },
    "tags": []
   },
   "source": [
    "<img src=\"../Pierian-Data-Logo.PNG\">\n",
    "<br>\n",
    "<strong><center>Copyright 2019. Created by Jose Marcial Portilla.</center></strong>"
   ]
  },
  {
   "cell_type": "markdown",
   "id": "9375a4c0",
   "metadata": {
    "papermill": {
     "duration": 0.006486,
     "end_time": "2022-10-09T19:01:21.922617",
     "exception": false,
     "start_time": "2022-10-09T19:01:21.916131",
     "status": "completed"
    },
    "tags": []
   },
   "source": [
    "# PyTorch Basics Exercises\n",
    "For these exercises we'll create a tensor and perform several operations on it.\n",
    "\n",
    "<div class=\"alert alert-danger\" style=\"margin: 10px\"><strong>IMPORTANT NOTE!</strong> Make sure you don't run the cells directly above the example output shown, <br>otherwise you will end up writing over the example output!</div>"
   ]
  },
  {
   "cell_type": "markdown",
   "id": "1fc2ea7a",
   "metadata": {
    "papermill": {
     "duration": 0.006115,
     "end_time": "2022-10-09T19:01:21.935202",
     "exception": false,
     "start_time": "2022-10-09T19:01:21.929087",
     "status": "completed"
    },
    "tags": []
   },
   "source": [
    "### 1. Perform standard imports\n",
    "Import torch and NumPy"
   ]
  },
  {
   "cell_type": "code",
   "execution_count": 1,
   "id": "dcd9f02e",
   "metadata": {
    "execution": {
     "iopub.execute_input": "2022-10-09T19:01:21.950756Z",
     "iopub.status.busy": "2022-10-09T19:01:21.949726Z",
     "iopub.status.idle": "2022-10-09T19:01:23.711704Z",
     "shell.execute_reply": "2022-10-09T19:01:23.710300Z"
    },
    "papermill": {
     "duration": 1.773929,
     "end_time": "2022-10-09T19:01:23.715681",
     "exception": false,
     "start_time": "2022-10-09T19:01:21.941752",
     "status": "completed"
    },
    "tags": []
   },
   "outputs": [],
   "source": [
    "# CODE HERE\n",
    "import torch\n",
    "import numpy as np"
   ]
  },
  {
   "cell_type": "markdown",
   "id": "23270fc8",
   "metadata": {
    "papermill": {
     "duration": 0.00762,
     "end_time": "2022-10-09T19:01:23.731779",
     "exception": false,
     "start_time": "2022-10-09T19:01:23.724159",
     "status": "completed"
    },
    "tags": []
   },
   "source": [
    "### 2. Set the random seed for NumPy and PyTorch both to \"42\"\n",
    "This allows us to share the same \"random\" results."
   ]
  },
  {
   "cell_type": "code",
   "execution_count": 2,
   "id": "61adf791",
   "metadata": {
    "execution": {
     "iopub.execute_input": "2022-10-09T19:01:23.748939Z",
     "iopub.status.busy": "2022-10-09T19:01:23.747945Z",
     "iopub.status.idle": "2022-10-09T19:01:23.763110Z",
     "shell.execute_reply": "2022-10-09T19:01:23.761407Z"
    },
    "papermill": {
     "duration": 0.027299,
     "end_time": "2022-10-09T19:01:23.766420",
     "exception": false,
     "start_time": "2022-10-09T19:01:23.739121",
     "status": "completed"
    },
    "tags": []
   },
   "outputs": [
    {
     "data": {
      "text/plain": [
       "<torch._C.Generator at 0x7ff3b0fedb30>"
      ]
     },
     "execution_count": 2,
     "metadata": {},
     "output_type": "execute_result"
    }
   ],
   "source": [
    "# CODE HERE\n",
    "np.random.seed(42)\n",
    "torch.manual_seed(42)"
   ]
  },
  {
   "cell_type": "markdown",
   "id": "e1fdd35e",
   "metadata": {
    "papermill": {
     "duration": 0.006105,
     "end_time": "2022-10-09T19:01:23.779611",
     "exception": false,
     "start_time": "2022-10-09T19:01:23.773506",
     "status": "completed"
    },
    "tags": []
   },
   "source": [
    "### 3. Create a NumPy array called \"arr\" that contains 6 random integers between 0 (inclusive) and 5 (exclusive)"
   ]
  },
  {
   "cell_type": "code",
   "execution_count": 3,
   "id": "41bac735",
   "metadata": {
    "execution": {
     "iopub.execute_input": "2022-10-09T19:01:23.794144Z",
     "iopub.status.busy": "2022-10-09T19:01:23.793349Z",
     "iopub.status.idle": "2022-10-09T19:01:23.802353Z",
     "shell.execute_reply": "2022-10-09T19:01:23.801301Z"
    },
    "papermill": {
     "duration": 0.018702,
     "end_time": "2022-10-09T19:01:23.804480",
     "exception": false,
     "start_time": "2022-10-09T19:01:23.785778",
     "status": "completed"
    },
    "tags": []
   },
   "outputs": [
    {
     "data": {
      "text/plain": [
       "array([3, 4, 2, 4, 4, 1])"
      ]
     },
     "execution_count": 3,
     "metadata": {},
     "output_type": "execute_result"
    }
   ],
   "source": [
    "# CODE HERE\n",
    "arr = np.random.randint(0,5,6)\n",
    "arr"
   ]
  },
  {
   "cell_type": "code",
   "execution_count": 4,
   "id": "10a18d93",
   "metadata": {
    "execution": {
     "iopub.execute_input": "2022-10-09T19:01:23.819711Z",
     "iopub.status.busy": "2022-10-09T19:01:23.819248Z",
     "iopub.status.idle": "2022-10-09T19:01:23.824056Z",
     "shell.execute_reply": "2022-10-09T19:01:23.822846Z"
    },
    "papermill": {
     "duration": 0.0151,
     "end_time": "2022-10-09T19:01:23.826253",
     "exception": false,
     "start_time": "2022-10-09T19:01:23.811153",
     "status": "completed"
    },
    "tags": []
   },
   "outputs": [],
   "source": [
    "# DON'T WRITE HERE"
   ]
  },
  {
   "cell_type": "markdown",
   "id": "9fc4ff8b",
   "metadata": {
    "papermill": {
     "duration": 0.007334,
     "end_time": "2022-10-09T19:01:23.840268",
     "exception": false,
     "start_time": "2022-10-09T19:01:23.832934",
     "status": "completed"
    },
    "tags": []
   },
   "source": [
    "### 4. Create a tensor \"x\" from the array above"
   ]
  },
  {
   "cell_type": "code",
   "execution_count": 5,
   "id": "5c6cb818",
   "metadata": {
    "execution": {
     "iopub.execute_input": "2022-10-09T19:01:23.855873Z",
     "iopub.status.busy": "2022-10-09T19:01:23.855018Z",
     "iopub.status.idle": "2022-10-09T19:01:23.862570Z",
     "shell.execute_reply": "2022-10-09T19:01:23.861676Z"
    },
    "papermill": {
     "duration": 0.017851,
     "end_time": "2022-10-09T19:01:23.864727",
     "exception": false,
     "start_time": "2022-10-09T19:01:23.846876",
     "status": "completed"
    },
    "tags": []
   },
   "outputs": [
    {
     "data": {
      "text/plain": [
       "tensor([3, 4, 2, 4, 4, 1])"
      ]
     },
     "execution_count": 5,
     "metadata": {},
     "output_type": "execute_result"
    }
   ],
   "source": [
    "# CODE HERE\n",
    "\n",
    "x = torch.from_numpy(arr)\n",
    "x"
   ]
  },
  {
   "cell_type": "code",
   "execution_count": 6,
   "id": "bd83aded",
   "metadata": {
    "execution": {
     "iopub.execute_input": "2022-10-09T19:01:23.880427Z",
     "iopub.status.busy": "2022-10-09T19:01:23.879788Z",
     "iopub.status.idle": "2022-10-09T19:01:23.884388Z",
     "shell.execute_reply": "2022-10-09T19:01:23.883482Z"
    },
    "papermill": {
     "duration": 0.015283,
     "end_time": "2022-10-09T19:01:23.886622",
     "exception": false,
     "start_time": "2022-10-09T19:01:23.871339",
     "status": "completed"
    },
    "tags": []
   },
   "outputs": [],
   "source": [
    "# DON'T WRITE HERE"
   ]
  },
  {
   "cell_type": "markdown",
   "id": "f9566ff3",
   "metadata": {
    "papermill": {
     "duration": 0.006376,
     "end_time": "2022-10-09T19:01:23.899777",
     "exception": false,
     "start_time": "2022-10-09T19:01:23.893401",
     "status": "completed"
    },
    "tags": []
   },
   "source": [
    "### 5. Change the dtype of x from 'int32' to 'int64'\n",
    "Note: 'int64' is also called 'LongTensor'"
   ]
  },
  {
   "cell_type": "code",
   "execution_count": 7,
   "id": "b9af8707",
   "metadata": {
    "execution": {
     "iopub.execute_input": "2022-10-09T19:01:23.915363Z",
     "iopub.status.busy": "2022-10-09T19:01:23.914699Z",
     "iopub.status.idle": "2022-10-09T19:01:23.922288Z",
     "shell.execute_reply": "2022-10-09T19:01:23.921268Z"
    },
    "papermill": {
     "duration": 0.017946,
     "end_time": "2022-10-09T19:01:23.924407",
     "exception": false,
     "start_time": "2022-10-09T19:01:23.906461",
     "status": "completed"
    },
    "tags": []
   },
   "outputs": [
    {
     "data": {
      "text/plain": [
       "tensor([3, 4, 2, 4, 4, 1])"
      ]
     },
     "execution_count": 7,
     "metadata": {},
     "output_type": "execute_result"
    }
   ],
   "source": [
    "# CODE HERE\n",
    "x.type(torch.int64)"
   ]
  },
  {
   "cell_type": "code",
   "execution_count": 8,
   "id": "6cad96fe",
   "metadata": {
    "execution": {
     "iopub.execute_input": "2022-10-09T19:01:23.940214Z",
     "iopub.status.busy": "2022-10-09T19:01:23.939465Z",
     "iopub.status.idle": "2022-10-09T19:01:23.943414Z",
     "shell.execute_reply": "2022-10-09T19:01:23.942610Z"
    },
    "papermill": {
     "duration": 0.014154,
     "end_time": "2022-10-09T19:01:23.945486",
     "exception": false,
     "start_time": "2022-10-09T19:01:23.931332",
     "status": "completed"
    },
    "tags": []
   },
   "outputs": [],
   "source": [
    "# DON'T WRITE HERE"
   ]
  },
  {
   "cell_type": "markdown",
   "id": "86de8633",
   "metadata": {
    "papermill": {
     "duration": 0.006577,
     "end_time": "2022-10-09T19:01:23.958911",
     "exception": false,
     "start_time": "2022-10-09T19:01:23.952334",
     "status": "completed"
    },
    "tags": []
   },
   "source": [
    "### 6. Reshape x into a 3x2 tensor\n",
    "There are several ways to do this."
   ]
  },
  {
   "cell_type": "code",
   "execution_count": 9,
   "id": "eba3bc93",
   "metadata": {
    "execution": {
     "iopub.execute_input": "2022-10-09T19:01:23.974097Z",
     "iopub.status.busy": "2022-10-09T19:01:23.973709Z",
     "iopub.status.idle": "2022-10-09T19:01:23.981351Z",
     "shell.execute_reply": "2022-10-09T19:01:23.980259Z"
    },
    "papermill": {
     "duration": 0.017743,
     "end_time": "2022-10-09T19:01:23.983435",
     "exception": false,
     "start_time": "2022-10-09T19:01:23.965692",
     "status": "completed"
    },
    "tags": []
   },
   "outputs": [
    {
     "data": {
      "text/plain": [
       "tensor([[3, 4],\n",
       "        [2, 4],\n",
       "        [4, 1]])"
      ]
     },
     "execution_count": 9,
     "metadata": {},
     "output_type": "execute_result"
    }
   ],
   "source": [
    "# CODE HERE\n",
    "\n",
    "x.reshape(3,2)"
   ]
  },
  {
   "cell_type": "code",
   "execution_count": 10,
   "id": "1c35c758",
   "metadata": {
    "execution": {
     "iopub.execute_input": "2022-10-09T19:01:23.999413Z",
     "iopub.status.busy": "2022-10-09T19:01:23.998510Z",
     "iopub.status.idle": "2022-10-09T19:01:24.003482Z",
     "shell.execute_reply": "2022-10-09T19:01:24.002425Z"
    },
    "papermill": {
     "duration": 0.01531,
     "end_time": "2022-10-09T19:01:24.005702",
     "exception": false,
     "start_time": "2022-10-09T19:01:23.990392",
     "status": "completed"
    },
    "tags": []
   },
   "outputs": [],
   "source": [
    "# DON'T WRITE HERE"
   ]
  },
  {
   "cell_type": "markdown",
   "id": "8a41c4e5",
   "metadata": {
    "papermill": {
     "duration": 0.006617,
     "end_time": "2022-10-09T19:01:24.019372",
     "exception": false,
     "start_time": "2022-10-09T19:01:24.012755",
     "status": "completed"
    },
    "tags": []
   },
   "source": [
    "### 7. Return the right-hand column of tensor x"
   ]
  },
  {
   "cell_type": "code",
   "execution_count": 11,
   "id": "addddb62",
   "metadata": {
    "execution": {
     "iopub.execute_input": "2022-10-09T19:01:24.035556Z",
     "iopub.status.busy": "2022-10-09T19:01:24.034426Z",
     "iopub.status.idle": "2022-10-09T19:01:24.042419Z",
     "shell.execute_reply": "2022-10-09T19:01:24.041494Z"
    },
    "papermill": {
     "duration": 0.018354,
     "end_time": "2022-10-09T19:01:24.044600",
     "exception": false,
     "start_time": "2022-10-09T19:01:24.026246",
     "status": "completed"
    },
    "tags": []
   },
   "outputs": [
    {
     "data": {
      "text/plain": [
       "tensor([[4],\n",
       "        [4],\n",
       "        [1]])"
      ]
     },
     "execution_count": 11,
     "metadata": {},
     "output_type": "execute_result"
    }
   ],
   "source": [
    "# CODE HERE\n",
    "x = x.reshape(3,2)\n",
    "x[:,1:]"
   ]
  },
  {
   "cell_type": "code",
   "execution_count": 12,
   "id": "ab09fafe",
   "metadata": {
    "execution": {
     "iopub.execute_input": "2022-10-09T19:01:24.061226Z",
     "iopub.status.busy": "2022-10-09T19:01:24.060205Z",
     "iopub.status.idle": "2022-10-09T19:01:24.064728Z",
     "shell.execute_reply": "2022-10-09T19:01:24.063788Z"
    },
    "papermill": {
     "duration": 0.014917,
     "end_time": "2022-10-09T19:01:24.066881",
     "exception": false,
     "start_time": "2022-10-09T19:01:24.051964",
     "status": "completed"
    },
    "tags": []
   },
   "outputs": [],
   "source": [
    "# DON'T WRITE HERE"
   ]
  },
  {
   "cell_type": "markdown",
   "id": "0a42364b",
   "metadata": {
    "papermill": {
     "duration": 0.006793,
     "end_time": "2022-10-09T19:01:24.080920",
     "exception": false,
     "start_time": "2022-10-09T19:01:24.074127",
     "status": "completed"
    },
    "tags": []
   },
   "source": [
    "### 8. Without changing x, return a tensor of square values of x\n",
    "There are several ways to do this."
   ]
  },
  {
   "cell_type": "code",
   "execution_count": 13,
   "id": "50301d4b",
   "metadata": {
    "execution": {
     "iopub.execute_input": "2022-10-09T19:01:24.097117Z",
     "iopub.status.busy": "2022-10-09T19:01:24.096458Z",
     "iopub.status.idle": "2022-10-09T19:01:24.104918Z",
     "shell.execute_reply": "2022-10-09T19:01:24.103809Z"
    },
    "papermill": {
     "duration": 0.019341,
     "end_time": "2022-10-09T19:01:24.107285",
     "exception": false,
     "start_time": "2022-10-09T19:01:24.087944",
     "status": "completed"
    },
    "tags": []
   },
   "outputs": [
    {
     "data": {
      "text/plain": [
       "tensor([[ 9, 16],\n",
       "        [ 4, 16],\n",
       "        [16,  1]])"
      ]
     },
     "execution_count": 13,
     "metadata": {},
     "output_type": "execute_result"
    }
   ],
   "source": [
    "# CODE HERE\n",
    "x.square()"
   ]
  },
  {
   "cell_type": "code",
   "execution_count": 14,
   "id": "483c4b09",
   "metadata": {
    "execution": {
     "iopub.execute_input": "2022-10-09T19:01:24.124459Z",
     "iopub.status.busy": "2022-10-09T19:01:24.123331Z",
     "iopub.status.idle": "2022-10-09T19:01:24.128626Z",
     "shell.execute_reply": "2022-10-09T19:01:24.127765Z"
    },
    "papermill": {
     "duration": 0.016013,
     "end_time": "2022-10-09T19:01:24.130815",
     "exception": false,
     "start_time": "2022-10-09T19:01:24.114802",
     "status": "completed"
    },
    "tags": []
   },
   "outputs": [],
   "source": [
    "# DON'T WRITE HERE"
   ]
  },
  {
   "cell_type": "markdown",
   "id": "de380494",
   "metadata": {
    "papermill": {
     "duration": 0.007074,
     "end_time": "2022-10-09T19:01:24.145221",
     "exception": false,
     "start_time": "2022-10-09T19:01:24.138147",
     "status": "completed"
    },
    "tags": []
   },
   "source": [
    "### 9. Create a tensor \"y\" with the same number of elements as x, that can be matrix-multiplied with x\n",
    "Use PyTorch directly (not NumPy) to create a tensor of random integers between 0 (inclusive) and 5 (exclusive).<br>\n",
    "Think about what shape it should have to permit matrix multiplication."
   ]
  },
  {
   "cell_type": "code",
   "execution_count": 15,
   "id": "21c8f520",
   "metadata": {
    "execution": {
     "iopub.execute_input": "2022-10-09T19:01:24.162056Z",
     "iopub.status.busy": "2022-10-09T19:01:24.161394Z",
     "iopub.status.idle": "2022-10-09T19:01:24.172648Z",
     "shell.execute_reply": "2022-10-09T19:01:24.171664Z"
    },
    "papermill": {
     "duration": 0.022288,
     "end_time": "2022-10-09T19:01:24.174896",
     "exception": false,
     "start_time": "2022-10-09T19:01:24.152608",
     "status": "completed"
    },
    "tags": []
   },
   "outputs": [
    {
     "data": {
      "text/plain": [
       "tensor([[2, 2, 1],\n",
       "        [4, 1, 0]])"
      ]
     },
     "execution_count": 15,
     "metadata": {},
     "output_type": "execute_result"
    }
   ],
   "source": [
    "# CODE HERE\n",
    "\n",
    "y = torch.randint(0,5,(2,3))\n",
    "y"
   ]
  },
  {
   "cell_type": "code",
   "execution_count": 16,
   "id": "3019ccf1",
   "metadata": {
    "execution": {
     "iopub.execute_input": "2022-10-09T19:01:24.191691Z",
     "iopub.status.busy": "2022-10-09T19:01:24.191054Z",
     "iopub.status.idle": "2022-10-09T19:01:24.195457Z",
     "shell.execute_reply": "2022-10-09T19:01:24.194715Z"
    },
    "papermill": {
     "duration": 0.015375,
     "end_time": "2022-10-09T19:01:24.197622",
     "exception": false,
     "start_time": "2022-10-09T19:01:24.182247",
     "status": "completed"
    },
    "tags": []
   },
   "outputs": [],
   "source": [
    "# DON'T WRITE HERE"
   ]
  },
  {
   "cell_type": "markdown",
   "id": "ce7d6c17",
   "metadata": {
    "papermill": {
     "duration": 0.007369,
     "end_time": "2022-10-09T19:01:24.212567",
     "exception": false,
     "start_time": "2022-10-09T19:01:24.205198",
     "status": "completed"
    },
    "tags": []
   },
   "source": [
    "### 10. Find the matrix product of x and y"
   ]
  },
  {
   "cell_type": "code",
   "execution_count": 17,
   "id": "e6d239f6",
   "metadata": {
    "execution": {
     "iopub.execute_input": "2022-10-09T19:01:24.229801Z",
     "iopub.status.busy": "2022-10-09T19:01:24.229110Z",
     "iopub.status.idle": "2022-10-09T19:01:24.243303Z",
     "shell.execute_reply": "2022-10-09T19:01:24.242435Z"
    },
    "papermill": {
     "duration": 0.025489,
     "end_time": "2022-10-09T19:01:24.245589",
     "exception": false,
     "start_time": "2022-10-09T19:01:24.220100",
     "status": "completed"
    },
    "tags": []
   },
   "outputs": [
    {
     "data": {
      "text/plain": [
       "tensor([[22, 10,  3],\n",
       "        [20,  8,  2],\n",
       "        [12,  9,  4]])"
      ]
     },
     "execution_count": 17,
     "metadata": {},
     "output_type": "execute_result"
    }
   ],
   "source": [
    "# CODE HERE\n",
    "\n",
    "x @ y"
   ]
  },
  {
   "cell_type": "code",
   "execution_count": 18,
   "id": "e3b55885",
   "metadata": {
    "execution": {
     "iopub.execute_input": "2022-10-09T19:01:24.263094Z",
     "iopub.status.busy": "2022-10-09T19:01:24.262430Z",
     "iopub.status.idle": "2022-10-09T19:01:24.266206Z",
     "shell.execute_reply": "2022-10-09T19:01:24.265399Z"
    },
    "papermill": {
     "duration": 0.01493,
     "end_time": "2022-10-09T19:01:24.268305",
     "exception": false,
     "start_time": "2022-10-09T19:01:24.253375",
     "status": "completed"
    },
    "tags": []
   },
   "outputs": [],
   "source": [
    "# DON'T WRITE HERE"
   ]
  },
  {
   "cell_type": "markdown",
   "id": "257ee2cd",
   "metadata": {
    "papermill": {
     "duration": 0.007359,
     "end_time": "2022-10-09T19:01:24.283414",
     "exception": false,
     "start_time": "2022-10-09T19:01:24.276055",
     "status": "completed"
    },
    "tags": []
   },
   "source": [
    "## Great job!"
   ]
  }
 ],
 "metadata": {
  "kernelspec": {
   "display_name": "Python 3",
   "language": "python",
   "name": "python3"
  },
  "language_info": {
   "codemirror_mode": {
    "name": "ipython",
    "version": 3
   },
   "file_extension": ".py",
   "mimetype": "text/x-python",
   "name": "python",
   "nbconvert_exporter": "python",
   "pygments_lexer": "ipython3",
   "version": "3.7.12"
  },
  "papermill": {
   "default_parameters": {},
   "duration": 12.0963,
   "end_time": "2022-10-09T19:01:25.013223",
   "environment_variables": {},
   "exception": null,
   "input_path": "__notebook__.ipynb",
   "output_path": "__notebook__.ipynb",
   "parameters": {},
   "start_time": "2022-10-09T19:01:12.916923",
   "version": "2.3.4"
  }
 },
 "nbformat": 4,
 "nbformat_minor": 5
}
