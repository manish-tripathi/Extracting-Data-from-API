{
 "cells": [
  {
   "cell_type": "code",
   "execution_count": 1,
   "id": "8003e0ab",
   "metadata": {
    "execution": {
     "iopub.execute_input": "2022-04-12T08:26:30.151463Z",
     "iopub.status.busy": "2022-04-12T08:26:30.145928Z",
     "iopub.status.idle": "2022-04-12T08:26:30.158974Z",
     "shell.execute_reply": "2022-04-12T08:26:30.158098Z",
     "shell.execute_reply.started": "2022-04-12T07:43:58.405806Z"
    },
    "papermill": {
     "duration": 0.022655,
     "end_time": "2022-04-12T08:26:30.159147",
     "exception": false,
     "start_time": "2022-04-12T08:26:30.136492",
     "status": "completed"
    },
    "tags": []
   },
   "outputs": [],
   "source": [
    "urls = [\"https://www.imdb.com/title/tt1213644/\",\n",
    "        \"https://www.imdb.com/title/tt0270846/\",\n",
    "        \"https://www.imdb.com/title/tt0111161/\",\n",
    "        \"https://www.imdb.com/title/tt0068646/\",\n",
    "        \"https://www.imdb.com/title/tt0071562/\",\n",
    "        \"https://www.imdb.com/title/tt0468569/\",\n",
    "        \"https://www.imdb.com/title/tt0050083/\",\n",
    "        \"https://www.imdb.com/title/tt0108052/\",\n",
    "        \"https://www.imdb.com/title/tt0167260/\",\n",
    "        \"https://www.imdb.com/title/tt0110912/\",\n",
    "        \"https://www.imdb.com/title/tt0060196/\",\n",
    "        \"https://www.imdb.com/title/tt0120737/\"\n",
    "       ]"
   ]
  },
  {
   "cell_type": "code",
   "execution_count": 2,
   "id": "1385dbda",
   "metadata": {
    "execution": {
     "iopub.execute_input": "2022-04-12T08:26:30.173572Z",
     "iopub.status.busy": "2022-04-12T08:26:30.172853Z",
     "iopub.status.idle": "2022-04-12T08:26:30.372231Z",
     "shell.execute_reply": "2022-04-12T08:26:30.371703Z",
     "shell.execute_reply.started": "2022-04-12T07:43:58.430865Z"
    },
    "papermill": {
     "duration": 0.208101,
     "end_time": "2022-04-12T08:26:30.372425",
     "exception": false,
     "start_time": "2022-04-12T08:26:30.164324",
     "status": "completed"
    },
    "tags": []
   },
   "outputs": [],
   "source": [
    "import pandas as pd\n",
    "import requests\n",
    "from bs4 import BeautifulSoup"
   ]
  },
  {
   "cell_type": "code",
   "execution_count": 3,
   "id": "21f6e8a8",
   "metadata": {
    "execution": {
     "iopub.execute_input": "2022-04-12T08:26:30.392782Z",
     "iopub.status.busy": "2022-04-12T08:26:30.392057Z",
     "iopub.status.idle": "2022-04-12T09:05:29.438646Z",
     "shell.execute_reply": "2022-04-12T09:05:29.439173Z"
    },
    "papermill": {
     "duration": 2339.062346,
     "end_time": "2022-04-12T09:05:29.439384",
     "exception": false,
     "start_time": "2022-04-12T08:26:30.377038",
     "status": "completed"
    },
    "tags": []
   },
   "outputs": [
    {
     "data": {
      "text/html": [
       "<div>\n",
       "<style scoped>\n",
       "    .dataframe tbody tr th:only-of-type {\n",
       "        vertical-align: middle;\n",
       "    }\n",
       "\n",
       "    .dataframe tbody tr th {\n",
       "        vertical-align: top;\n",
       "    }\n",
       "\n",
       "    .dataframe thead th {\n",
       "        text-align: right;\n",
       "    }\n",
       "</style>\n",
       "<table border=\"1\" class=\"dataframe\">\n",
       "  <thead>\n",
       "    <tr style=\"text-align: right;\">\n",
       "      <th></th>\n",
       "      <th>review_title</th>\n",
       "      <th>review</th>\n",
       "      <th>rating</th>\n",
       "    </tr>\n",
       "  </thead>\n",
       "  <tbody>\n",
       "    <tr>\n",
       "      <th>0</th>\n",
       "      <td>The fact that aspiring actors, directors, and ...</td>\n",
       "      <td>*Disclaimer: I only watched this movie as a co...</td>\n",
       "      <td>1</td>\n",
       "    </tr>\n",
       "    <tr>\n",
       "      <th>1</th>\n",
       "      <td>I'd thought I'd never see the day when I'd see...</td>\n",
       "      <td>Disaster Movie gets my vote as the \"new\" worst...</td>\n",
       "      <td>1</td>\n",
       "    </tr>\n",
       "    <tr>\n",
       "      <th>2</th>\n",
       "      <td>Someone please put an end to Seltzer's awful c...</td>\n",
       "      <td>I was given a free ticket to this film; so I c...</td>\n",
       "      <td>1</td>\n",
       "    </tr>\n",
       "    <tr>\n",
       "      <th>3</th>\n",
       "      <td>Never has a movie had a More Appropriate Title!</td>\n",
       "      <td>Having seen the Scary Movie Series and many of...</td>\n",
       "      <td>1</td>\n",
       "    </tr>\n",
       "    <tr>\n",
       "      <th>4</th>\n",
       "      <td>Disastrous</td>\n",
       "      <td>OK, so \"Disastrous\" isn't an imaginative barb ...</td>\n",
       "      <td>1</td>\n",
       "    </tr>\n",
       "    <tr>\n",
       "      <th>...</th>\n",
       "      <td>...</td>\n",
       "      <td>...</td>\n",
       "      <td>...</td>\n",
       "    </tr>\n",
       "    <tr>\n",
       "      <th>39865</th>\n",
       "      <td>Very rich story</td>\n",
       "      <td>I really enjoyed this film and its sequels. I ...</td>\n",
       "      <td>8</td>\n",
       "    </tr>\n",
       "    <tr>\n",
       "      <th>39866</th>\n",
       "      <td>GOOD</td>\n",
       "      <td>Better than other movies from our days.\\n10! 1...</td>\n",
       "      <td>10</td>\n",
       "    </tr>\n",
       "    <tr>\n",
       "      <th>39867</th>\n",
       "      <td>Starting off the trilogy right!</td>\n",
       "      <td>I don't think they could have started off this...</td>\n",
       "      <td>8</td>\n",
       "    </tr>\n",
       "    <tr>\n",
       "      <th>39868</th>\n",
       "      <td>gooood movies</td>\n",
       "      <td>Ok this movies is goood i like moree but tha h...</td>\n",
       "      <td>10</td>\n",
       "    </tr>\n",
       "    <tr>\n",
       "      <th>39869</th>\n",
       "      <td>Unrepeatable</td>\n",
       "      <td>Heavy and mysterious story and epic work such ...</td>\n",
       "      <td>9</td>\n",
       "    </tr>\n",
       "  </tbody>\n",
       "</table>\n",
       "<p>39870 rows × 3 columns</p>\n",
       "</div>"
      ],
      "text/plain": [
       "                                            review_title  \\\n",
       "0      The fact that aspiring actors, directors, and ...   \n",
       "1      I'd thought I'd never see the day when I'd see...   \n",
       "2      Someone please put an end to Seltzer's awful c...   \n",
       "3        Never has a movie had a More Appropriate Title!   \n",
       "4                                             Disastrous   \n",
       "...                                                  ...   \n",
       "39865                                    Very rich story   \n",
       "39866                                               GOOD   \n",
       "39867                    Starting off the trilogy right!   \n",
       "39868                                      gooood movies   \n",
       "39869                                       Unrepeatable   \n",
       "\n",
       "                                                  review rating  \n",
       "0      *Disclaimer: I only watched this movie as a co...      1  \n",
       "1      Disaster Movie gets my vote as the \"new\" worst...      1  \n",
       "2      I was given a free ticket to this film; so I c...      1  \n",
       "3      Having seen the Scary Movie Series and many of...      1  \n",
       "4      OK, so \"Disastrous\" isn't an imaginative barb ...      1  \n",
       "...                                                  ...    ...  \n",
       "39865  I really enjoyed this film and its sequels. I ...      8  \n",
       "39866  Better than other movies from our days.\\n10! 1...     10  \n",
       "39867  I don't think they could have started off this...      8  \n",
       "39868  Ok this movies is goood i like moree but tha h...     10  \n",
       "39869  Heavy and mysterious story and epic work such ...      9  \n",
       "\n",
       "[39870 rows x 3 columns]"
      ]
     },
     "execution_count": 3,
     "metadata": {},
     "output_type": "execute_result"
    }
   ],
   "source": [
    "import pandas as pd\n",
    "import requests\n",
    "from bs4 import BeautifulSoup as bs\n",
    "\n",
    "data = {\"review_title\": [], \"review\": [], \"rating\":[]} \n",
    "for url in urls:    \n",
    "    \n",
    "    url = (url+\"reviews/_ajax?ref_=undefined&paginationKey={}\")\n",
    "    \n",
    "    key = \"\"\n",
    "    \n",
    "    while True:\n",
    "        page = requests.get(url.format(key))\n",
    "        soup = bs(page.content, \"html.parser\")\n",
    "        # Find the pagination key\n",
    "        pagination_key = soup.find(\"div\", class_=\"load-more-data\")\n",
    "        if not pagination_key:\n",
    "            break\n",
    "\n",
    "        # Update the `key` variable in-order to scrape more reviews\n",
    "        key = pagination_key[\"data-key\"]\n",
    "        \n",
    "        \n",
    "        for title, review, rating in zip(\n",
    "            soup.find_all(class_=\"title\"), soup.find_all(class_=\"text show-more__control\"),\\\n",
    "            soup.find_all(\"span\", class_=\"rating-other-user-rating\")\n",
    "        ):\n",
    "            data[\"review_title\"].append(title.get_text(strip=True))\n",
    "            data[\"review\"].append(review.get_text())\n",
    "            data[\"rating\"].append(rating.find(\"span\").get_text())\n",
    "                        \n",
    "\n",
    "df = pd.DataFrame(data)\n",
    "df"
   ]
  },
  {
   "cell_type": "code",
   "execution_count": 4,
   "id": "d11e47f7",
   "metadata": {
    "execution": {
     "iopub.execute_input": "2022-04-12T09:05:29.455346Z",
     "iopub.status.busy": "2022-04-12T09:05:29.453282Z",
     "iopub.status.idle": "2022-04-12T09:05:31.196633Z",
     "shell.execute_reply": "2022-04-12T09:05:31.195997Z"
    },
    "papermill": {
     "duration": 1.752006,
     "end_time": "2022-04-12T09:05:31.196784",
     "exception": false,
     "start_time": "2022-04-12T09:05:29.444778",
     "status": "completed"
    },
    "tags": []
   },
   "outputs": [],
   "source": [
    "df.to_csv(\"dma2.csv\")"
   ]
  }
 ],
 "metadata": {
  "kernelspec": {
   "display_name": "Python 3",
   "language": "python",
   "name": "python3"
  },
  "language_info": {
   "codemirror_mode": {
    "name": "ipython",
    "version": 3
   },
   "file_extension": ".py",
   "mimetype": "text/x-python",
   "name": "python",
   "nbconvert_exporter": "python",
   "pygments_lexer": "ipython3",
   "version": "3.7.10"
  },
  "papermill": {
   "default_parameters": {},
   "duration": 2351.541657,
   "end_time": "2022-04-12T09:05:32.803537",
   "environment_variables": {},
   "exception": null,
   "input_path": "__notebook__.ipynb",
   "output_path": "__notebook__.ipynb",
   "parameters": {},
   "start_time": "2022-04-12T08:26:21.261880",
   "version": "2.3.3"
  }
 },
 "nbformat": 4,
 "nbformat_minor": 5
}
