{
 "cells": [
  {
   "cell_type": "code",
   "execution_count": 1,
   "id": "f5accacf",
   "metadata": {
    "execution": {
     "iopub.execute_input": "2022-10-11T07:43:35.843980Z",
     "iopub.status.busy": "2022-10-11T07:43:35.842809Z",
     "iopub.status.idle": "2022-10-11T07:43:38.743973Z",
     "shell.execute_reply": "2022-10-11T07:43:38.743363Z"
    },
    "papermill": {
     "duration": 2.911299,
     "end_time": "2022-10-11T07:43:38.746052",
     "exception": false,
     "start_time": "2022-10-11T07:43:35.834753",
     "status": "completed"
    },
    "tags": []
   },
   "outputs": [],
   "source": [
    "import torch\n",
    "import torch.nn as nn\n",
    "import torch.nn.functional as F\n",
    "\n",
    "from torch.utils.data import DataLoader\n",
    "from torchvision import datasets, transforms\n",
    "\n",
    "import numpy as np # linear algebra\n",
    "import pandas as pd # data processing, CSV file I/O (e.g. pd.read_csv)\n",
    "import matplotlib.pyplot as plt\n",
    "from sklearn.metrics import confusion_matrix\n",
    "%matplotlib inline"
   ]
  },
  {
   "cell_type": "markdown",
   "id": "702681a1",
   "metadata": {
    "papermill": {
     "duration": 0.006096,
     "end_time": "2022-10-11T07:43:38.758726",
     "exception": false,
     "start_time": "2022-10-11T07:43:38.752630",
     "status": "completed"
    },
    "tags": []
   },
   "source": [
    "Data does not always come in its final processed form that is required for training machine learning algorithms. We use transforms to perform some manipulation of the data and make it suitable for training.\n",
    "\n",
    "All TorchVision datasets have two parameters -transform to modify the features and target_transform to modify the labels\n",
    "\n",
    "https://pytorch.org/tutorials/beginner/basics/transforms_tutorial.html\n",
    "\n",
    "ToTensor converts a PIL image or NumPy ndarray into a FloatTensor. and scales the image’s pixel intensity values in the range."
   ]
  },
  {
   "cell_type": "code",
   "execution_count": 2,
   "id": "5354dfa3",
   "metadata": {
    "execution": {
     "iopub.execute_input": "2022-10-11T07:43:38.772558Z",
     "iopub.status.busy": "2022-10-11T07:43:38.771494Z",
     "iopub.status.idle": "2022-10-11T07:43:38.776354Z",
     "shell.execute_reply": "2022-10-11T07:43:38.775469Z"
    },
    "papermill": {
     "duration": 0.013134,
     "end_time": "2022-10-11T07:43:38.777860",
     "exception": false,
     "start_time": "2022-10-11T07:43:38.764726",
     "status": "completed"
    },
    "tags": []
   },
   "outputs": [],
   "source": [
    "# Minst Image file to Tensors\n",
    "transform = transforms.ToTensor()"
   ]
  },
  {
   "cell_type": "code",
   "execution_count": 3,
   "id": "9627dc97",
   "metadata": {
    "execution": {
     "iopub.execute_input": "2022-10-11T07:43:38.791505Z",
     "iopub.status.busy": "2022-10-11T07:43:38.790984Z",
     "iopub.status.idle": "2022-10-11T07:43:39.844600Z",
     "shell.execute_reply": "2022-10-11T07:43:39.843500Z"
    },
    "papermill": {
     "duration": 1.061972,
     "end_time": "2022-10-11T07:43:39.846320",
     "exception": false,
     "start_time": "2022-10-11T07:43:38.784348",
     "status": "completed"
    },
    "tags": []
   },
   "outputs": [
    {
     "name": "stdout",
     "output_type": "stream",
     "text": [
      "Downloading http://yann.lecun.com/exdb/mnist/train-images-idx3-ubyte.gz\n",
      "Downloading http://yann.lecun.com/exdb/mnist/train-images-idx3-ubyte.gz to data/MNIST/raw/train-images-idx3-ubyte.gz\n"
     ]
    },
    {
     "data": {
      "application/vnd.jupyter.widget-view+json": {
       "model_id": "42949b87c7f34485ba1b5839cb70f1fc",
       "version_major": 2,
       "version_minor": 0
      },
      "text/plain": [
       "  0%|          | 0/9912422 [00:00<?, ?it/s]"
      ]
     },
     "metadata": {},
     "output_type": "display_data"
    },
    {
     "name": "stdout",
     "output_type": "stream",
     "text": [
      "Extracting data/MNIST/raw/train-images-idx3-ubyte.gz to data/MNIST/raw\n",
      "\n",
      "Downloading http://yann.lecun.com/exdb/mnist/train-labels-idx1-ubyte.gz\n",
      "Downloading http://yann.lecun.com/exdb/mnist/train-labels-idx1-ubyte.gz to data/MNIST/raw/train-labels-idx1-ubyte.gz\n"
     ]
    },
    {
     "data": {
      "application/vnd.jupyter.widget-view+json": {
       "model_id": "651cc0e35b104e728b717384fbc71170",
       "version_major": 2,
       "version_minor": 0
      },
      "text/plain": [
       "  0%|          | 0/28881 [00:00<?, ?it/s]"
      ]
     },
     "metadata": {},
     "output_type": "display_data"
    },
    {
     "name": "stdout",
     "output_type": "stream",
     "text": [
      "Extracting data/MNIST/raw/train-labels-idx1-ubyte.gz to data/MNIST/raw\n",
      "\n",
      "Downloading http://yann.lecun.com/exdb/mnist/t10k-images-idx3-ubyte.gz\n",
      "Downloading http://yann.lecun.com/exdb/mnist/t10k-images-idx3-ubyte.gz to data/MNIST/raw/t10k-images-idx3-ubyte.gz\n"
     ]
    },
    {
     "data": {
      "application/vnd.jupyter.widget-view+json": {
       "model_id": "1da7a2fdd652442c853c647eb0647501",
       "version_major": 2,
       "version_minor": 0
      },
      "text/plain": [
       "  0%|          | 0/1648877 [00:00<?, ?it/s]"
      ]
     },
     "metadata": {},
     "output_type": "display_data"
    },
    {
     "name": "stdout",
     "output_type": "stream",
     "text": [
      "Extracting data/MNIST/raw/t10k-images-idx3-ubyte.gz to data/MNIST/raw\n",
      "\n",
      "Downloading http://yann.lecun.com/exdb/mnist/t10k-labels-idx1-ubyte.gz\n",
      "Downloading http://yann.lecun.com/exdb/mnist/t10k-labels-idx1-ubyte.gz to data/MNIST/raw/t10k-labels-idx1-ubyte.gz\n"
     ]
    },
    {
     "data": {
      "application/vnd.jupyter.widget-view+json": {
       "model_id": "d37255ed10c942549840fa303b7a29ae",
       "version_major": 2,
       "version_minor": 0
      },
      "text/plain": [
       "  0%|          | 0/4542 [00:00<?, ?it/s]"
      ]
     },
     "metadata": {},
     "output_type": "display_data"
    },
    {
     "name": "stdout",
     "output_type": "stream",
     "text": [
      "Extracting data/MNIST/raw/t10k-labels-idx1-ubyte.gz to data/MNIST/raw\n",
      "\n"
     ]
    }
   ],
   "source": [
    "train_data = datasets.MNIST(root = 'data',\n",
    "                            train = True,\n",
    "                            download = True,\n",
    "                            transform = transform)"
   ]
  },
  {
   "cell_type": "code",
   "execution_count": 4,
   "id": "8d8766d6",
   "metadata": {
    "execution": {
     "iopub.execute_input": "2022-10-11T07:43:39.862490Z",
     "iopub.status.busy": "2022-10-11T07:43:39.862036Z",
     "iopub.status.idle": "2022-10-11T07:43:39.870600Z",
     "shell.execute_reply": "2022-10-11T07:43:39.869796Z"
    },
    "papermill": {
     "duration": 0.018403,
     "end_time": "2022-10-11T07:43:39.872219",
     "exception": false,
     "start_time": "2022-10-11T07:43:39.853816",
     "status": "completed"
    },
    "tags": []
   },
   "outputs": [],
   "source": [
    "test_data = datasets.MNIST(root = 'data',\n",
    "                           train = False,\n",
    "                           download = True,\n",
    "                           transform = transform)"
   ]
  },
  {
   "cell_type": "code",
   "execution_count": 5,
   "id": "cc47ee57",
   "metadata": {
    "execution": {
     "iopub.execute_input": "2022-10-11T07:43:39.888708Z",
     "iopub.status.busy": "2022-10-11T07:43:39.888319Z",
     "iopub.status.idle": "2022-10-11T07:43:39.893774Z",
     "shell.execute_reply": "2022-10-11T07:43:39.893267Z"
    },
    "papermill": {
     "duration": 0.014695,
     "end_time": "2022-10-11T07:43:39.895248",
     "exception": false,
     "start_time": "2022-10-11T07:43:39.880553",
     "status": "completed"
    },
    "tags": []
   },
   "outputs": [
    {
     "data": {
      "text/plain": [
       "Dataset MNIST\n",
       "    Number of datapoints: 60000\n",
       "    Root location: data\n",
       "    Split: Train\n",
       "    StandardTransform\n",
       "Transform: ToTensor()"
      ]
     },
     "execution_count": 5,
     "metadata": {},
     "output_type": "execute_result"
    }
   ],
   "source": [
    "train_data"
   ]
  },
  {
   "cell_type": "code",
   "execution_count": 6,
   "id": "c4ea88b7",
   "metadata": {
    "execution": {
     "iopub.execute_input": "2022-10-11T07:43:39.910751Z",
     "iopub.status.busy": "2022-10-11T07:43:39.910311Z",
     "iopub.status.idle": "2022-10-11T07:43:39.914390Z",
     "shell.execute_reply": "2022-10-11T07:43:39.913831Z"
    },
    "papermill": {
     "duration": 0.013509,
     "end_time": "2022-10-11T07:43:39.915947",
     "exception": false,
     "start_time": "2022-10-11T07:43:39.902438",
     "status": "completed"
    },
    "tags": []
   },
   "outputs": [
    {
     "data": {
      "text/plain": [
       "Dataset MNIST\n",
       "    Number of datapoints: 10000\n",
       "    Root location: data\n",
       "    Split: Test\n",
       "    StandardTransform\n",
       "Transform: ToTensor()"
      ]
     },
     "execution_count": 6,
     "metadata": {},
     "output_type": "execute_result"
    }
   ],
   "source": [
    "test_data"
   ]
  },
  {
   "cell_type": "code",
   "execution_count": 7,
   "id": "40ddb0ae",
   "metadata": {
    "execution": {
     "iopub.execute_input": "2022-10-11T07:43:39.932209Z",
     "iopub.status.busy": "2022-10-11T07:43:39.931854Z",
     "iopub.status.idle": "2022-10-11T07:43:39.939698Z",
     "shell.execute_reply": "2022-10-11T07:43:39.938450Z"
    },
    "papermill": {
     "duration": 0.018645,
     "end_time": "2022-10-11T07:43:39.942004",
     "exception": false,
     "start_time": "2022-10-11T07:43:39.923359",
     "status": "completed"
    },
    "tags": []
   },
   "outputs": [
    {
     "data": {
      "text/plain": [
       "tuple"
      ]
     },
     "execution_count": 7,
     "metadata": {},
     "output_type": "execute_result"
    }
   ],
   "source": [
    "type(train_data[0])"
   ]
  },
  {
   "cell_type": "code",
   "execution_count": 8,
   "id": "cb4354c2",
   "metadata": {
    "execution": {
     "iopub.execute_input": "2022-10-11T07:43:39.958391Z",
     "iopub.status.busy": "2022-10-11T07:43:39.958053Z",
     "iopub.status.idle": "2022-10-11T07:43:39.962968Z",
     "shell.execute_reply": "2022-10-11T07:43:39.961737Z"
    },
    "papermill": {
     "duration": 0.015473,
     "end_time": "2022-10-11T07:43:39.965152",
     "exception": false,
     "start_time": "2022-10-11T07:43:39.949679",
     "status": "completed"
    },
    "tags": []
   },
   "outputs": [],
   "source": [
    "image, label = train_data[0]"
   ]
  },
  {
   "cell_type": "code",
   "execution_count": 9,
   "id": "3658536a",
   "metadata": {
    "execution": {
     "iopub.execute_input": "2022-10-11T07:43:39.980738Z",
     "iopub.status.busy": "2022-10-11T07:43:39.980455Z",
     "iopub.status.idle": "2022-10-11T07:43:39.986042Z",
     "shell.execute_reply": "2022-10-11T07:43:39.985238Z"
    },
    "papermill": {
     "duration": 0.015237,
     "end_time": "2022-10-11T07:43:39.987676",
     "exception": false,
     "start_time": "2022-10-11T07:43:39.972439",
     "status": "completed"
    },
    "tags": []
   },
   "outputs": [
    {
     "data": {
      "text/plain": [
       "torch.Size([1, 28, 28])"
      ]
     },
     "execution_count": 9,
     "metadata": {},
     "output_type": "execute_result"
    }
   ],
   "source": [
    "image.shape"
   ]
  },
  {
   "cell_type": "code",
   "execution_count": 10,
   "id": "ee283c83",
   "metadata": {
    "execution": {
     "iopub.execute_input": "2022-10-11T07:43:40.003261Z",
     "iopub.status.busy": "2022-10-11T07:43:40.002979Z",
     "iopub.status.idle": "2022-10-11T07:43:40.008748Z",
     "shell.execute_reply": "2022-10-11T07:43:40.007938Z"
    },
    "papermill": {
     "duration": 0.015258,
     "end_time": "2022-10-11T07:43:40.010120",
     "exception": false,
     "start_time": "2022-10-11T07:43:39.994862",
     "status": "completed"
    },
    "tags": []
   },
   "outputs": [
    {
     "data": {
      "text/plain": [
       "5"
      ]
     },
     "execution_count": 10,
     "metadata": {},
     "output_type": "execute_result"
    }
   ],
   "source": [
    "label"
   ]
  },
  {
   "cell_type": "code",
   "execution_count": 11,
   "id": "be7c3b52",
   "metadata": {
    "execution": {
     "iopub.execute_input": "2022-10-11T07:43:40.025341Z",
     "iopub.status.busy": "2022-10-11T07:43:40.025072Z",
     "iopub.status.idle": "2022-10-11T07:43:40.193365Z",
     "shell.execute_reply": "2022-10-11T07:43:40.191714Z"
    },
    "papermill": {
     "duration": 0.178479,
     "end_time": "2022-10-11T07:43:40.195674",
     "exception": false,
     "start_time": "2022-10-11T07:43:40.017195",
     "status": "completed"
    },
    "tags": []
   },
   "outputs": [
    {
     "data": {
      "text/plain": [
       "<matplotlib.image.AxesImage at 0x7fbf583c4110>"
      ]
     },
     "execution_count": 11,
     "metadata": {},
     "output_type": "execute_result"
    },
    {
     "data": {
      "image/png": "[encoded data removed]",
      "text/plain": [
       "<Figure size 432x288 with 1 Axes>"
      ]
     },
     "metadata": {
      "needs_background": "light"
     },
     "output_type": "display_data"
    }
   ],
   "source": [
    "plt.imshow(image.reshape(28,28),cmap = 'gist_yarg')"
   ]
  },
  {
   "cell_type": "code",
   "execution_count": 12,
   "id": "c99be62c",
   "metadata": {
    "execution": {
     "iopub.execute_input": "2022-10-11T07:43:40.212158Z",
     "iopub.status.busy": "2022-10-11T07:43:40.211862Z",
     "iopub.status.idle": "2022-10-11T07:43:40.220319Z",
     "shell.execute_reply": "2022-10-11T07:43:40.219290Z"
    },
    "papermill": {
     "duration": 0.019059,
     "end_time": "2022-10-11T07:43:40.222393",
     "exception": false,
     "start_time": "2022-10-11T07:43:40.203334",
     "status": "completed"
    },
    "tags": []
   },
   "outputs": [],
   "source": [
    "torch.manual_seed(101)\n",
    "\n",
    "train_loader = DataLoader(train_data, batch_size = 100, shuffle = True)\n",
    "test_loader = DataLoader(test_data, batch_size= 500, shuffle= False)"
   ]
  },
  {
   "cell_type": "code",
   "execution_count": 13,
   "id": "ce3b8d5a",
   "metadata": {
    "execution": {
     "iopub.execute_input": "2022-10-11T07:43:40.239836Z",
     "iopub.status.busy": "2022-10-11T07:43:40.239344Z",
     "iopub.status.idle": "2022-10-11T07:43:40.243657Z",
     "shell.execute_reply": "2022-10-11T07:43:40.242784Z"
    },
    "papermill": {
     "duration": 0.01529,
     "end_time": "2022-10-11T07:43:40.245700",
     "exception": false,
     "start_time": "2022-10-11T07:43:40.230410",
     "status": "completed"
    },
    "tags": []
   },
   "outputs": [],
   "source": [
    "from torchvision.utils import make_grid"
   ]
  },
  {
   "cell_type": "code",
   "execution_count": 14,
   "id": "0e7b5376",
   "metadata": {
    "execution": {
     "iopub.execute_input": "2022-10-11T07:43:40.262668Z",
     "iopub.status.busy": "2022-10-11T07:43:40.262187Z",
     "iopub.status.idle": "2022-10-11T07:43:40.288529Z",
     "shell.execute_reply": "2022-10-11T07:43:40.287405Z"
    },
    "papermill": {
     "duration": 0.037383,
     "end_time": "2022-10-11T07:43:40.290990",
     "exception": false,
     "start_time": "2022-10-11T07:43:40.253607",
     "status": "completed"
    },
    "tags": []
   },
   "outputs": [],
   "source": [
    "# Grabbing the first batch\n",
    "for images, labels in train_loader:\n",
    "    break"
   ]
  },
  {
   "cell_type": "code",
   "execution_count": 15,
   "id": "f200507d",
   "metadata": {
    "execution": {
     "iopub.execute_input": "2022-10-11T07:43:40.308463Z",
     "iopub.status.busy": "2022-10-11T07:43:40.308136Z",
     "iopub.status.idle": "2022-10-11T07:43:40.312515Z",
     "shell.execute_reply": "2022-10-11T07:43:40.311924Z"
    },
    "papermill": {
     "duration": 0.014517,
     "end_time": "2022-10-11T07:43:40.313992",
     "exception": false,
     "start_time": "2022-10-11T07:43:40.299475",
     "status": "completed"
    },
    "tags": []
   },
   "outputs": [
    {
     "data": {
      "text/plain": [
       "torch.Size([100])"
      ]
     },
     "execution_count": 15,
     "metadata": {},
     "output_type": "execute_result"
    }
   ],
   "source": [
    "labels.shape"
   ]
  },
  {
   "cell_type": "code",
   "execution_count": 16,
   "id": "0e430cce",
   "metadata": {
    "execution": {
     "iopub.execute_input": "2022-10-11T07:43:40.331265Z",
     "iopub.status.busy": "2022-10-11T07:43:40.330788Z",
     "iopub.status.idle": "2022-10-11T07:43:40.467329Z",
     "shell.execute_reply": "2022-10-11T07:43:40.466622Z"
    },
    "papermill": {
     "duration": 0.14701,
     "end_time": "2022-10-11T07:43:40.469059",
     "exception": false,
     "start_time": "2022-10-11T07:43:40.322049",
     "status": "completed"
    },
    "tags": []
   },
   "outputs": [
    {
     "name": "stdout",
     "output_type": "stream",
     "text": [
      "Labels:  [7 2 3 5 8 5 3 6 9 9 1 3]\n"
     ]
    },
    {
     "data": {
      "image/png": "[encoded data removed]",
      "text/plain": [
       "<Figure size 720x288 with 1 Axes>"
      ]
     },
     "metadata": {
      "needs_background": "light"
     },
     "output_type": "display_data"
    }
   ],
   "source": [
    "# make_grid(): Makes a grid of images\n",
    "\n",
    "#print the labels\n",
    "print('Labels: ', labels[:12].numpy())\n",
    "\n",
    "im = make_grid(images[:12],nrow = 12)\n",
    "plt.figure(figsize = (10, 4))\n",
    "\n",
    "# change from color channel, width, height to width, height, color channel\n",
    "plt.imshow(np.transpose(im.numpy(),(1,2,0)));"
   ]
  },
  {
   "cell_type": "code",
   "execution_count": 17,
   "id": "9196e2c7",
   "metadata": {
    "execution": {
     "iopub.execute_input": "2022-10-11T07:43:40.489829Z",
     "iopub.status.busy": "2022-10-11T07:43:40.489392Z",
     "iopub.status.idle": "2022-10-11T07:43:40.494942Z",
     "shell.execute_reply": "2022-10-11T07:43:40.494422Z"
    },
    "papermill": {
     "duration": 0.016437,
     "end_time": "2022-10-11T07:43:40.496439",
     "exception": false,
     "start_time": "2022-10-11T07:43:40.480002",
     "status": "completed"
    },
    "tags": []
   },
   "outputs": [],
   "source": [
    "# creating a multi layer perceptron\n",
    "\n",
    "class MultiLayerPerceptron(nn.Module):\n",
    "    def __init__(self, in_sz = 784, out_sz = 10, layers = [120,84]):\n",
    "        super().__init__()\n",
    "        self.fc1 = nn.Linear(in_sz, layers[0])\n",
    "        self.fc2 = nn.Linear(layers[0], layers[1])\n",
    "        self.fc3 = nn.Linear(layers[1],out_sz)\n",
    "        \n",
    "        \n",
    "    def forward(self,X):\n",
    "        X = F.relu(self.fc1(X))\n",
    "        X = F.relu(self.fc2(X))\n",
    "        X = self.fc3(X)\n",
    "        \n",
    "        return F.log_softmax(X, dim = 1) # Multi Class classification"
   ]
  },
  {
   "cell_type": "code",
   "execution_count": 18,
   "id": "5a3fa9ac",
   "metadata": {
    "execution": {
     "iopub.execute_input": "2022-10-11T07:43:40.514688Z",
     "iopub.status.busy": "2022-10-11T07:43:40.514298Z",
     "iopub.status.idle": "2022-10-11T07:43:40.521679Z",
     "shell.execute_reply": "2022-10-11T07:43:40.519513Z"
    },
    "papermill": {
     "duration": 0.018269,
     "end_time": "2022-10-11T07:43:40.523201",
     "exception": false,
     "start_time": "2022-10-11T07:43:40.504932",
     "status": "completed"
    },
    "tags": []
   },
   "outputs": [
    {
     "data": {
      "text/plain": [
       "MultiLayerPerceptron(\n",
       "  (fc1): Linear(in_features=784, out_features=120, bias=True)\n",
       "  (fc2): Linear(in_features=120, out_features=84, bias=True)\n",
       "  (fc3): Linear(in_features=84, out_features=10, bias=True)\n",
       ")"
      ]
     },
     "execution_count": 18,
     "metadata": {},
     "output_type": "execute_result"
    }
   ],
   "source": [
    "torch.manual_seed(101)\n",
    "\n",
    "model = MultiLayerPerceptron()\n",
    "model"
   ]
  },
  {
   "cell_type": "code",
   "execution_count": 19,
   "id": "f63814d2",
   "metadata": {
    "execution": {
     "iopub.execute_input": "2022-10-11T07:43:40.541209Z",
     "iopub.status.busy": "2022-10-11T07:43:40.540729Z",
     "iopub.status.idle": "2022-10-11T07:43:40.545251Z",
     "shell.execute_reply": "2022-10-11T07:43:40.543994Z"
    },
    "papermill": {
     "duration": 0.015659,
     "end_time": "2022-10-11T07:43:40.547069",
     "exception": false,
     "start_time": "2022-10-11T07:43:40.531410",
     "status": "completed"
    },
    "tags": []
   },
   "outputs": [
    {
     "name": "stdout",
     "output_type": "stream",
     "text": [
      "94080\n",
      "120\n",
      "10080\n",
      "84\n",
      "840\n",
      "10\n"
     ]
    }
   ],
   "source": [
    "for param in model.parameters():\n",
    "    print(param.numel())"
   ]
  },
  {
   "cell_type": "code",
   "execution_count": 20,
   "id": "e360c4c6",
   "metadata": {
    "execution": {
     "iopub.execute_input": "2022-10-11T07:43:40.564715Z",
     "iopub.status.busy": "2022-10-11T07:43:40.564415Z",
     "iopub.status.idle": "2022-10-11T07:43:40.569501Z",
     "shell.execute_reply": "2022-10-11T07:43:40.568585Z"
    },
    "papermill": {
     "duration": 0.015611,
     "end_time": "2022-10-11T07:43:40.570960",
     "exception": false,
     "start_time": "2022-10-11T07:43:40.555349",
     "status": "completed"
    },
    "tags": []
   },
   "outputs": [],
   "source": [
    "criterion = nn.CrossEntropyLoss()\n",
    "optimizer = torch.optim.Adam(model.parameters(), lr =0.001)\n",
    "\n",
    "# torch.optim is a package implementing various optimization algorithms."
   ]
  },
  {
   "cell_type": "code",
   "execution_count": 21,
   "id": "ddbe4336",
   "metadata": {
    "execution": {
     "iopub.execute_input": "2022-10-11T07:43:40.589190Z",
     "iopub.status.busy": "2022-10-11T07:43:40.588858Z",
     "iopub.status.idle": "2022-10-11T07:44:57.866380Z",
     "shell.execute_reply": "2022-10-11T07:44:57.865163Z"
    },
    "papermill": {
     "duration": 77.288792,
     "end_time": "2022-10-11T07:44:57.868272",
     "exception": false,
     "start_time": "2022-10-11T07:43:40.579480",
     "status": "completed"
    },
    "tags": []
   },
   "outputs": [
    {
     "name": "stdout",
     "output_type": "stream",
     "text": [
      "Epoch 0, Batch 200, loss: 0.23547586798667908, accuracy: 83.25\n",
      "Epoch 0, Batch 400, loss: 0.35573771595954895, accuracy: 87.5225\n",
      "Epoch 0, Batch 600, loss: 0.13726472854614258, accuracy: 89.56666666666666\n",
      "Epoch 1, Batch 200, loss: 0.24964779615402222, accuracy: 94.91\n",
      "Epoch 1, Batch 400, loss: 0.1480870395898819, accuracy: 95.12\n",
      "Epoch 1, Batch 600, loss: 0.07658690214157104, accuracy: 95.38833333333334\n",
      "Epoch 2, Batch 200, loss: 0.08824576437473297, accuracy: 96.55\n",
      "Epoch 2, Batch 400, loss: 0.06343883275985718, accuracy: 96.6575\n",
      "Epoch 2, Batch 600, loss: 0.06304910033941269, accuracy: 96.71833333333333\n",
      "Epoch 3, Batch 200, loss: 0.11255666613578796, accuracy: 97.61\n",
      "Epoch 3, Batch 400, loss: 0.05446586757898331, accuracy: 97.4675\n",
      "Epoch 3, Batch 600, loss: 0.03222748264670372, accuracy: 97.49\n",
      "Epoch 4, Batch 200, loss: 0.11783725023269653, accuracy: 98.125\n",
      "Epoch 4, Batch 400, loss: 0.0467134527862072, accuracy: 97.9875\n",
      "Epoch 4, Batch 600, loss: 0.05397912859916687, accuracy: 97.98833333333333\n",
      "Epoch 5, Batch 200, loss: 0.01019198913127184, accuracy: 98.425\n",
      "Epoch 5, Batch 400, loss: 0.04230430722236633, accuracy: 98.5125\n",
      "Epoch 5, Batch 600, loss: 0.05993609130382538, accuracy: 98.42166666666667\n",
      "Epoch 6, Batch 200, loss: 0.03710425645112991, accuracy: 98.91\n",
      "Epoch 6, Batch 400, loss: 0.0668579638004303, accuracy: 98.745\n",
      "Epoch 6, Batch 600, loss: 0.0976007953286171, accuracy: 98.72\n",
      "Epoch 7, Batch 200, loss: 0.07878519594669342, accuracy: 99.145\n",
      "Epoch 7, Batch 400, loss: 0.06888037919998169, accuracy: 98.97\n",
      "Epoch 7, Batch 600, loss: 0.04953565448522568, accuracy: 98.91333333333333\n",
      "Epoch 8, Batch 200, loss: 0.003360359463840723, accuracy: 99.255\n",
      "Epoch 8, Batch 400, loss: 0.013134037144482136, accuracy: 99.1775\n",
      "Epoch 8, Batch 600, loss: 0.09194792807102203, accuracy: 99.13\n",
      "Epoch 9, Batch 200, loss: 0.004670142661780119, accuracy: 99.465\n",
      "Epoch 9, Batch 400, loss: 0.013135407119989395, accuracy: 99.355\n",
      "Epoch 9, Batch 600, loss: 0.017725683748722076, accuracy: 99.28666666666666\n",
      "Duration 1.2877797921498617 mins\n"
     ]
    }
   ],
   "source": [
    "import time\n",
    "start_time = time.time()\n",
    "\n",
    "# Training\n",
    "epochs = 10\n",
    "\n",
    "train_losses = []\n",
    "test_losses = []\n",
    "train_correct = []\n",
    "test_correct = []\n",
    "\n",
    "for i in range(epochs):\n",
    "    trn_correct = 0\n",
    "    tst_correct = 0\n",
    "    \n",
    "    for b,(X_train,y_train) in enumerate(train_loader):\n",
    "        b +=1\n",
    "        y_pred = model(X_train.view(100,-1))\n",
    "        loss = criterion(y_pred,y_train)\n",
    "        predicted = torch.max(y_pred.data,1)[1]\n",
    "        batch_corr = (predicted == y_train).sum()\n",
    "        trn_correct += batch_corr\n",
    "        \n",
    "        optimizer.zero_grad() \n",
    "# zero_grad clears old gradients from the last step (otherwise you’d just accumulate the gradients from all loss.backward() calls).\n",
    "        loss.backward()\n",
    "        optimizer.step()\n",
    "        \n",
    "        if b%200 == 0:\n",
    "            acc = trn_correct.item()/b\n",
    "            print(f\"Epoch {i}, Batch {b}, loss: {loss.item()}, accuracy: {acc}\")\n",
    "                  \n",
    "    train_losses.append(loss.item())\n",
    "    train_correct.append(trn_correct.item())\n",
    "                  \n",
    "    with torch.no_grad():\n",
    "        for b,(X_test,y_test) in enumerate(test_loader):\n",
    "                  y_val = model(X_test.view(500,-1)) #use view to flatten out the image\n",
    "                  predicted = torch.max(y_val.data,1)[1]\n",
    "                  tst_correct += (predicted == y_test).sum()\n",
    "                  \n",
    "    loss = criterion(y_val, y_test)\n",
    "    test_losses.append(loss.item())\n",
    "    test_correct.append(tst_correct.item())\n",
    "\n",
    "total_time = time.time()- start_time\n",
    "print(f\"Duration {total_time/60} mins\")"
   ]
  },
  {
   "cell_type": "code",
   "execution_count": 22,
   "id": "eb8fd551",
   "metadata": {
    "execution": {
     "iopub.execute_input": "2022-10-11T07:44:57.890217Z",
     "iopub.status.busy": "2022-10-11T07:44:57.889926Z",
     "iopub.status.idle": "2022-10-11T07:44:58.043838Z",
     "shell.execute_reply": "2022-10-11T07:44:58.042898Z"
    },
    "papermill": {
     "duration": 0.167605,
     "end_time": "2022-10-11T07:44:58.046056",
     "exception": false,
     "start_time": "2022-10-11T07:44:57.878451",
     "status": "completed"
    },
    "tags": []
   },
   "outputs": [
    {
     "data": {
      "text/plain": [
       "<matplotlib.legend.Legend at 0x7fbf582df750>"
      ]
     },
     "execution_count": 22,
     "metadata": {},
     "output_type": "execute_result"
    },
    {
     "data": {
      "image/png": "[encoded data removed]",
      "text/plain": [
       "<Figure size 432x288 with 1 Axes>"
      ]
     },
     "metadata": {
      "needs_background": "light"
     },
     "output_type": "display_data"
    }
   ],
   "source": [
    "plt.plot(train_losses, label = \"Training Loss\")\n",
    "plt.plot(test_losses, label = \"Validation Loss\")\n",
    "plt.legend()"
   ]
  },
  {
   "cell_type": "code",
   "execution_count": 23,
   "id": "bbbed876",
   "metadata": {
    "execution": {
     "iopub.execute_input": "2022-10-11T07:44:58.070449Z",
     "iopub.status.busy": "2022-10-11T07:44:58.069424Z",
     "iopub.status.idle": "2022-10-11T07:44:58.073907Z",
     "shell.execute_reply": "2022-10-11T07:44:58.073198Z"
    },
    "papermill": {
     "duration": 0.018593,
     "end_time": "2022-10-11T07:44:58.075644",
     "exception": false,
     "start_time": "2022-10-11T07:44:58.057051",
     "status": "completed"
    },
    "tags": []
   },
   "outputs": [],
   "source": [
    "train_acc = [t/600 for t in train_correct]\n",
    "test_acc = [t/100 for t in test_correct]"
   ]
  },
  {
   "cell_type": "code",
   "execution_count": 24,
   "id": "5dfda406",
   "metadata": {
    "execution": {
     "iopub.execute_input": "2022-10-11T07:44:58.098274Z",
     "iopub.status.busy": "2022-10-11T07:44:58.097218Z",
     "iopub.status.idle": "2022-10-11T07:44:58.103763Z",
     "shell.execute_reply": "2022-10-11T07:44:58.102647Z"
    },
    "papermill": {
     "duration": 0.019296,
     "end_time": "2022-10-11T07:44:58.105416",
     "exception": false,
     "start_time": "2022-10-11T07:44:58.086120",
     "status": "completed"
    },
    "tags": []
   },
   "outputs": [
    {
     "data": {
      "text/plain": [
       "[89.56666666666666,\n",
       " 95.38833333333334,\n",
       " 96.71833333333333,\n",
       " 97.49,\n",
       " 97.98833333333333,\n",
       " 98.42166666666667,\n",
       " 98.72,\n",
       " 98.91333333333333,\n",
       " 99.13,\n",
       " 99.28666666666666]"
      ]
     },
     "execution_count": 24,
     "metadata": {},
     "output_type": "execute_result"
    }
   ],
   "source": [
    "train_acc"
   ]
  },
  {
   "cell_type": "code",
   "execution_count": 25,
   "id": "6e617db3",
   "metadata": {
    "execution": {
     "iopub.execute_input": "2022-10-11T07:44:58.126957Z",
     "iopub.status.busy": "2022-10-11T07:44:58.126655Z",
     "iopub.status.idle": "2022-10-11T07:44:58.274331Z",
     "shell.execute_reply": "2022-10-11T07:44:58.273285Z"
    },
    "papermill": {
     "duration": 0.161418,
     "end_time": "2022-10-11T07:44:58.276744",
     "exception": false,
     "start_time": "2022-10-11T07:44:58.115326",
     "status": "completed"
    },
    "tags": []
   },
   "outputs": [
    {
     "data": {
      "text/plain": [
       "<matplotlib.legend.Legend at 0x7fbf5808f690>"
      ]
     },
     "execution_count": 25,
     "metadata": {},
     "output_type": "execute_result"
    },
    {
     "data": {
      "image/png": "[encoded data removed]",
      "text/plain": [
       "<Figure size 432x288 with 1 Axes>"
      ]
     },
     "metadata": {
      "needs_background": "light"
     },
     "output_type": "display_data"
    }
   ],
   "source": [
    "plt.plot(train_acc, label = \"Training Accuracy\")\n",
    "plt.plot(test_acc, label = \"Validation Accuracy\")\n",
    "plt.legend()"
   ]
  },
  {
   "cell_type": "code",
   "execution_count": 26,
   "id": "64647b76",
   "metadata": {
    "execution": {
     "iopub.execute_input": "2022-10-11T07:44:58.300402Z",
     "iopub.status.busy": "2022-10-11T07:44:58.300079Z",
     "iopub.status.idle": "2022-10-11T07:44:58.305643Z",
     "shell.execute_reply": "2022-10-11T07:44:58.304260Z"
    },
    "papermill": {
     "duration": 0.019914,
     "end_time": "2022-10-11T07:44:58.307787",
     "exception": false,
     "start_time": "2022-10-11T07:44:58.287873",
     "status": "completed"
    },
    "tags": []
   },
   "outputs": [],
   "source": [
    "# New unseen data\n",
    "\n",
    "test_load_all = DataLoader(test_data, batch_size = 10000, shuffle = False)"
   ]
  },
  {
   "cell_type": "code",
   "execution_count": 27,
   "id": "b572f79b",
   "metadata": {
    "execution": {
     "iopub.execute_input": "2022-10-11T07:44:58.330943Z",
     "iopub.status.busy": "2022-10-11T07:44:58.329855Z",
     "iopub.status.idle": "2022-10-11T07:44:59.235832Z",
     "shell.execute_reply": "2022-10-11T07:44:59.234853Z"
    },
    "papermill": {
     "duration": 0.919467,
     "end_time": "2022-10-11T07:44:59.237986",
     "exception": false,
     "start_time": "2022-10-11T07:44:58.318519",
     "status": "completed"
    },
    "tags": []
   },
   "outputs": [],
   "source": [
    "with torch.no_grad():\n",
    "    correct = 0\n",
    "    for X_test, y_test in test_load_all:\n",
    "        y_val = model(X_test.view(len(X_test), -1))\n",
    "        predicted = torch.max(y_val.data,1)[1]\n",
    "        correct += (predicted == y_test).sum()"
   ]
  },
  {
   "cell_type": "code",
   "execution_count": 28,
   "id": "a2686129",
   "metadata": {
    "execution": {
     "iopub.execute_input": "2022-10-11T07:44:59.260578Z",
     "iopub.status.busy": "2022-10-11T07:44:59.260270Z",
     "iopub.status.idle": "2022-10-11T07:44:59.265603Z",
     "shell.execute_reply": "2022-10-11T07:44:59.264712Z"
    },
    "papermill": {
     "duration": 0.019363,
     "end_time": "2022-10-11T07:44:59.268180",
     "exception": false,
     "start_time": "2022-10-11T07:44:59.248817",
     "status": "completed"
    },
    "tags": []
   },
   "outputs": [
    {
     "data": {
      "text/plain": [
       "97.64"
      ]
     },
     "execution_count": 28,
     "metadata": {},
     "output_type": "execute_result"
    }
   ],
   "source": [
    "100*correct.item()/len(test_data)"
   ]
  },
  {
   "cell_type": "code",
   "execution_count": 29,
   "id": "ce042d85",
   "metadata": {
    "execution": {
     "iopub.execute_input": "2022-10-11T07:44:59.291975Z",
     "iopub.status.busy": "2022-10-11T07:44:59.291673Z",
     "iopub.status.idle": "2022-10-11T07:44:59.305500Z",
     "shell.execute_reply": "2022-10-11T07:44:59.304564Z"
    },
    "papermill": {
     "duration": 0.028046,
     "end_time": "2022-10-11T07:44:59.307632",
     "exception": false,
     "start_time": "2022-10-11T07:44:59.279586",
     "status": "completed"
    },
    "tags": []
   },
   "outputs": [
    {
     "data": {
      "text/plain": [
       "array([[ 972,    0,    5,    0,    2,    2,    5,    2,    6,    2],\n",
       "       [   0, 1123,    3,    0,    0,    0,    2,    8,    0,    2],\n",
       "       [   0,    3, 1002,    2,    1,    0,    1,    9,    4,    0],\n",
       "       [   2,    3,    6,  987,    0,   10,    1,    1,    2,    3],\n",
       "       [   1,    0,    2,    0,  966,    3,    5,    3,    3,   14],\n",
       "       [   0,    0,    0,    7,    0,  861,    2,    1,    3,    2],\n",
       "       [   1,    2,    2,    0,    5,    7,  942,    0,    2,    0],\n",
       "       [   0,    0,    3,    5,    0,    1,    0,  983,    2,    0],\n",
       "       [   2,    4,    9,    4,    1,    6,    0,    3,  947,    5],\n",
       "       [   2,    0,    0,    5,    7,    2,    0,   18,    5,  981]])"
      ]
     },
     "execution_count": 29,
     "metadata": {},
     "output_type": "execute_result"
    }
   ],
   "source": [
    "confusion_matrix(predicted.view(-1), y_test.view(-1))"
   ]
  }
 ],
 "metadata": {
  "kernelspec": {
   "display_name": "Python 3",
   "language": "python",
   "name": "python3"
  },
  "language_info": {
   "codemirror_mode": {
    "name": "ipython",
    "version": 3
   },
   "file_extension": ".py",
   "mimetype": "text/x-python",
   "name": "python",
   "nbconvert_exporter": "python",
   "pygments_lexer": "ipython3",
   "version": "3.7.12"
  },
  "papermill": {
   "default_parameters": {},
   "duration": 91.486189,
   "end_time": "2022-10-11T07:45:00.241361",
   "environment_variables": {},
   "exception": null,
   "input_path": "__notebook__.ipynb",
   "output_path": "__notebook__.ipynb",
   "parameters": {},
   "start_time": "2022-10-11T07:43:28.755172",
   "version": "2.3.4"
  },
  "widgets": {
   "application/vnd.jupyter.widget-state+json": {
    "state": {
     "0781b0c6f3414ee7863cf3b73e73ce72": {
      "model_module": "@jupyter-widgets/controls",
      "model_module_version": "1.5.0",
      "model_name": "ProgressStyleModel",
      "state": {
       "_model_module": "@jupyter-widgets/controls",
       "_model_module_version": "1.5.0",
       "_model_name": "ProgressStyleModel",
       "_view_count": null,
       "_view_module": "@jupyter-widgets/base",
       "_view_module_version": "1.2.0",
       "_view_name": "StyleView",
       "bar_color": null,
       "description_width": ""
      }
     },
     "0aaa712f89a24afaa8ec6ebcf38521ea": {
      "model_module": "@jupyter-widgets/base",
      "model_module_version": "1.2.0",
      "model_name": "LayoutModel",
      "state": {
       "_model_module": "@jupyter-widgets/base",
       "_model_module_version": "1.2.0",
       "_model_name": "LayoutModel",
       "_view_count": null,
       "_view_module": "@jupyter-widgets/base",
       "_view_module_version": "1.2.0",
       "_view_name": "LayoutView",
       "align_content": null,
       "align_items": null,
       "align_self": null,
       "border": null,
       "bottom": null,
       "display": null,
       "flex": null,
       "flex_flow": null,
       "grid_area": null,
       "grid_auto_columns": null,
       "grid_auto_flow": null,
       "grid_auto_rows": null,
       "grid_column": null,
       "grid_gap": null,
       "grid_row": null,
       "grid_template_areas": null,
       "grid_template_columns": null,
       "grid_template_rows": null,
       "height": null,
       "justify_content": null,
       "justify_items": null,
       "left": null,
       "margin": null,
       "max_height": null,
       "max_width": null,
       "min_height": null,
       "min_width": null,
       "object_fit": null,
       "object_position": null,
       "order": null,
       "overflow": null,
       "overflow_x": null,
       "overflow_y": null,
       "padding": null,
       "right": null,
       "top": null,
       "visibility": null,
       "width": null
      }
     },
     "0c92e39e55c240c1a54cf3021f9a2965": {
      "model_module": "@jupyter-widgets/controls",
      "model_module_version": "1.5.0",
      "model_name": "FloatProgressModel",
      "state": {
       "_dom_classes": [],
       "_model_module": "@jupyter-widgets/controls",
       "_model_module_version": "1.5.0",
       "_model_name": "FloatProgressModel",
       "_view_count": null,
       "_view_module": "@jupyter-widgets/controls",
       "_view_module_version": "1.5.0",
       "_view_name": "ProgressView",
       "bar_style": "success",
       "description": "",
       "description_tooltip": null,
       "layout": "IPY_MODEL_9d65f71d82da4bdd926037e3ba034ea5",
       "max": 28881.0,
       "min": 0.0,
       "orientation": "horizontal",
       "style": "IPY_MODEL_0781b0c6f3414ee7863cf3b73e73ce72",
       "value": 28881.0
      }
     },
     "138502b495494787a74634b77afefad8": {
      "model_module": "@jupyter-widgets/controls",
      "model_module_version": "1.5.0",
      "model_name": "ProgressStyleModel",
      "state": {
       "_model_module": "@jupyter-widgets/controls",
       "_model_module_version": "1.5.0",
       "_model_name": "ProgressStyleModel",
       "_view_count": null,
       "_view_module": "@jupyter-widgets/base",
       "_view_module_version": "1.2.0",
       "_view_name": "StyleView",
       "bar_color": null,
       "description_width": ""
      }
     },
     "16501a2d8ff04feca48f1fabce41f02c": {
      "model_module": "@jupyter-widgets/controls",
      "model_module_version": "1.5.0",
      "model_name": "HTMLModel",
      "state": {
       "_dom_classes": [],
       "_model_module": "@jupyter-widgets/controls",
       "_model_module_version": "1.5.0",
       "_model_name": "HTMLModel",
       "_view_count": null,
       "_view_module": "@jupyter-widgets/controls",
       "_view_module_version": "1.5.0",
       "_view_name": "HTMLView",
       "description": "",
       "description_tooltip": null,
       "layout": "IPY_MODEL_da425e32b0774fb78082f7f37c19b61c",
       "placeholder": "​",
       "style": "IPY_MODEL_3550245b324740aeb3bcf8246a24aa2f",
       "value": ""
      }
     },
     "1c622a928aff4c41ba917a750ac7a85a": {
      "model_module": "@jupyter-widgets/controls",
      "model_module_version": "1.5.0",
      "model_name": "DescriptionStyleModel",
      "state": {
       "_model_module": "@jupyter-widgets/controls",
       "_model_module_version": "1.5.0",
       "_model_name": "DescriptionStyleModel",
       "_view_count": null,
       "_view_module": "@jupyter-widgets/base",
       "_view_module_version": "1.2.0",
       "_view_name": "StyleView",
       "description_width": ""
      }
     },
     "1da7a2fdd652442c853c647eb0647501": {
      "model_module": "@jupyter-widgets/controls",
      "model_module_version": "1.5.0",
      "model_name": "HBoxModel",
      "state": {
       "_dom_classes": [],
       "_model_module": "@jupyter-widgets/controls",
       "_model_module_version": "1.5.0",
       "_model_name": "HBoxModel",
       "_view_count": null,
       "_view_module": "@jupyter-widgets/controls",
       "_view_module_version": "1.5.0",
       "_view_name": "HBoxView",
       "box_style": "",
       "children": [
        "IPY_MODEL_80fb3f36dfc644a381235a234212814e",
        "IPY_MODEL_1f5e4018b79d4c679326939df8f1afe3",
        "IPY_MODEL_52502d6276dd4d858903c01c4f6e4a34"
       ],
       "layout": "IPY_MODEL_0aaa712f89a24afaa8ec6ebcf38521ea"
      }
     },
     "1f5e4018b79d4c679326939df8f1afe3": {
      "model_module": "@jupyter-widgets/controls",
      "model_module_version": "1.5.0",
      "model_name": "FloatProgressModel",
      "state": {
       "_dom_classes": [],
       "_model_module": "@jupyter-widgets/controls",
       "_model_module_version": "1.5.0",
       "_model_name": "FloatProgressModel",
       "_view_count": null,
       "_view_module": "@jupyter-widgets/controls",
       "_view_module_version": "1.5.0",
       "_view_name": "ProgressView",
       "bar_style": "success",
       "description": "",
       "description_tooltip": null,
       "layout": "IPY_MODEL_b9cb0d9a64de45f2a7d38f2226311f8f",
       "max": 1648877.0,
       "min": 0.0,
       "orientation": "horizontal",
       "style": "IPY_MODEL_138502b495494787a74634b77afefad8",
       "value": 1648877.0
      }
     },
     "2042c006c7d34e71a4006cb723fbb61c": {
      "model_module": "@jupyter-widgets/base",
      "model_module_version": "1.2.0",
      "model_name": "LayoutModel",
      "state": {
       "_model_module": "@jupyter-widgets/base",
       "_model_module_version": "1.2.0",
       "_model_name": "LayoutModel",
       "_view_count": null,
       "_view_module": "@jupyter-widgets/base",
       "_view_module_version": "1.2.0",
       "_view_name": "LayoutView",
       "align_content": null,
       "align_items": null,
       "align_self": null,
       "border": null,
       "bottom": null,
       "display": null,
       "flex": null,
       "flex_flow": null,
       "grid_area": null,
       "grid_auto_columns": null,
       "grid_auto_flow": null,
       "grid_auto_rows": null,
       "grid_column": null,
       "grid_gap": null,
       "grid_row": null,
       "grid_template_areas": null,
       "grid_template_columns": null,
       "grid_template_rows": null,
       "height": null,
       "justify_content": null,
       "justify_items": null,
       "left": null,
       "margin": null,
       "max_height": null,
       "max_width": null,
       "min_height": null,
       "min_width": null,
       "object_fit": null,
       "object_position": null,
       "order": null,
       "overflow": null,
       "overflow_x": null,
       "overflow_y": null,
       "padding": null,
       "right": null,
       "top": null,
       "visibility": null,
       "width": null
      }
     },
     "2d0e96653f5f452191e4f060f9f6c290": {
      "model_module": "@jupyter-widgets/base",
      "model_module_version": "1.2.0",
      "model_name": "LayoutModel",
      "state": {
       "_model_module": "@jupyter-widgets/base",
       "_model_module_version": "1.2.0",
       "_model_name": "LayoutModel",
       "_view_count": null,
       "_view_module": "@jupyter-widgets/base",
       "_view_module_version": "1.2.0",
       "_view_name": "LayoutView",
       "align_content": null,
       "align_items": null,
       "align_self": null,
       "border": null,
       "bottom": null,
       "display": null,
       "flex": null,
       "flex_flow": null,
       "grid_area": null,
       "grid_auto_columns": null,
       "grid_auto_flow": null,
       "grid_auto_rows": null,
       "grid_column": null,
       "grid_gap": null,
       "grid_row": null,
       "grid_template_areas": null,
       "grid_template_columns": null,
       "grid_template_rows": null,
       "height": null,
       "justify_content": null,
       "justify_items": null,
       "left": null,
       "margin": null,
       "max_height": null,
       "max_width": null,
       "min_height": null,
       "min_width": null,
       "object_fit": null,
       "object_position": null,
       "order": null,
       "overflow": null,
       "overflow_x": null,
       "overflow_y": null,
       "padding": null,
       "right": null,
       "top": null,
       "visibility": null,
       "width": null
      }
     },
     "3550245b324740aeb3bcf8246a24aa2f": {
      "model_module": "@jupyter-widgets/controls",
      "model_module_version": "1.5.0",
      "model_name": "DescriptionStyleModel",
      "state": {
       "_model_module": "@jupyter-widgets/controls",
       "_model_module_version": "1.5.0",
       "_model_name": "DescriptionStyleModel",
       "_view_count": null,
       "_view_module": "@jupyter-widgets/base",
       "_view_module_version": "1.2.0",
       "_view_name": "StyleView",
       "description_width": ""
      }
     },
     "355ce236b31e4f858dd86084758a42cc": {
      "model_module": "@jupyter-widgets/base",
      "model_module_version": "1.2.0",
      "model_name": "LayoutModel",
      "state": {
       "_model_module": "@jupyter-widgets/base",
       "_model_module_version": "1.2.0",
       "_model_name": "LayoutModel",
       "_view_count": null,
       "_view_module": "@jupyter-widgets/base",
       "_view_module_version": "1.2.0",
       "_view_name": "LayoutView",
       "align_content": null,
       "align_items": null,
       "align_self": null,
       "border": null,
       "bottom": null,
       "display": null,
       "flex": null,
       "flex_flow": null,
       "grid_area": null,
       "grid_auto_columns": null,
       "grid_auto_flow": null,
       "grid_auto_rows": null,
       "grid_column": null,
       "grid_gap": null,
       "grid_row": null,
       "grid_template_areas": null,
       "grid_template_columns": null,
       "grid_template_rows": null,
       "height": null,
       "justify_content": null,
       "justify_items": null,
       "left": null,
       "margin": null,
       "max_height": null,
       "max_width": null,
       "min_height": null,
       "min_width": null,
       "object_fit": null,
       "object_position": null,
       "order": null,
       "overflow": null,
       "overflow_x": null,
       "overflow_y": null,
       "padding": null,
       "right": null,
       "top": null,
       "visibility": null,
       "width": null
      }
     },
     "3c0764fabee949ecbc77ede8b67151d3": {
      "model_module": "@jupyter-widgets/base",
      "model_module_version": "1.2.0",
      "model_name": "LayoutModel",
      "state": {
       "_model_module": "@jupyter-widgets/base",
       "_model_module_version": "1.2.0",
       "_model_name": "LayoutModel",
       "_view_count": null,
       "_view_module": "@jupyter-widgets/base",
       "_view_module_version": "1.2.0",
       "_view_name": "LayoutView",
       "align_content": null,
       "align_items": null,
       "align_self": null,
       "border": null,
       "bottom": null,
       "display": null,
       "flex": null,
       "flex_flow": null,
       "grid_area": null,
       "grid_auto_columns": null,
       "grid_auto_flow": null,
       "grid_auto_rows": null,
       "grid_column": null,
       "grid_gap": null,
       "grid_row": null,
       "grid_template_areas": null,
       "grid_template_columns": null,
       "grid_template_rows": null,
       "height": null,
       "justify_content": null,
       "justify_items": null,
       "left": null,
       "margin": null,
       "max_height": null,
       "max_width": null,
       "min_height": null,
       "min_width": null,
       "object_fit": null,
       "object_position": null,
       "order": null,
       "overflow": null,
       "overflow_x": null,
       "overflow_y": null,
       "padding": null,
       "right": null,
       "top": null,
       "visibility": null,
       "width": null
      }
     },
     "42949b87c7f34485ba1b5839cb70f1fc": {
      "model_module": "@jupyter-widgets/controls",
      "model_module_version": "1.5.0",
      "model_name": "HBoxModel",
      "state": {
       "_dom_classes": [],
       "_model_module": "@jupyter-widgets/controls",
       "_model_module_version": "1.5.0",
       "_model_name": "HBoxModel",
       "_view_count": null,
       "_view_module": "@jupyter-widgets/controls",
       "_view_module_version": "1.5.0",
       "_view_name": "HBoxView",
       "box_style": "",
       "children": [
        "IPY_MODEL_4d6a4fc31201478d907414d6f7ed3e5f",
        "IPY_MODEL_5fadcb581d7d46428126066b98c1c19b",
        "IPY_MODEL_570fa97f30144615989cc3c465ce8941"
       ],
       "layout": "IPY_MODEL_d80651c63a61496ca9a08787b8c3114c"
      }
     },
     "4d6a4fc31201478d907414d6f7ed3e5f": {
      "model_module": "@jupyter-widgets/controls",
      "model_module_version": "1.5.0",
      "model_name": "HTMLModel",
      "state": {
       "_dom_classes": [],
       "_model_module": "@jupyter-widgets/controls",
       "_model_module_version": "1.5.0",
       "_model_name": "HTMLModel",
       "_view_count": null,
       "_view_module": "@jupyter-widgets/controls",
       "_view_module_version": "1.5.0",
       "_view_name": "HTMLView",
       "description": "",
       "description_tooltip": null,
       "layout": "IPY_MODEL_2042c006c7d34e71a4006cb723fbb61c",
       "placeholder": "​",
       "style": "IPY_MODEL_9f1deacb218742c0b18cde6671faf356",
       "value": ""
      }
     },
     "52502d6276dd4d858903c01c4f6e4a34": {
      "model_module": "@jupyter-widgets/controls",
      "model_module_version": "1.5.0",
      "model_name": "HTMLModel",
      "state": {
       "_dom_classes": [],
       "_model_module": "@jupyter-widgets/controls",
       "_model_module_version": "1.5.0",
       "_model_name": "HTMLModel",
       "_view_count": null,
       "_view_module": "@jupyter-widgets/controls",
       "_view_module_version": "1.5.0",
       "_view_name": "HTMLView",
       "description": "",
       "description_tooltip": null,
       "layout": "IPY_MODEL_355ce236b31e4f858dd86084758a42cc",
       "placeholder": "​",
       "style": "IPY_MODEL_e5a0133f57c841f482154eb6c493c43d",
       "value": " 1649664/? [00:00&lt;00:00, 22065017.49it/s]"
      }
     },
     "570fa97f30144615989cc3c465ce8941": {
      "model_module": "@jupyter-widgets/controls",
      "model_module_version": "1.5.0",
      "model_name": "HTMLModel",
      "state": {
       "_dom_classes": [],
       "_model_module": "@jupyter-widgets/controls",
       "_model_module_version": "1.5.0",
       "_model_name": "HTMLModel",
       "_view_count": null,
       "_view_module": "@jupyter-widgets/controls",
       "_view_module_version": "1.5.0",
       "_view_name": "HTMLView",
       "description": "",
       "description_tooltip": null,
       "layout": "IPY_MODEL_3c0764fabee949ecbc77ede8b67151d3",
       "placeholder": "​",
       "style": "IPY_MODEL_1c622a928aff4c41ba917a750ac7a85a",
       "value": " 9913344/? [00:00&lt;00:00, 43897561.28it/s]"
      }
     },
     "5eb30fd5f3b846f58668dcee12f09721": {
      "model_module": "@jupyter-widgets/controls",
      "model_module_version": "1.5.0",
      "model_name": "DescriptionStyleModel",
      "state": {
       "_model_module": "@jupyter-widgets/controls",
       "_model_module_version": "1.5.0",
       "_model_name": "DescriptionStyleModel",
       "_view_count": null,
       "_view_module": "@jupyter-widgets/base",
       "_view_module_version": "1.2.0",
       "_view_name": "StyleView",
       "description_width": ""
      }
     },
     "5fadcb581d7d46428126066b98c1c19b": {
      "model_module": "@jupyter-widgets/controls",
      "model_module_version": "1.5.0",
      "model_name": "FloatProgressModel",
      "state": {
       "_dom_classes": [],
       "_model_module": "@jupyter-widgets/controls",
       "_model_module_version": "1.5.0",
       "_model_name": "FloatProgressModel",
       "_view_count": null,
       "_view_module": "@jupyter-widgets/controls",
       "_view_module_version": "1.5.0",
       "_view_name": "ProgressView",
       "bar_style": "success",
       "description": "",
       "description_tooltip": null,
       "layout": "IPY_MODEL_f45a64fa070049c7875a3ed0e68cc4b3",
       "max": 9912422.0,
       "min": 0.0,
       "orientation": "horizontal",
       "style": "IPY_MODEL_f354a0857d354058a0f5ac1fc79fa432",
       "value": 9912422.0
      }
     },
     "651cc0e35b104e728b717384fbc71170": {
      "model_module": "@jupyter-widgets/controls",
      "model_module_version": "1.5.0",
      "model_name": "HBoxModel",
      "state": {
       "_dom_classes": [],
       "_model_module": "@jupyter-widgets/controls",
       "_model_module_version": "1.5.0",
       "_model_name": "HBoxModel",
       "_view_count": null,
       "_view_module": "@jupyter-widgets/controls",
       "_view_module_version": "1.5.0",
       "_view_name": "HBoxView",
       "box_style": "",
       "children": [
        "IPY_MODEL_16501a2d8ff04feca48f1fabce41f02c",
        "IPY_MODEL_0c92e39e55c240c1a54cf3021f9a2965",
        "IPY_MODEL_f75c6713bd444e45bd259cb424536ec5"
       ],
       "layout": "IPY_MODEL_a35d36567d5b400fbb911b431aefa850"
      }
     },
     "698c22986d8e4a0ca0b8c5502b21a0cb": {
      "model_module": "@jupyter-widgets/base",
      "model_module_version": "1.2.0",
      "model_name": "LayoutModel",
      "state": {
       "_model_module": "@jupyter-widgets/base",
       "_model_module_version": "1.2.0",
       "_model_name": "LayoutModel",
       "_view_count": null,
       "_view_module": "@jupyter-widgets/base",
       "_view_module_version": "1.2.0",
       "_view_name": "LayoutView",
       "align_content": null,
       "align_items": null,
       "align_self": null,
       "border": null,
       "bottom": null,
       "display": null,
       "flex": null,
       "flex_flow": null,
       "grid_area": null,
       "grid_auto_columns": null,
       "grid_auto_flow": null,
       "grid_auto_rows": null,
       "grid_column": null,
       "grid_gap": null,
       "grid_row": null,
       "grid_template_areas": null,
       "grid_template_columns": null,
       "grid_template_rows": null,
       "height": null,
       "justify_content": null,
       "justify_items": null,
       "left": null,
       "margin": null,
       "max_height": null,
       "max_width": null,
       "min_height": null,
       "min_width": null,
       "object_fit": null,
       "object_position": null,
       "order": null,
       "overflow": null,
       "overflow_x": null,
       "overflow_y": null,
       "padding": null,
       "right": null,
       "top": null,
       "visibility": null,
       "width": null
      }
     },
     "7298be394b264ae5959ab9b28d4da74a": {
      "model_module": "@jupyter-widgets/controls",
      "model_module_version": "1.5.0",
      "model_name": "HTMLModel",
      "state": {
       "_dom_classes": [],
       "_model_module": "@jupyter-widgets/controls",
       "_model_module_version": "1.5.0",
       "_model_name": "HTMLModel",
       "_view_count": null,
       "_view_module": "@jupyter-widgets/controls",
       "_view_module_version": "1.5.0",
       "_view_name": "HTMLView",
       "description": "",
       "description_tooltip": null,
       "layout": "IPY_MODEL_ebed3ca11dff40cd9792ea4a7346a6bb",
       "placeholder": "​",
       "style": "IPY_MODEL_ba516e32a3da4872a1beac832bf24bd5",
       "value": ""
      }
     },
     "80fb3f36dfc644a381235a234212814e": {
      "model_module": "@jupyter-widgets/controls",
      "model_module_version": "1.5.0",
      "model_name": "HTMLModel",
      "state": {
       "_dom_classes": [],
       "_model_module": "@jupyter-widgets/controls",
       "_model_module_version": "1.5.0",
       "_model_name": "HTMLModel",
       "_view_count": null,
       "_view_module": "@jupyter-widgets/controls",
       "_view_module_version": "1.5.0",
       "_view_name": "HTMLView",
       "description": "",
       "description_tooltip": null,
       "layout": "IPY_MODEL_a03632a86f2749b7b000c75a676d4723",
       "placeholder": "​",
       "style": "IPY_MODEL_5eb30fd5f3b846f58668dcee12f09721",
       "value": ""
      }
     },
     "8fbac2b93ec44f14a7babc341cd8dd88": {
      "model_module": "@jupyter-widgets/controls",
      "model_module_version": "1.5.0",
      "model_name": "DescriptionStyleModel",
      "state": {
       "_model_module": "@jupyter-widgets/controls",
       "_model_module_version": "1.5.0",
       "_model_name": "DescriptionStyleModel",
       "_view_count": null,
       "_view_module": "@jupyter-widgets/base",
       "_view_module_version": "1.2.0",
       "_view_name": "StyleView",
       "description_width": ""
      }
     },
     "9d65f71d82da4bdd926037e3ba034ea5": {
      "model_module": "@jupyter-widgets/base",
      "model_module_version": "1.2.0",
      "model_name": "LayoutModel",
      "state": {
       "_model_module": "@jupyter-widgets/base",
       "_model_module_version": "1.2.0",
       "_model_name": "LayoutModel",
       "_view_count": null,
       "_view_module": "@jupyter-widgets/base",
       "_view_module_version": "1.2.0",
       "_view_name": "LayoutView",
       "align_content": null,
       "align_items": null,
       "align_self": null,
       "border": null,
       "bottom": null,
       "display": null,
       "flex": null,
       "flex_flow": null,
       "grid_area": null,
       "grid_auto_columns": null,
       "grid_auto_flow": null,
       "grid_auto_rows": null,
       "grid_column": null,
       "grid_gap": null,
       "grid_row": null,
       "grid_template_areas": null,
       "grid_template_columns": null,
       "grid_template_rows": null,
       "height": null,
       "justify_content": null,
       "justify_items": null,
       "left": null,
       "margin": null,
       "max_height": null,
       "max_width": null,
       "min_height": null,
       "min_width": null,
       "object_fit": null,
       "object_position": null,
       "order": null,
       "overflow": null,
       "overflow_x": null,
       "overflow_y": null,
       "padding": null,
       "right": null,
       "top": null,
       "visibility": null,
       "width": null
      }
     },
     "9f1deacb218742c0b18cde6671faf356": {
      "model_module": "@jupyter-widgets/controls",
      "model_module_version": "1.5.0",
      "model_name": "DescriptionStyleModel",
      "state": {
       "_model_module": "@jupyter-widgets/controls",
       "_model_module_version": "1.5.0",
       "_model_name": "DescriptionStyleModel",
       "_view_count": null,
       "_view_module": "@jupyter-widgets/base",
       "_view_module_version": "1.2.0",
       "_view_name": "StyleView",
       "description_width": ""
      }
     },
     "a03632a86f2749b7b000c75a676d4723": {
      "model_module": "@jupyter-widgets/base",
      "model_module_version": "1.2.0",
      "model_name": "LayoutModel",
      "state": {
       "_model_module": "@jupyter-widgets/base",
       "_model_module_version": "1.2.0",
       "_model_name": "LayoutModel",
       "_view_count": null,
       "_view_module": "@jupyter-widgets/base",
       "_view_module_version": "1.2.0",
       "_view_name": "LayoutView",
       "align_content": null,
       "align_items": null,
       "align_self": null,
       "border": null,
       "bottom": null,
       "display": null,
       "flex": null,
       "flex_flow": null,
       "grid_area": null,
       "grid_auto_columns": null,
       "grid_auto_flow": null,
       "grid_auto_rows": null,
       "grid_column": null,
       "grid_gap": null,
       "grid_row": null,
       "grid_template_areas": null,
       "grid_template_columns": null,
       "grid_template_rows": null,
       "height": null,
       "justify_content": null,
       "justify_items": null,
       "left": null,
       "margin": null,
       "max_height": null,
       "max_width": null,
       "min_height": null,
       "min_width": null,
       "object_fit": null,
       "object_position": null,
       "order": null,
       "overflow": null,
       "overflow_x": null,
       "overflow_y": null,
       "padding": null,
       "right": null,
       "top": null,
       "visibility": null,
       "width": null
      }
     },
     "a16ec48e9eda4edda71764409d9fd3a2": {
      "model_module": "@jupyter-widgets/controls",
      "model_module_version": "1.5.0",
      "model_name": "DescriptionStyleModel",
      "state": {
       "_model_module": "@jupyter-widgets/controls",
       "_model_module_version": "1.5.0",
       "_model_name": "DescriptionStyleModel",
       "_view_count": null,
       "_view_module": "@jupyter-widgets/base",
       "_view_module_version": "1.2.0",
       "_view_name": "StyleView",
       "description_width": ""
      }
     },
     "a35d36567d5b400fbb911b431aefa850": {
      "model_module": "@jupyter-widgets/base",
      "model_module_version": "1.2.0",
      "model_name": "LayoutModel",
      "state": {
       "_model_module": "@jupyter-widgets/base",
       "_model_module_version": "1.2.0",
       "_model_name": "LayoutModel",
       "_view_count": null,
       "_view_module": "@jupyter-widgets/base",
       "_view_module_version": "1.2.0",
       "_view_name": "LayoutView",
       "align_content": null,
       "align_items": null,
       "align_self": null,
       "border": null,
       "bottom": null,
       "display": null,
       "flex": null,
       "flex_flow": null,
       "grid_area": null,
       "grid_auto_columns": null,
       "grid_auto_flow": null,
       "grid_auto_rows": null,
       "grid_column": null,
       "grid_gap": null,
       "grid_row": null,
       "grid_template_areas": null,
       "grid_template_columns": null,
       "grid_template_rows": null,
       "height": null,
       "justify_content": null,
       "justify_items": null,
       "left": null,
       "margin": null,
       "max_height": null,
       "max_width": null,
       "min_height": null,
       "min_width": null,
       "object_fit": null,
       "object_position": null,
       "order": null,
       "overflow": null,
       "overflow_x": null,
       "overflow_y": null,
       "padding": null,
       "right": null,
       "top": null,
       "visibility": null,
       "width": null
      }
     },
     "b14b4b9ff5664660b04e70c014f7ec30": {
      "model_module": "@jupyter-widgets/base",
      "model_module_version": "1.2.0",
      "model_name": "LayoutModel",
      "state": {
       "_model_module": "@jupyter-widgets/base",
       "_model_module_version": "1.2.0",
       "_model_name": "LayoutModel",
       "_view_count": null,
       "_view_module": "@jupyter-widgets/base",
       "_view_module_version": "1.2.0",
       "_view_name": "LayoutView",
       "align_content": null,
       "align_items": null,
       "align_self": null,
       "border": null,
       "bottom": null,
       "display": null,
       "flex": null,
       "flex_flow": null,
       "grid_area": null,
       "grid_auto_columns": null,
       "grid_auto_flow": null,
       "grid_auto_rows": null,
       "grid_column": null,
       "grid_gap": null,
       "grid_row": null,
       "grid_template_areas": null,
       "grid_template_columns": null,
       "grid_template_rows": null,
       "height": null,
       "justify_content": null,
       "justify_items": null,
       "left": null,
       "margin": null,
       "max_height": null,
       "max_width": null,
       "min_height": null,
       "min_width": null,
       "object_fit": null,
       "object_position": null,
       "order": null,
       "overflow": null,
       "overflow_x": null,
       "overflow_y": null,
       "padding": null,
       "right": null,
       "top": null,
       "visibility": null,
       "width": null
      }
     },
     "b9cb0d9a64de45f2a7d38f2226311f8f": {
      "model_module": "@jupyter-widgets/base",
      "model_module_version": "1.2.0",
      "model_name": "LayoutModel",
      "state": {
       "_model_module": "@jupyter-widgets/base",
       "_model_module_version": "1.2.0",
       "_model_name": "LayoutModel",
       "_view_count": null,
       "_view_module": "@jupyter-widgets/base",
       "_view_module_version": "1.2.0",
       "_view_name": "LayoutView",
       "align_content": null,
       "align_items": null,
       "align_self": null,
       "border": null,
       "bottom": null,
       "display": null,
       "flex": null,
       "flex_flow": null,
       "grid_area": null,
       "grid_auto_columns": null,
       "grid_auto_flow": null,
       "grid_auto_rows": null,
       "grid_column": null,
       "grid_gap": null,
       "grid_row": null,
       "grid_template_areas": null,
       "grid_template_columns": null,
       "grid_template_rows": null,
       "height": null,
       "justify_content": null,
       "justify_items": null,
       "left": null,
       "margin": null,
       "max_height": null,
       "max_width": null,
       "min_height": null,
       "min_width": null,
       "object_fit": null,
       "object_position": null,
       "order": null,
       "overflow": null,
       "overflow_x": null,
       "overflow_y": null,
       "padding": null,
       "right": null,
       "top": null,
       "visibility": null,
       "width": null
      }
     },
     "ba516e32a3da4872a1beac832bf24bd5": {
      "model_module": "@jupyter-widgets/controls",
      "model_module_version": "1.5.0",
      "model_name": "DescriptionStyleModel",
      "state": {
       "_model_module": "@jupyter-widgets/controls",
       "_model_module_version": "1.5.0",
       "_model_name": "DescriptionStyleModel",
       "_view_count": null,
       "_view_module": "@jupyter-widgets/base",
       "_view_module_version": "1.2.0",
       "_view_name": "StyleView",
       "description_width": ""
      }
     },
     "c3ea08995b884a7890df1aa5d19b6364": {
      "model_module": "@jupyter-widgets/controls",
      "model_module_version": "1.5.0",
      "model_name": "HTMLModel",
      "state": {
       "_dom_classes": [],
       "_model_module": "@jupyter-widgets/controls",
       "_model_module_version": "1.5.0",
       "_model_name": "HTMLModel",
       "_view_count": null,
       "_view_module": "@jupyter-widgets/controls",
       "_view_module_version": "1.5.0",
       "_view_name": "HTMLView",
       "description": "",
       "description_tooltip": null,
       "layout": "IPY_MODEL_b14b4b9ff5664660b04e70c014f7ec30",
       "placeholder": "​",
       "style": "IPY_MODEL_8fbac2b93ec44f14a7babc341cd8dd88",
       "value": " 5120/? [00:00&lt;00:00, 205958.07it/s]"
      }
     },
     "c6cc40e925fa42aeba4093009a0a6581": {
      "model_module": "@jupyter-widgets/controls",
      "model_module_version": "1.5.0",
      "model_name": "ProgressStyleModel",
      "state": {
       "_model_module": "@jupyter-widgets/controls",
       "_model_module_version": "1.5.0",
       "_model_name": "ProgressStyleModel",
       "_view_count": null,
       "_view_module": "@jupyter-widgets/base",
       "_view_module_version": "1.2.0",
       "_view_name": "StyleView",
       "bar_color": null,
       "description_width": ""
      }
     },
     "d09d42dd212a46eda7981a703b4de038": {
      "model_module": "@jupyter-widgets/base",
      "model_module_version": "1.2.0",
      "model_name": "LayoutModel",
      "state": {
       "_model_module": "@jupyter-widgets/base",
       "_model_module_version": "1.2.0",
       "_model_name": "LayoutModel",
       "_view_count": null,
       "_view_module": "@jupyter-widgets/base",
       "_view_module_version": "1.2.0",
       "_view_name": "LayoutView",
       "align_content": null,
       "align_items": null,
       "align_self": null,
       "border": null,
       "bottom": null,
       "display": null,
       "flex": null,
       "flex_flow": null,
       "grid_area": null,
       "grid_auto_columns": null,
       "grid_auto_flow": null,
       "grid_auto_rows": null,
       "grid_column": null,
       "grid_gap": null,
       "grid_row": null,
       "grid_template_areas": null,
       "grid_template_columns": null,
       "grid_template_rows": null,
       "height": null,
       "justify_content": null,
       "justify_items": null,
       "left": null,
       "margin": null,
       "max_height": null,
       "max_width": null,
       "min_height": null,
       "min_width": null,
       "object_fit": null,
       "object_position": null,
       "order": null,
       "overflow": null,
       "overflow_x": null,
       "overflow_y": null,
       "padding": null,
       "right": null,
       "top": null,
       "visibility": null,
       "width": null
      }
     },
     "d37255ed10c942549840fa303b7a29ae": {
      "model_module": "@jupyter-widgets/controls",
      "model_module_version": "1.5.0",
      "model_name": "HBoxModel",
      "state": {
       "_dom_classes": [],
       "_model_module": "@jupyter-widgets/controls",
       "_model_module_version": "1.5.0",
       "_model_name": "HBoxModel",
       "_view_count": null,
       "_view_module": "@jupyter-widgets/controls",
       "_view_module_version": "1.5.0",
       "_view_name": "HBoxView",
       "box_style": "",
       "children": [
        "IPY_MODEL_7298be394b264ae5959ab9b28d4da74a",
        "IPY_MODEL_e31dc4ffdc3d474eb54d26e8808b48cc",
        "IPY_MODEL_c3ea08995b884a7890df1aa5d19b6364"
       ],
       "layout": "IPY_MODEL_698c22986d8e4a0ca0b8c5502b21a0cb"
      }
     },
     "d80651c63a61496ca9a08787b8c3114c": {
      "model_module": "@jupyter-widgets/base",
      "model_module_version": "1.2.0",
      "model_name": "LayoutModel",
      "state": {
       "_model_module": "@jupyter-widgets/base",
       "_model_module_version": "1.2.0",
       "_model_name": "LayoutModel",
       "_view_count": null,
       "_view_module": "@jupyter-widgets/base",
       "_view_module_version": "1.2.0",
       "_view_name": "LayoutView",
       "align_content": null,
       "align_items": null,
       "align_self": null,
       "border": null,
       "bottom": null,
       "display": null,
       "flex": null,
       "flex_flow": null,
       "grid_area": null,
       "grid_auto_columns": null,
       "grid_auto_flow": null,
       "grid_auto_rows": null,
       "grid_column": null,
       "grid_gap": null,
       "grid_row": null,
       "grid_template_areas": null,
       "grid_template_columns": null,
       "grid_template_rows": null,
       "height": null,
       "justify_content": null,
       "justify_items": null,
       "left": null,
       "margin": null,
       "max_height": null,
       "max_width": null,
       "min_height": null,
       "min_width": null,
       "object_fit": null,
       "object_position": null,
       "order": null,
       "overflow": null,
       "overflow_x": null,
       "overflow_y": null,
       "padding": null,
       "right": null,
       "top": null,
       "visibility": null,
       "width": null
      }
     },
     "da425e32b0774fb78082f7f37c19b61c": {
      "model_module": "@jupyter-widgets/base",
      "model_module_version": "1.2.0",
      "model_name": "LayoutModel",
      "state": {
       "_model_module": "@jupyter-widgets/base",
       "_model_module_version": "1.2.0",
       "_model_name": "LayoutModel",
       "_view_count": null,
       "_view_module": "@jupyter-widgets/base",
       "_view_module_version": "1.2.0",
       "_view_name": "LayoutView",
       "align_content": null,
       "align_items": null,
       "align_self": null,
       "border": null,
       "bottom": null,
       "display": null,
       "flex": null,
       "flex_flow": null,
       "grid_area": null,
       "grid_auto_columns": null,
       "grid_auto_flow": null,
       "grid_auto_rows": null,
       "grid_column": null,
       "grid_gap": null,
       "grid_row": null,
       "grid_template_areas": null,
       "grid_template_columns": null,
       "grid_template_rows": null,
       "height": null,
       "justify_content": null,
       "justify_items": null,
       "left": null,
       "margin": null,
       "max_height": null,
       "max_width": null,
       "min_height": null,
       "min_width": null,
       "object_fit": null,
       "object_position": null,
       "order": null,
       "overflow": null,
       "overflow_x": null,
       "overflow_y": null,
       "padding": null,
       "right": null,
       "top": null,
       "visibility": null,
       "width": null
      }
     },
     "e31dc4ffdc3d474eb54d26e8808b48cc": {
      "model_module": "@jupyter-widgets/controls",
      "model_module_version": "1.5.0",
      "model_name": "FloatProgressModel",
      "state": {
       "_dom_classes": [],
       "_model_module": "@jupyter-widgets/controls",
       "_model_module_version": "1.5.0",
       "_model_name": "FloatProgressModel",
       "_view_count": null,
       "_view_module": "@jupyter-widgets/controls",
       "_view_module_version": "1.5.0",
       "_view_name": "ProgressView",
       "bar_style": "success",
       "description": "",
       "description_tooltip": null,
       "layout": "IPY_MODEL_d09d42dd212a46eda7981a703b4de038",
       "max": 4542.0,
       "min": 0.0,
       "orientation": "horizontal",
       "style": "IPY_MODEL_c6cc40e925fa42aeba4093009a0a6581",
       "value": 4542.0
      }
     },
     "e5a0133f57c841f482154eb6c493c43d": {
      "model_module": "@jupyter-widgets/controls",
      "model_module_version": "1.5.0",
      "model_name": "DescriptionStyleModel",
      "state": {
       "_model_module": "@jupyter-widgets/controls",
       "_model_module_version": "1.5.0",
       "_model_name": "DescriptionStyleModel",
       "_view_count": null,
       "_view_module": "@jupyter-widgets/base",
       "_view_module_version": "1.2.0",
       "_view_name": "StyleView",
       "description_width": ""
      }
     },
     "ebed3ca11dff40cd9792ea4a7346a6bb": {
      "model_module": "@jupyter-widgets/base",
      "model_module_version": "1.2.0",
      "model_name": "LayoutModel",
      "state": {
       "_model_module": "@jupyter-widgets/base",
       "_model_module_version": "1.2.0",
       "_model_name": "LayoutModel",
       "_view_count": null,
       "_view_module": "@jupyter-widgets/base",
       "_view_module_version": "1.2.0",
       "_view_name": "LayoutView",
       "align_content": null,
       "align_items": null,
       "align_self": null,
       "border": null,
       "bottom": null,
       "display": null,
       "flex": null,
       "flex_flow": null,
       "grid_area": null,
       "grid_auto_columns": null,
       "grid_auto_flow": null,
       "grid_auto_rows": null,
       "grid_column": null,
       "grid_gap": null,
       "grid_row": null,
       "grid_template_areas": null,
       "grid_template_columns": null,
       "grid_template_rows": null,
       "height": null,
       "justify_content": null,
       "justify_items": null,
       "left": null,
       "margin": null,
       "max_height": null,
       "max_width": null,
       "min_height": null,
       "min_width": null,
       "object_fit": null,
       "object_position": null,
       "order": null,
       "overflow": null,
       "overflow_x": null,
       "overflow_y": null,
       "padding": null,
       "right": null,
       "top": null,
       "visibility": null,
       "width": null
      }
     },
     "f354a0857d354058a0f5ac1fc79fa432": {
      "model_module": "@jupyter-widgets/controls",
      "model_module_version": "1.5.0",
      "model_name": "ProgressStyleModel",
      "state": {
       "_model_module": "@jupyter-widgets/controls",
       "_model_module_version": "1.5.0",
       "_model_name": "ProgressStyleModel",
       "_view_count": null,
       "_view_module": "@jupyter-widgets/base",
       "_view_module_version": "1.2.0",
       "_view_name": "StyleView",
       "bar_color": null,
       "description_width": ""
      }
     },
     "f45a64fa070049c7875a3ed0e68cc4b3": {
      "model_module": "@jupyter-widgets/base",
      "model_module_version": "1.2.0",
      "model_name": "LayoutModel",
      "state": {
       "_model_module": "@jupyter-widgets/base",
       "_model_module_version": "1.2.0",
       "_model_name": "LayoutModel",
       "_view_count": null,
       "_view_module": "@jupyter-widgets/base",
       "_view_module_version": "1.2.0",
       "_view_name": "LayoutView",
       "align_content": null,
       "align_items": null,
       "align_self": null,
       "border": null,
       "bottom": null,
       "display": null,
       "flex": null,
       "flex_flow": null,
       "grid_area": null,
       "grid_auto_columns": null,
       "grid_auto_flow": null,
       "grid_auto_rows": null,
       "grid_column": null,
       "grid_gap": null,
       "grid_row": null,
       "grid_template_areas": null,
       "grid_template_columns": null,
       "grid_template_rows": null,
       "height": null,
       "justify_content": null,
       "justify_items": null,
       "left": null,
       "margin": null,
       "max_height": null,
       "max_width": null,
       "min_height": null,
       "min_width": null,
       "object_fit": null,
       "object_position": null,
       "order": null,
       "overflow": null,
       "overflow_x": null,
       "overflow_y": null,
       "padding": null,
       "right": null,
       "top": null,
       "visibility": null,
       "width": null
      }
     },
     "f75c6713bd444e45bd259cb424536ec5": {
      "model_module": "@jupyter-widgets/controls",
      "model_module_version": "1.5.0",
      "model_name": "HTMLModel",
      "state": {
       "_dom_classes": [],
       "_model_module": "@jupyter-widgets/controls",
       "_model_module_version": "1.5.0",
       "_model_name": "HTMLModel",
       "_view_count": null,
       "_view_module": "@jupyter-widgets/controls",
       "_view_module_version": "1.5.0",
       "_view_name": "HTMLView",
       "description": "",
       "description_tooltip": null,
       "layout": "IPY_MODEL_2d0e96653f5f452191e4f060f9f6c290",
       "placeholder": "​",
       "style": "IPY_MODEL_a16ec48e9eda4edda71764409d9fd3a2",
       "value": " 29696/? [00:00&lt;00:00, 1305639.08it/s]"
      }
     }
    },
    "version_major": 2,
    "version_minor": 0
   }
  }
 },
 "nbformat": 4,
 "nbformat_minor": 5
}
