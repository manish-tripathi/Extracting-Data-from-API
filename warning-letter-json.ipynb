{
 "cells": [
  {
   "cell_type": "code",
   "execution_count": 1,
   "id": "b466b589",
   "metadata": {
    "execution": {
     "iopub.execute_input": "2022-03-27T11:46:18.294106Z",
     "iopub.status.busy": "2022-03-27T11:46:18.292392Z",
     "iopub.status.idle": "2022-03-27T11:46:18.641363Z",
     "shell.execute_reply": "2022-03-27T11:46:18.640174Z",
     "shell.execute_reply.started": "2022-03-27T11:41:23.278388Z"
    },
    "papermill": {
     "duration": 0.378192,
     "end_time": "2022-03-27T11:46:18.641564",
     "exception": false,
     "start_time": "2022-03-27T11:46:18.263372",
     "status": "completed"
    },
    "tags": []
   },
   "outputs": [],
   "source": [
    "import pandas as pd\n",
    "import numpy as np\n",
    "from datetime import datetime\n",
    "\n",
    "from bs4 import BeautifulSoup as bs\n",
    "import requests\n",
    "import regex as re\n",
    "import unicodedata\n",
    "\n",
    "#Downloading the initial json file\n",
    "import time\n",
    "import hashlib\n",
    "import json\n",
    "import urllib.request\n",
    "from urllib.request import urlopen, Request"
   ]
  },
  {
   "cell_type": "code",
   "execution_count": 2,
   "id": "6d761fe6",
   "metadata": {
    "execution": {
     "iopub.execute_input": "2022-03-27T11:46:18.691347Z",
     "iopub.status.busy": "2022-03-27T11:46:18.690459Z",
     "iopub.status.idle": "2022-03-27T11:46:48.247474Z",
     "shell.execute_reply": "2022-03-27T11:46:48.246739Z",
     "shell.execute_reply.started": "2022-03-27T11:41:23.624089Z"
    },
    "papermill": {
     "duration": 29.581348,
     "end_time": "2022-03-27T11:46:48.247626",
     "exception": false,
     "start_time": "2022-03-27T11:46:18.666278",
     "status": "completed"
    },
    "tags": []
   },
   "outputs": [],
   "source": [
    "url1 = 'https://www.fda.gov/datatables/views/ajax?search_api_fulltext=&search_api_fulltext_issuing_office=&field_letter_issue_datetime=All&field_change_date_closeout_letter=&field_change_date_response_letter=&field_change_date_2=All&field_letter_issue_datetime_2=&draw=2&columns[0][data]=0&columns[0][name]=&columns[0][searchable]=true&columns[0][orderable]=true&columns[0][search][value]=&columns[0][search][regex]=false&columns[1][data]=1&columns[1][name]=&columns[1][searchable]=true&columns[1][orderable]=true&columns[1][search][value]=&columns[1][search][regex]=false&columns[2][data]=2&columns[2][name]=&columns[2][searchable]=true&columns[2][orderable]=true&columns[2][search][value]=&columns[2][search][regex]=false&columns[3][data]=3&columns[3][name]=&columns[3][searchable]=true&columns[3][orderable]=true&columns[3][search][value]=&columns[3][search][regex]=false&columns[4][data]=4&columns[4][name]=&columns[4][searchable]=true&columns[4][orderable]=true&columns[4][search][value]=&columns[4][search][regex]=false&columns[5][data]=5&columns[5][name]=&columns[5][searchable]=true&columns[5][orderable]=true&columns[5][search][value]=&columns[5][search][regex]=false&columns[6][data]=6&columns[6][name]=&columns[6][searchable]=true&columns[6][orderable]=true&columns[6][search][value]=&columns[6][search][regex]=false&columns[7][data]=7&columns[7][name]=&columns[7][searchable]=true&columns[7][orderable]=false&columns[7][search][value]=&columns[7][search][regex]=false&start=0&length=4000&search[value]=&search[regex]=false&_drupal_ajax=1&_wrapper_format=drupal_ajax&pager_element=0&view_args=&view_base_path=inspections-compliance-enforcement-and-criminal-investigations/compliance-actions-and-activities/warning-letters/datatables-data&view_display_id=warning_letter_solr_block&view_dom_id=1b5f02673e058c411472545b66423c0c07c1d6a20e44e1d9ff445533d62fca96&view_name=warning_letter_solr_index&view_path=/inspections-compliance-enforcement-and-criminal-investigations/compliance-actions-and-activities/warning-letters&total_items=2894&_=1648381464969'\n",
    "response = urlopen(url1).read()\n",
    "\n",
    "\n",
    "json_path = url1\n",
    "json_path1 = json_path.replace(\"'\", \"\")\n",
    "def download_file(download_url, filename):\n",
    "    response = urllib.request.urlopen(download_url)    \n",
    "    file = open(filename + \".json\", 'wb')\n",
    "    file.write(response.read())\n",
    "    file.close()\n",
    " \n",
    "download_file(json_path1, \"warning_letter\")"
   ]
  },
  {
   "cell_type": "code",
   "execution_count": 3,
   "id": "9d3ebc00",
   "metadata": {
    "execution": {
     "iopub.execute_input": "2022-03-27T11:46:48.292765Z",
     "iopub.status.busy": "2022-03-27T11:46:48.292185Z",
     "iopub.status.idle": "2022-03-27T11:46:48.324782Z",
     "shell.execute_reply": "2022-03-27T11:46:48.325297Z",
     "shell.execute_reply.started": "2022-03-27T10:48:04.856833Z"
    },
    "papermill": {
     "duration": 0.054977,
     "end_time": "2022-03-27T11:46:48.325467",
     "exception": false,
     "start_time": "2022-03-27T11:46:48.270490",
     "status": "completed"
    },
    "tags": []
   },
   "outputs": [],
   "source": [
    "df = pd.read_json(\"./warning_letter.json\")"
   ]
  },
  {
   "cell_type": "code",
   "execution_count": 4,
   "id": "4b95d4cd",
   "metadata": {
    "execution": {
     "iopub.execute_input": "2022-03-27T11:46:48.370664Z",
     "iopub.status.busy": "2022-03-27T11:46:48.370055Z",
     "iopub.status.idle": "2022-03-27T11:46:48.375305Z",
     "shell.execute_reply": "2022-03-27T11:46:48.375718Z",
     "shell.execute_reply.started": "2022-03-27T10:49:57.966016Z"
    },
    "papermill": {
     "duration": 0.029016,
     "end_time": "2022-03-27T11:46:48.375910",
     "exception": false,
     "start_time": "2022-03-27T11:46:48.346894",
     "status": "completed"
    },
    "tags": []
   },
   "outputs": [],
   "source": [
    "df =  df[\"data\"]"
   ]
  },
  {
   "cell_type": "code",
   "execution_count": 5,
   "id": "d03f462d",
   "metadata": {
    "execution": {
     "iopub.execute_input": "2022-03-27T11:46:48.419830Z",
     "iopub.status.busy": "2022-03-27T11:46:48.419209Z",
     "iopub.status.idle": "2022-03-27T11:46:48.526475Z",
     "shell.execute_reply": "2022-03-27T11:46:48.525902Z",
     "shell.execute_reply.started": "2022-03-27T10:50:00.553134Z"
    },
    "papermill": {
     "duration": 0.130678,
     "end_time": "2022-03-27T11:46:48.526615",
     "exception": false,
     "start_time": "2022-03-27T11:46:48.395937",
     "status": "completed"
    },
    "tags": []
   },
   "outputs": [],
   "source": [
    "df = pd.DataFrame(dict(zip(df.index, df.values))).T"
   ]
  },
  {
   "cell_type": "code",
   "execution_count": 6,
   "id": "ff8c41b0",
   "metadata": {
    "collapsed": true,
    "execution": {
     "iopub.execute_input": "2022-03-27T11:46:48.577966Z",
     "iopub.status.busy": "2022-03-27T11:46:48.577279Z",
     "iopub.status.idle": "2022-03-27T11:46:48.594408Z",
     "shell.execute_reply": "2022-03-27T11:46:48.594854Z",
     "shell.execute_reply.started": "2022-03-27T10:50:09.285029Z"
    },
    "jupyter": {
     "outputs_hidden": true
    },
    "papermill": {
     "duration": 0.04479,
     "end_time": "2022-03-27T11:46:48.595028",
     "exception": false,
     "start_time": "2022-03-27T11:46:48.550238",
     "status": "completed"
    },
    "tags": []
   },
   "outputs": [
    {
     "data": {
      "text/html": [
       "<div>\n",
       "<style scoped>\n",
       "    .dataframe tbody tr th:only-of-type {\n",
       "        vertical-align: middle;\n",
       "    }\n",
       "\n",
       "    .dataframe tbody tr th {\n",
       "        vertical-align: top;\n",
       "    }\n",
       "\n",
       "    .dataframe thead th {\n",
       "        text-align: right;\n",
       "    }\n",
       "</style>\n",
       "<table border=\"1\" class=\"dataframe\">\n",
       "  <thead>\n",
       "    <tr style=\"text-align: right;\">\n",
       "      <th></th>\n",
       "      <th>0</th>\n",
       "      <th>1</th>\n",
       "      <th>2</th>\n",
       "      <th>3</th>\n",
       "      <th>4</th>\n",
       "      <th>5</th>\n",
       "      <th>6</th>\n",
       "      <th>7</th>\n",
       "    </tr>\n",
       "  </thead>\n",
       "  <tbody>\n",
       "    <tr>\n",
       "      <th>0</th>\n",
       "      <td>&lt;time datetime=\"2022-03-24T19:00:00Z\"&gt;03/24/20...</td>\n",
       "      <td>&lt;time datetime=\"2022-03-24T04:00:00Z\"&gt;03/24/20...</td>\n",
       "      <td>&lt;a href=\"/inspections-compliance-enforcement-a...</td>\n",
       "      <td>Center for Tobacco Products</td>\n",
       "      <td>Family Smoking Prevention and Tobacco Control ...</td>\n",
       "      <td></td>\n",
       "      <td></td>\n",
       "      <td></td>\n",
       "    </tr>\n",
       "    <tr>\n",
       "      <th>1</th>\n",
       "      <td>&lt;time datetime=\"2022-03-22T13:20:00Z\"&gt;03/22/20...</td>\n",
       "      <td>&lt;time datetime=\"2022-02-03T05:00:00Z\"&gt;02/03/20...</td>\n",
       "      <td>&lt;a href=\"/inspections-compliance-enforcement-a...</td>\n",
       "      <td>Center for Drug Evaluation and Research | CDER</td>\n",
       "      <td>Failure to Register and List</td>\n",
       "      <td></td>\n",
       "      <td>&lt;a href=\"/inspections-compliance-enforcement-a...</td>\n",
       "      <td></td>\n",
       "    </tr>\n",
       "    <tr>\n",
       "      <th>2</th>\n",
       "      <td>&lt;time datetime=\"2022-03-22T13:20:00Z\"&gt;03/22/20...</td>\n",
       "      <td>&lt;time datetime=\"2022-03-15T04:00:00Z\"&gt;03/15/20...</td>\n",
       "      <td>&lt;a href=\"/inspections-compliance-enforcement-a...</td>\n",
       "      <td>Center for Tobacco Products</td>\n",
       "      <td>Family Smoking Prevention and Tobacco Control ...</td>\n",
       "      <td></td>\n",
       "      <td></td>\n",
       "      <td></td>\n",
       "    </tr>\n",
       "    <tr>\n",
       "      <th>3</th>\n",
       "      <td>&lt;time datetime=\"2022-03-22T13:20:00Z\"&gt;03/22/20...</td>\n",
       "      <td>&lt;time datetime=\"2022-03-18T04:00:00Z\"&gt;03/18/20...</td>\n",
       "      <td>&lt;a href=\"/inspections-compliance-enforcement-a...</td>\n",
       "      <td>Center for Tobacco Products</td>\n",
       "      <td>Family Smoking Prevention and Tobacco Control ...</td>\n",
       "      <td></td>\n",
       "      <td></td>\n",
       "      <td></td>\n",
       "    </tr>\n",
       "    <tr>\n",
       "      <th>4</th>\n",
       "      <td>&lt;time datetime=\"2022-03-22T13:20:00Z\"&gt;03/22/20...</td>\n",
       "      <td>&lt;time datetime=\"2022-02-23T05:00:00Z\"&gt;02/23/20...</td>\n",
       "      <td>&lt;a href=\"/inspections-compliance-enforcement-a...</td>\n",
       "      <td>Office of Human and Animal Food Operations- We...</td>\n",
       "      <td>CGMP/Food for Animals/Prepared, Packed or Held...</td>\n",
       "      <td></td>\n",
       "      <td></td>\n",
       "      <td></td>\n",
       "    </tr>\n",
       "  </tbody>\n",
       "</table>\n",
       "</div>"
      ],
      "text/plain": [
       "                                                   0  \\\n",
       "0  <time datetime=\"2022-03-24T19:00:00Z\">03/24/20...   \n",
       "1  <time datetime=\"2022-03-22T13:20:00Z\">03/22/20...   \n",
       "2  <time datetime=\"2022-03-22T13:20:00Z\">03/22/20...   \n",
       "3  <time datetime=\"2022-03-22T13:20:00Z\">03/22/20...   \n",
       "4  <time datetime=\"2022-03-22T13:20:00Z\">03/22/20...   \n",
       "\n",
       "                                                   1  \\\n",
       "0  <time datetime=\"2022-03-24T04:00:00Z\">03/24/20...   \n",
       "1  <time datetime=\"2022-02-03T05:00:00Z\">02/03/20...   \n",
       "2  <time datetime=\"2022-03-15T04:00:00Z\">03/15/20...   \n",
       "3  <time datetime=\"2022-03-18T04:00:00Z\">03/18/20...   \n",
       "4  <time datetime=\"2022-02-23T05:00:00Z\">02/23/20...   \n",
       "\n",
       "                                                   2  \\\n",
       "0  <a href=\"/inspections-compliance-enforcement-a...   \n",
       "1  <a href=\"/inspections-compliance-enforcement-a...   \n",
       "2  <a href=\"/inspections-compliance-enforcement-a...   \n",
       "3  <a href=\"/inspections-compliance-enforcement-a...   \n",
       "4  <a href=\"/inspections-compliance-enforcement-a...   \n",
       "\n",
       "                                                   3  \\\n",
       "0                        Center for Tobacco Products   \n",
       "1     Center for Drug Evaluation and Research | CDER   \n",
       "2                        Center for Tobacco Products   \n",
       "3                        Center for Tobacco Products   \n",
       "4  Office of Human and Animal Food Operations- We...   \n",
       "\n",
       "                                                   4 5  \\\n",
       "0  Family Smoking Prevention and Tobacco Control ...     \n",
       "1                       Failure to Register and List     \n",
       "2  Family Smoking Prevention and Tobacco Control ...     \n",
       "3  Family Smoking Prevention and Tobacco Control ...     \n",
       "4  CGMP/Food for Animals/Prepared, Packed or Held...     \n",
       "\n",
       "                                                   6 7  \n",
       "0                                                       \n",
       "1  <a href=\"/inspections-compliance-enforcement-a...    \n",
       "2                                                       \n",
       "3                                                       \n",
       "4                                                       "
      ]
     },
     "execution_count": 6,
     "metadata": {},
     "output_type": "execute_result"
    }
   ],
   "source": [
    "df.head()"
   ]
  },
  {
   "cell_type": "code",
   "execution_count": 7,
   "id": "e0db2d56",
   "metadata": {
    "execution": {
     "iopub.execute_input": "2022-03-27T11:46:48.641719Z",
     "iopub.status.busy": "2022-03-27T11:46:48.640674Z",
     "iopub.status.idle": "2022-03-27T11:46:48.643327Z",
     "shell.execute_reply": "2022-03-27T11:46:48.643793Z"
    },
    "papermill": {
     "duration": 0.028522,
     "end_time": "2022-03-27T11:46:48.644015",
     "exception": false,
     "start_time": "2022-03-27T11:46:48.615493",
     "status": "completed"
    },
    "tags": []
   },
   "outputs": [],
   "source": [
    "cols = [\"posted_date\", \"letter_issue_date\", \"company_name_and_link\", \"issuing_office\",\\\n",
    "        \"subject\",\"response_letter_date_and_link\",\"closeout_letter_date_and_link\", \"check\"]\n",
    "\n",
    "df.columns = cols"
   ]
  },
  {
   "cell_type": "code",
   "execution_count": 8,
   "id": "ae404617",
   "metadata": {
    "execution": {
     "iopub.execute_input": "2022-03-27T11:46:48.699104Z",
     "iopub.status.busy": "2022-03-27T11:46:48.693559Z",
     "iopub.status.idle": "2022-03-27T11:46:48.701915Z",
     "shell.execute_reply": "2022-03-27T11:46:48.701394Z"
    },
    "papermill": {
     "duration": 0.037874,
     "end_time": "2022-03-27T11:46:48.702063",
     "exception": false,
     "start_time": "2022-03-27T11:46:48.664189",
     "status": "completed"
    },
    "tags": []
   },
   "outputs": [],
   "source": [
    "# Replacing blanks in response_letter and closeout_letter with NAN Values in the df\n",
    "df[\"response_letter_date_and_link\"][df[\"response_letter_date_and_link\"].str.contains(\"href\") == False] = np.NaN\n",
    "df[\"closeout_letter_date_and_link\"][df[\"closeout_letter_date_and_link\"].str.contains(\"href\") == False] = np.NaN"
   ]
  },
  {
   "cell_type": "code",
   "execution_count": 9,
   "id": "192a9d0f",
   "metadata": {
    "execution": {
     "iopub.execute_input": "2022-03-27T11:46:48.750982Z",
     "iopub.status.busy": "2022-03-27T11:46:48.750324Z",
     "iopub.status.idle": "2022-03-27T11:46:48.756621Z",
     "shell.execute_reply": "2022-03-27T11:46:48.757188Z"
    },
    "papermill": {
     "duration": 0.035019,
     "end_time": "2022-03-27T11:46:48.757357",
     "exception": false,
     "start_time": "2022-03-27T11:46:48.722338",
     "status": "completed"
    },
    "tags": []
   },
   "outputs": [
    {
     "data": {
      "text/plain": [
       "0"
      ]
     },
     "execution_count": 9,
     "metadata": {},
     "output_type": "execute_result"
    }
   ],
   "source": [
    "df[\"check\"].str.contains('\\w', regex=True).sum()"
   ]
  },
  {
   "cell_type": "code",
   "execution_count": 10,
   "id": "8dd21fa7",
   "metadata": {
    "execution": {
     "iopub.execute_input": "2022-03-27T11:46:48.802765Z",
     "iopub.status.busy": "2022-03-27T11:46:48.802208Z",
     "iopub.status.idle": "2022-03-27T11:46:48.810730Z",
     "shell.execute_reply": "2022-03-27T11:46:48.811219Z"
    },
    "papermill": {
     "duration": 0.032926,
     "end_time": "2022-03-27T11:46:48.811385",
     "exception": false,
     "start_time": "2022-03-27T11:46:48.778459",
     "status": "completed"
    },
    "tags": []
   },
   "outputs": [],
   "source": [
    "df.drop([\"check\"], axis=1, inplace = True)"
   ]
  },
  {
   "cell_type": "code",
   "execution_count": 11,
   "id": "9d3ee915",
   "metadata": {
    "execution": {
     "iopub.execute_input": "2022-03-27T11:46:48.858726Z",
     "iopub.status.busy": "2022-03-27T11:46:48.858157Z",
     "iopub.status.idle": "2022-03-27T11:46:48.869196Z",
     "shell.execute_reply": "2022-03-27T11:46:48.869759Z"
    },
    "papermill": {
     "duration": 0.037036,
     "end_time": "2022-03-27T11:46:48.869935",
     "exception": false,
     "start_time": "2022-03-27T11:46:48.832899",
     "status": "completed"
    },
    "tags": []
   },
   "outputs": [
    {
     "data": {
      "text/html": [
       "<div>\n",
       "<style scoped>\n",
       "    .dataframe tbody tr th:only-of-type {\n",
       "        vertical-align: middle;\n",
       "    }\n",
       "\n",
       "    .dataframe tbody tr th {\n",
       "        vertical-align: top;\n",
       "    }\n",
       "\n",
       "    .dataframe thead th {\n",
       "        text-align: right;\n",
       "    }\n",
       "</style>\n",
       "<table border=\"1\" class=\"dataframe\">\n",
       "  <thead>\n",
       "    <tr style=\"text-align: right;\">\n",
       "      <th></th>\n",
       "      <th>posted_date</th>\n",
       "      <th>letter_issue_date</th>\n",
       "      <th>company_name_and_link</th>\n",
       "      <th>issuing_office</th>\n",
       "      <th>subject</th>\n",
       "      <th>response_letter_date_and_link</th>\n",
       "      <th>closeout_letter_date_and_link</th>\n",
       "    </tr>\n",
       "  </thead>\n",
       "  <tbody>\n",
       "    <tr>\n",
       "      <th>0</th>\n",
       "      <td>&lt;time datetime=\"2022-03-24T19:00:00Z\"&gt;03/24/20...</td>\n",
       "      <td>&lt;time datetime=\"2022-03-24T04:00:00Z\"&gt;03/24/20...</td>\n",
       "      <td>&lt;a href=\"/inspections-compliance-enforcement-a...</td>\n",
       "      <td>Center for Tobacco Products</td>\n",
       "      <td>Family Smoking Prevention and Tobacco Control ...</td>\n",
       "      <td>NaN</td>\n",
       "      <td>NaN</td>\n",
       "    </tr>\n",
       "    <tr>\n",
       "      <th>1</th>\n",
       "      <td>&lt;time datetime=\"2022-03-22T13:20:00Z\"&gt;03/22/20...</td>\n",
       "      <td>&lt;time datetime=\"2022-02-03T05:00:00Z\"&gt;02/03/20...</td>\n",
       "      <td>&lt;a href=\"/inspections-compliance-enforcement-a...</td>\n",
       "      <td>Center for Drug Evaluation and Research | CDER</td>\n",
       "      <td>Failure to Register and List</td>\n",
       "      <td>NaN</td>\n",
       "      <td>&lt;a href=\"/inspections-compliance-enforcement-a...</td>\n",
       "    </tr>\n",
       "    <tr>\n",
       "      <th>2</th>\n",
       "      <td>&lt;time datetime=\"2022-03-22T13:20:00Z\"&gt;03/22/20...</td>\n",
       "      <td>&lt;time datetime=\"2022-03-15T04:00:00Z\"&gt;03/15/20...</td>\n",
       "      <td>&lt;a href=\"/inspections-compliance-enforcement-a...</td>\n",
       "      <td>Center for Tobacco Products</td>\n",
       "      <td>Family Smoking Prevention and Tobacco Control ...</td>\n",
       "      <td>NaN</td>\n",
       "      <td>NaN</td>\n",
       "    </tr>\n",
       "    <tr>\n",
       "      <th>3</th>\n",
       "      <td>&lt;time datetime=\"2022-03-22T13:20:00Z\"&gt;03/22/20...</td>\n",
       "      <td>&lt;time datetime=\"2022-03-18T04:00:00Z\"&gt;03/18/20...</td>\n",
       "      <td>&lt;a href=\"/inspections-compliance-enforcement-a...</td>\n",
       "      <td>Center for Tobacco Products</td>\n",
       "      <td>Family Smoking Prevention and Tobacco Control ...</td>\n",
       "      <td>NaN</td>\n",
       "      <td>NaN</td>\n",
       "    </tr>\n",
       "    <tr>\n",
       "      <th>4</th>\n",
       "      <td>&lt;time datetime=\"2022-03-22T13:20:00Z\"&gt;03/22/20...</td>\n",
       "      <td>&lt;time datetime=\"2022-02-23T05:00:00Z\"&gt;02/23/20...</td>\n",
       "      <td>&lt;a href=\"/inspections-compliance-enforcement-a...</td>\n",
       "      <td>Office of Human and Animal Food Operations- We...</td>\n",
       "      <td>CGMP/Food for Animals/Prepared, Packed or Held...</td>\n",
       "      <td>NaN</td>\n",
       "      <td>NaN</td>\n",
       "    </tr>\n",
       "  </tbody>\n",
       "</table>\n",
       "</div>"
      ],
      "text/plain": [
       "                                         posted_date  \\\n",
       "0  <time datetime=\"2022-03-24T19:00:00Z\">03/24/20...   \n",
       "1  <time datetime=\"2022-03-22T13:20:00Z\">03/22/20...   \n",
       "2  <time datetime=\"2022-03-22T13:20:00Z\">03/22/20...   \n",
       "3  <time datetime=\"2022-03-22T13:20:00Z\">03/22/20...   \n",
       "4  <time datetime=\"2022-03-22T13:20:00Z\">03/22/20...   \n",
       "\n",
       "                                   letter_issue_date  \\\n",
       "0  <time datetime=\"2022-03-24T04:00:00Z\">03/24/20...   \n",
       "1  <time datetime=\"2022-02-03T05:00:00Z\">02/03/20...   \n",
       "2  <time datetime=\"2022-03-15T04:00:00Z\">03/15/20...   \n",
       "3  <time datetime=\"2022-03-18T04:00:00Z\">03/18/20...   \n",
       "4  <time datetime=\"2022-02-23T05:00:00Z\">02/23/20...   \n",
       "\n",
       "                               company_name_and_link  \\\n",
       "0  <a href=\"/inspections-compliance-enforcement-a...   \n",
       "1  <a href=\"/inspections-compliance-enforcement-a...   \n",
       "2  <a href=\"/inspections-compliance-enforcement-a...   \n",
       "3  <a href=\"/inspections-compliance-enforcement-a...   \n",
       "4  <a href=\"/inspections-compliance-enforcement-a...   \n",
       "\n",
       "                                      issuing_office  \\\n",
       "0                        Center for Tobacco Products   \n",
       "1     Center for Drug Evaluation and Research | CDER   \n",
       "2                        Center for Tobacco Products   \n",
       "3                        Center for Tobacco Products   \n",
       "4  Office of Human and Animal Food Operations- We...   \n",
       "\n",
       "                                             subject  \\\n",
       "0  Family Smoking Prevention and Tobacco Control ...   \n",
       "1                       Failure to Register and List   \n",
       "2  Family Smoking Prevention and Tobacco Control ...   \n",
       "3  Family Smoking Prevention and Tobacco Control ...   \n",
       "4  CGMP/Food for Animals/Prepared, Packed or Held...   \n",
       "\n",
       "  response_letter_date_and_link  \\\n",
       "0                           NaN   \n",
       "1                           NaN   \n",
       "2                           NaN   \n",
       "3                           NaN   \n",
       "4                           NaN   \n",
       "\n",
       "                       closeout_letter_date_and_link  \n",
       "0                                                NaN  \n",
       "1  <a href=\"/inspections-compliance-enforcement-a...  \n",
       "2                                                NaN  \n",
       "3                                                NaN  \n",
       "4                                                NaN  "
      ]
     },
     "execution_count": 11,
     "metadata": {},
     "output_type": "execute_result"
    }
   ],
   "source": [
    "df.head()"
   ]
  },
  {
   "cell_type": "code",
   "execution_count": 12,
   "id": "70e48c7e",
   "metadata": {
    "execution": {
     "iopub.execute_input": "2022-03-27T11:46:48.918300Z",
     "iopub.status.busy": "2022-03-27T11:46:48.917682Z",
     "iopub.status.idle": "2022-03-27T11:46:48.921423Z",
     "shell.execute_reply": "2022-03-27T11:46:48.921981Z"
    },
    "papermill": {
     "duration": 0.030581,
     "end_time": "2022-03-27T11:46:48.922151",
     "exception": false,
     "start_time": "2022-03-27T11:46:48.891570",
     "status": "completed"
    },
    "tags": []
   },
   "outputs": [],
   "source": [
    "def date_extract(x):\n",
    "    soup = bs(x, \"lxml\")\n",
    "    date = soup.find(\"time\").text.strip()\n",
    "    return date"
   ]
  },
  {
   "cell_type": "code",
   "execution_count": 13,
   "id": "cd93afcf",
   "metadata": {
    "execution": {
     "iopub.execute_input": "2022-03-27T11:46:48.971664Z",
     "iopub.status.busy": "2022-03-27T11:46:48.970912Z",
     "iopub.status.idle": "2022-03-27T11:46:48.974584Z",
     "shell.execute_reply": "2022-03-27T11:46:48.975104Z"
    },
    "papermill": {
     "duration": 0.03051,
     "end_time": "2022-03-27T11:46:48.975275",
     "exception": false,
     "start_time": "2022-03-27T11:46:48.944765",
     "status": "completed"
    },
    "tags": []
   },
   "outputs": [],
   "source": [
    "def company_name_and_link(x):\n",
    "    soup = bs(x, \"lxml\")\n",
    "    company_name = soup.find(\"a\").text.strip()\n",
    "    link = \"https://www.fda.gov\" + soup.find(\"a\")[\"href\"].strip()\n",
    "    return company_name, link"
   ]
  },
  {
   "cell_type": "code",
   "execution_count": 14,
   "id": "f4c952a9",
   "metadata": {
    "execution": {
     "iopub.execute_input": "2022-03-27T11:46:49.028332Z",
     "iopub.status.busy": "2022-03-27T11:46:49.027694Z",
     "iopub.status.idle": "2022-03-27T11:46:50.316275Z",
     "shell.execute_reply": "2022-03-27T11:46:50.315752Z"
    },
    "papermill": {
     "duration": 1.317501,
     "end_time": "2022-03-27T11:46:50.316425",
     "exception": false,
     "start_time": "2022-03-27T11:46:48.998924",
     "status": "completed"
    },
    "tags": []
   },
   "outputs": [],
   "source": [
    "df[[\"posted_date\", \"letter_issue_date\"]] = df[[\"posted_date\", \"letter_issue_date\"]].applymap(lambda x: date_extract(x))"
   ]
  },
  {
   "cell_type": "code",
   "execution_count": 15,
   "id": "0fa29b72",
   "metadata": {
    "execution": {
     "iopub.execute_input": "2022-03-27T11:46:50.366742Z",
     "iopub.status.busy": "2022-03-27T11:46:50.366167Z",
     "iopub.status.idle": "2022-03-27T11:46:51.025409Z",
     "shell.execute_reply": "2022-03-27T11:46:51.024751Z"
    },
    "papermill": {
     "duration": 0.687017,
     "end_time": "2022-03-27T11:46:51.025547",
     "exception": false,
     "start_time": "2022-03-27T11:46:50.338530",
     "status": "completed"
    },
    "tags": []
   },
   "outputs": [],
   "source": [
    "df[\"company_name_and_link\"] = df[\"company_name_and_link\"].apply(company_name_and_link)"
   ]
  },
  {
   "cell_type": "code",
   "execution_count": 16,
   "id": "38dfead2",
   "metadata": {
    "execution": {
     "iopub.execute_input": "2022-03-27T11:46:51.078545Z",
     "iopub.status.busy": "2022-03-27T11:46:51.077948Z",
     "iopub.status.idle": "2022-03-27T11:46:51.081523Z",
     "shell.execute_reply": "2022-03-27T11:46:51.081062Z"
    },
    "papermill": {
     "duration": 0.032419,
     "end_time": "2022-03-27T11:46:51.081857",
     "exception": false,
     "start_time": "2022-03-27T11:46:51.049438",
     "status": "completed"
    },
    "tags": []
   },
   "outputs": [],
   "source": [
    "df['company_name'], df['warning_letter_link'] = zip(*df[\"company_name_and_link\"])"
   ]
  },
  {
   "cell_type": "code",
   "execution_count": 17,
   "id": "7645bc42",
   "metadata": {
    "execution": {
     "iopub.execute_input": "2022-03-27T11:46:51.130796Z",
     "iopub.status.busy": "2022-03-27T11:46:51.130168Z",
     "iopub.status.idle": "2022-03-27T11:46:51.139086Z",
     "shell.execute_reply": "2022-03-27T11:46:51.139557Z"
    },
    "papermill": {
     "duration": 0.034409,
     "end_time": "2022-03-27T11:46:51.139722",
     "exception": false,
     "start_time": "2022-03-27T11:46:51.105313",
     "status": "completed"
    },
    "tags": []
   },
   "outputs": [],
   "source": [
    "df[[\"issuing_office\", \"subject\"]] = df[[\"issuing_office\", \"subject\"]].applymap(lambda x: x.strip())"
   ]
  },
  {
   "cell_type": "code",
   "execution_count": 18,
   "id": "83add7c7",
   "metadata": {
    "execution": {
     "iopub.execute_input": "2022-03-27T11:46:51.187047Z",
     "iopub.status.busy": "2022-03-27T11:46:51.186416Z",
     "iopub.status.idle": "2022-03-27T11:46:51.201692Z",
     "shell.execute_reply": "2022-03-27T11:46:51.202247Z"
    },
    "papermill": {
     "duration": 0.040398,
     "end_time": "2022-03-27T11:46:51.202411",
     "exception": false,
     "start_time": "2022-03-27T11:46:51.162013",
     "status": "completed"
    },
    "tags": []
   },
   "outputs": [
    {
     "data": {
      "text/html": [
       "<div>\n",
       "<style scoped>\n",
       "    .dataframe tbody tr th:only-of-type {\n",
       "        vertical-align: middle;\n",
       "    }\n",
       "\n",
       "    .dataframe tbody tr th {\n",
       "        vertical-align: top;\n",
       "    }\n",
       "\n",
       "    .dataframe thead th {\n",
       "        text-align: right;\n",
       "    }\n",
       "</style>\n",
       "<table border=\"1\" class=\"dataframe\">\n",
       "  <thead>\n",
       "    <tr style=\"text-align: right;\">\n",
       "      <th></th>\n",
       "      <th>posted_date</th>\n",
       "      <th>letter_issue_date</th>\n",
       "      <th>company_name_and_link</th>\n",
       "      <th>issuing_office</th>\n",
       "      <th>subject</th>\n",
       "      <th>response_letter_date_and_link</th>\n",
       "      <th>closeout_letter_date_and_link</th>\n",
       "      <th>company_name</th>\n",
       "      <th>warning_letter_link</th>\n",
       "    </tr>\n",
       "  </thead>\n",
       "  <tbody>\n",
       "    <tr>\n",
       "      <th>200</th>\n",
       "      <td>12/07/2021</td>\n",
       "      <td>11/09/2021</td>\n",
       "      <td>(Synaptent, LLC, https://www.fda.gov/inspectio...</td>\n",
       "      <td>Office of Human and Animal Food Operations-East 6</td>\n",
       "      <td>New Drug/Misbranded</td>\n",
       "      <td>&lt;a href=\"/inspections-compliance-enforcement-a...</td>\n",
       "      <td>NaN</td>\n",
       "      <td>Synaptent, LLC</td>\n",
       "      <td>https://www.fda.gov/inspections-compliance-enf...</td>\n",
       "    </tr>\n",
       "    <tr>\n",
       "      <th>928</th>\n",
       "      <td>09/29/2020</td>\n",
       "      <td>09/09/2020</td>\n",
       "      <td>(Foothills Professional Pharmacy, LTD, https:/...</td>\n",
       "      <td>Division of Pharmaceutical Quality Operations IV</td>\n",
       "      <td>Compounding Pharmacy/Adulterated Drug Products</td>\n",
       "      <td>&lt;a href=\"/inspections-compliance-enforcement-a...</td>\n",
       "      <td>NaN</td>\n",
       "      <td>Foothills Professional Pharmacy, LTD</td>\n",
       "      <td>https://www.fda.gov/inspections-compliance-enf...</td>\n",
       "    </tr>\n",
       "    <tr>\n",
       "      <th>1635</th>\n",
       "      <td>09/03/2019</td>\n",
       "      <td>08/26/2019</td>\n",
       "      <td>(Absonutrix, LLC, https://www.fda.gov/inspecti...</td>\n",
       "      <td>Division of Human and Animal Food Operations E...</td>\n",
       "      <td>Dietary Supplement/Adulterated&lt;br /&gt;</td>\n",
       "      <td>&lt;a href=\"/inspections-compliance-enforcement-a...</td>\n",
       "      <td>NaN</td>\n",
       "      <td>Absonutrix, LLC</td>\n",
       "      <td>https://www.fda.gov/inspections-compliance-enf...</td>\n",
       "    </tr>\n",
       "    <tr>\n",
       "      <th>1655</th>\n",
       "      <td>08/20/2019</td>\n",
       "      <td>07/22/2019</td>\n",
       "      <td>(Almark Foods Inc, https://www.fda.gov/inspect...</td>\n",
       "      <td>Division of Human and Animal Food Operations E...</td>\n",
       "      <td>Food/Prepared Packed or Held Under Insanitary ...</td>\n",
       "      <td>&lt;a href=\"/inspections-compliance-enforcement-a...</td>\n",
       "      <td>NaN</td>\n",
       "      <td>Almark Foods Inc</td>\n",
       "      <td>https://www.fda.gov/inspections-compliance-enf...</td>\n",
       "    </tr>\n",
       "    <tr>\n",
       "      <th>1994</th>\n",
       "      <td>10/30/2018</td>\n",
       "      <td>10/18/2018</td>\n",
       "      <td>(Custom RX LLC dba Custom Rx Pharmacy and Well...</td>\n",
       "      <td>Detroit District Office</td>\n",
       "      <td>Custom RX LLC dba Custom Rx Pharmacy and Welln...</td>\n",
       "      <td>&lt;a href=\"/inspections-compliance-enforcement-a...</td>\n",
       "      <td>&lt;a href=\"/inspections-compliance-enforcement-a...</td>\n",
       "      <td>Custom RX LLC dba Custom Rx Pharmacy and Welln...</td>\n",
       "      <td>https://www.fda.gov/inspections-compliance-enf...</td>\n",
       "    </tr>\n",
       "    <tr>\n",
       "      <th>2126</th>\n",
       "      <td>07/24/2018</td>\n",
       "      <td>07/19/2018</td>\n",
       "      <td>(Niche Pharmaceuticals, Inc, https://www.fda.g...</td>\n",
       "      <td>Dallas District Office</td>\n",
       "      <td>Unapproved New Drugs/Misbranded</td>\n",
       "      <td>&lt;a href=\"/inspections-compliance-enforcement-a...</td>\n",
       "      <td>&lt;a href=\"/inspections-compliance-enforcement-a...</td>\n",
       "      <td>Niche Pharmaceuticals, Inc</td>\n",
       "      <td>https://www.fda.gov/inspections-compliance-enf...</td>\n",
       "    </tr>\n",
       "  </tbody>\n",
       "</table>\n",
       "</div>"
      ],
      "text/plain": [
       "     posted_date letter_issue_date  \\\n",
       "200   12/07/2021        11/09/2021   \n",
       "928   09/29/2020        09/09/2020   \n",
       "1635  09/03/2019        08/26/2019   \n",
       "1655  08/20/2019        07/22/2019   \n",
       "1994  10/30/2018        10/18/2018   \n",
       "2126  07/24/2018        07/19/2018   \n",
       "\n",
       "                                  company_name_and_link  \\\n",
       "200   (Synaptent, LLC, https://www.fda.gov/inspectio...   \n",
       "928   (Foothills Professional Pharmacy, LTD, https:/...   \n",
       "1635  (Absonutrix, LLC, https://www.fda.gov/inspecti...   \n",
       "1655  (Almark Foods Inc, https://www.fda.gov/inspect...   \n",
       "1994  (Custom RX LLC dba Custom Rx Pharmacy and Well...   \n",
       "2126  (Niche Pharmaceuticals, Inc, https://www.fda.g...   \n",
       "\n",
       "                                         issuing_office  \\\n",
       "200   Office of Human and Animal Food Operations-East 6   \n",
       "928    Division of Pharmaceutical Quality Operations IV   \n",
       "1635  Division of Human and Animal Food Operations E...   \n",
       "1655  Division of Human and Animal Food Operations E...   \n",
       "1994                            Detroit District Office   \n",
       "2126                             Dallas District Office   \n",
       "\n",
       "                                                subject  \\\n",
       "200                                 New Drug/Misbranded   \n",
       "928      Compounding Pharmacy/Adulterated Drug Products   \n",
       "1635               Dietary Supplement/Adulterated<br />   \n",
       "1655  Food/Prepared Packed or Held Under Insanitary ...   \n",
       "1994  Custom RX LLC dba Custom Rx Pharmacy and Welln...   \n",
       "2126                    Unapproved New Drugs/Misbranded   \n",
       "\n",
       "                          response_letter_date_and_link  \\\n",
       "200   <a href=\"/inspections-compliance-enforcement-a...   \n",
       "928   <a href=\"/inspections-compliance-enforcement-a...   \n",
       "1635  <a href=\"/inspections-compliance-enforcement-a...   \n",
       "1655  <a href=\"/inspections-compliance-enforcement-a...   \n",
       "1994  <a href=\"/inspections-compliance-enforcement-a...   \n",
       "2126  <a href=\"/inspections-compliance-enforcement-a...   \n",
       "\n",
       "                          closeout_letter_date_and_link  \\\n",
       "200                                                 NaN   \n",
       "928                                                 NaN   \n",
       "1635                                                NaN   \n",
       "1655                                                NaN   \n",
       "1994  <a href=\"/inspections-compliance-enforcement-a...   \n",
       "2126  <a href=\"/inspections-compliance-enforcement-a...   \n",
       "\n",
       "                                           company_name  \\\n",
       "200                                      Synaptent, LLC   \n",
       "928                Foothills Professional Pharmacy, LTD   \n",
       "1635                                    Absonutrix, LLC   \n",
       "1655                                   Almark Foods Inc   \n",
       "1994  Custom RX LLC dba Custom Rx Pharmacy and Welln...   \n",
       "2126                         Niche Pharmaceuticals, Inc   \n",
       "\n",
       "                                    warning_letter_link  \n",
       "200   https://www.fda.gov/inspections-compliance-enf...  \n",
       "928   https://www.fda.gov/inspections-compliance-enf...  \n",
       "1635  https://www.fda.gov/inspections-compliance-enf...  \n",
       "1655  https://www.fda.gov/inspections-compliance-enf...  \n",
       "1994  https://www.fda.gov/inspections-compliance-enf...  \n",
       "2126  https://www.fda.gov/inspections-compliance-enf...  "
      ]
     },
     "execution_count": 18,
     "metadata": {},
     "output_type": "execute_result"
    }
   ],
   "source": [
    "df[df[\"response_letter_date_and_link\"].notnull()]"
   ]
  },
  {
   "cell_type": "code",
   "execution_count": 19,
   "id": "06d16e2f",
   "metadata": {
    "execution": {
     "iopub.execute_input": "2022-03-27T11:46:51.251893Z",
     "iopub.status.busy": "2022-03-27T11:46:51.251265Z",
     "iopub.status.idle": "2022-03-27T11:46:51.256258Z",
     "shell.execute_reply": "2022-03-27T11:46:51.255722Z"
    },
    "papermill": {
     "duration": 0.030738,
     "end_time": "2022-03-27T11:46:51.256397",
     "exception": false,
     "start_time": "2022-03-27T11:46:51.225659",
     "status": "completed"
    },
    "tags": []
   },
   "outputs": [],
   "source": [
    "def letter_date_and_link(x):\n",
    "    soup = bs(x, \"lxml\")\n",
    "    date = soup.find(\"a\").text.strip()\n",
    "    link = \"https://www.fda.gov\" + soup.find(\"a\")[\"href\"].strip()\n",
    "    return date, link"
   ]
  },
  {
   "cell_type": "markdown",
   "id": "be849c03",
   "metadata": {
    "papermill": {
     "duration": 0.022821,
     "end_time": "2022-03-27T11:46:51.302345",
     "exception": false,
     "start_time": "2022-03-27T11:46:51.279524",
     "status": "completed"
    },
    "tags": []
   },
   "source": [
    "Getting Response Letter Date and Link"
   ]
  },
  {
   "cell_type": "code",
   "execution_count": 20,
   "id": "ec53dd51",
   "metadata": {
    "execution": {
     "iopub.execute_input": "2022-03-27T11:46:51.351842Z",
     "iopub.status.busy": "2022-03-27T11:46:51.351224Z",
     "iopub.status.idle": "2022-03-27T11:46:51.355321Z",
     "shell.execute_reply": "2022-03-27T11:46:51.355893Z"
    },
    "papermill": {
     "duration": 0.030458,
     "end_time": "2022-03-27T11:46:51.356064",
     "exception": false,
     "start_time": "2022-03-27T11:46:51.325606",
     "status": "completed"
    },
    "tags": []
   },
   "outputs": [],
   "source": [
    "get_rows_response_letter = df[\"response_letter_date_and_link\"].notnull()"
   ]
  },
  {
   "cell_type": "code",
   "execution_count": 21,
   "id": "895e880b",
   "metadata": {
    "execution": {
     "iopub.execute_input": "2022-03-27T11:46:51.405876Z",
     "iopub.status.busy": "2022-03-27T11:46:51.405235Z",
     "iopub.status.idle": "2022-03-27T11:46:51.419559Z",
     "shell.execute_reply": "2022-03-27T11:46:51.419030Z"
    },
    "papermill": {
     "duration": 0.040213,
     "end_time": "2022-03-27T11:46:51.419692",
     "exception": false,
     "start_time": "2022-03-27T11:46:51.379479",
     "status": "completed"
    },
    "tags": []
   },
   "outputs": [],
   "source": [
    "df[\"response_letter_date_and_link\"][get_rows_response_letter] = df[\"response_letter_date_and_link\"][get_rows_response_letter].\\\n",
    "apply(letter_date_and_link)"
   ]
  },
  {
   "cell_type": "code",
   "execution_count": 22,
   "id": "c935a9ff",
   "metadata": {
    "execution": {
     "iopub.execute_input": "2022-03-27T11:46:51.478633Z",
     "iopub.status.busy": "2022-03-27T11:46:51.477674Z",
     "iopub.status.idle": "2022-03-27T11:46:51.482409Z",
     "shell.execute_reply": "2022-03-27T11:46:51.481962Z"
    },
    "papermill": {
     "duration": 0.039331,
     "end_time": "2022-03-27T11:46:51.482547",
     "exception": false,
     "start_time": "2022-03-27T11:46:51.443216",
     "status": "completed"
    },
    "tags": []
   },
   "outputs": [],
   "source": [
    "df[['response_date', 'response_link']] = df[get_rows_response_letter].apply(lambda x:x.response_letter_date_and_link,\\\n",
    "                                                            result_type='expand', axis=1)"
   ]
  },
  {
   "cell_type": "markdown",
   "id": "e7722525",
   "metadata": {
    "papermill": {
     "duration": 0.023619,
     "end_time": "2022-03-27T11:46:51.529637",
     "exception": false,
     "start_time": "2022-03-27T11:46:51.506018",
     "status": "completed"
    },
    "tags": []
   },
   "source": [
    "Getting Closeout Letter date and Links"
   ]
  },
  {
   "cell_type": "code",
   "execution_count": 23,
   "id": "5fc07f07",
   "metadata": {
    "execution": {
     "iopub.execute_input": "2022-03-27T11:46:51.582575Z",
     "iopub.status.busy": "2022-03-27T11:46:51.581729Z",
     "iopub.status.idle": "2022-03-27T11:46:51.584830Z",
     "shell.execute_reply": "2022-03-27T11:46:51.584219Z"
    },
    "papermill": {
     "duration": 0.03169,
     "end_time": "2022-03-27T11:46:51.584986",
     "exception": false,
     "start_time": "2022-03-27T11:46:51.553296",
     "status": "completed"
    },
    "tags": []
   },
   "outputs": [],
   "source": [
    "get_rows_closeout_letter = df[\"closeout_letter_date_and_link\"].notnull()"
   ]
  },
  {
   "cell_type": "code",
   "execution_count": 24,
   "id": "1a7b1ee1",
   "metadata": {
    "execution": {
     "iopub.execute_input": "2022-03-27T11:46:51.637292Z",
     "iopub.status.busy": "2022-03-27T11:46:51.636639Z",
     "iopub.status.idle": "2022-03-27T11:46:51.789935Z",
     "shell.execute_reply": "2022-03-27T11:46:51.790416Z"
    },
    "papermill": {
     "duration": 0.182108,
     "end_time": "2022-03-27T11:46:51.790579",
     "exception": false,
     "start_time": "2022-03-27T11:46:51.608471",
     "status": "completed"
    },
    "tags": []
   },
   "outputs": [],
   "source": [
    "df[\"closeout_letter_date_and_link\"][get_rows_closeout_letter] = df[\"closeout_letter_date_and_link\"][get_rows_closeout_letter].\\\n",
    "apply(letter_date_and_link)"
   ]
  },
  {
   "cell_type": "code",
   "execution_count": 25,
   "id": "6dcdf06d",
   "metadata": {
    "execution": {
     "iopub.execute_input": "2022-03-27T11:46:51.844211Z",
     "iopub.status.busy": "2022-03-27T11:46:51.843463Z",
     "iopub.status.idle": "2022-03-27T11:46:51.877337Z",
     "shell.execute_reply": "2022-03-27T11:46:51.877802Z"
    },
    "papermill": {
     "duration": 0.062724,
     "end_time": "2022-03-27T11:46:51.878002",
     "exception": false,
     "start_time": "2022-03-27T11:46:51.815278",
     "status": "completed"
    },
    "tags": []
   },
   "outputs": [],
   "source": [
    "df[['closeout_date', 'closeout_link']] = df[get_rows_closeout_letter].apply(lambda x:x.closeout_letter_date_and_link,\\\n",
    "                                                            result_type='expand', axis=1)"
   ]
  },
  {
   "cell_type": "code",
   "execution_count": 26,
   "id": "381f077f",
   "metadata": {
    "execution": {
     "iopub.execute_input": "2022-03-27T11:46:51.945557Z",
     "iopub.status.busy": "2022-03-27T11:46:51.944629Z",
     "iopub.status.idle": "2022-03-27T11:46:51.948150Z",
     "shell.execute_reply": "2022-03-27T11:46:51.948578Z"
    },
    "papermill": {
     "duration": 0.046184,
     "end_time": "2022-03-27T11:46:51.948741",
     "exception": false,
     "start_time": "2022-03-27T11:46:51.902557",
     "status": "completed"
    },
    "tags": []
   },
   "outputs": [
    {
     "data": {
      "text/html": [
       "<div>\n",
       "<style scoped>\n",
       "    .dataframe tbody tr th:only-of-type {\n",
       "        vertical-align: middle;\n",
       "    }\n",
       "\n",
       "    .dataframe tbody tr th {\n",
       "        vertical-align: top;\n",
       "    }\n",
       "\n",
       "    .dataframe thead th {\n",
       "        text-align: right;\n",
       "    }\n",
       "</style>\n",
       "<table border=\"1\" class=\"dataframe\">\n",
       "  <thead>\n",
       "    <tr style=\"text-align: right;\">\n",
       "      <th></th>\n",
       "      <th>posted_date</th>\n",
       "      <th>letter_issue_date</th>\n",
       "      <th>company_name_and_link</th>\n",
       "      <th>issuing_office</th>\n",
       "      <th>subject</th>\n",
       "      <th>response_letter_date_and_link</th>\n",
       "      <th>closeout_letter_date_and_link</th>\n",
       "      <th>company_name</th>\n",
       "      <th>warning_letter_link</th>\n",
       "      <th>response_date</th>\n",
       "      <th>response_link</th>\n",
       "      <th>closeout_date</th>\n",
       "      <th>closeout_link</th>\n",
       "    </tr>\n",
       "  </thead>\n",
       "  <tbody>\n",
       "    <tr>\n",
       "      <th>0</th>\n",
       "      <td>03/24/2022</td>\n",
       "      <td>03/24/2022</td>\n",
       "      <td>(Ohm Men Vape Shop LLC, https://www.fda.gov/in...</td>\n",
       "      <td>Center for Tobacco Products</td>\n",
       "      <td>Family Smoking Prevention and Tobacco Control ...</td>\n",
       "      <td>NaN</td>\n",
       "      <td>NaN</td>\n",
       "      <td>Ohm Men Vape Shop LLC</td>\n",
       "      <td>https://www.fda.gov/inspections-compliance-enf...</td>\n",
       "      <td>NaN</td>\n",
       "      <td>NaN</td>\n",
       "      <td>NaN</td>\n",
       "      <td>NaN</td>\n",
       "    </tr>\n",
       "    <tr>\n",
       "      <th>1</th>\n",
       "      <td>03/22/2022</td>\n",
       "      <td>02/03/2022</td>\n",
       "      <td>(ECI Pharmaceuticals, LLC, https://www.fda.gov...</td>\n",
       "      <td>Center for Drug Evaluation and Research | CDER</td>\n",
       "      <td>Failure to Register and List</td>\n",
       "      <td>NaN</td>\n",
       "      <td>(03/22/2022, https://www.fda.gov/inspections-c...</td>\n",
       "      <td>ECI Pharmaceuticals, LLC</td>\n",
       "      <td>https://www.fda.gov/inspections-compliance-enf...</td>\n",
       "      <td>NaN</td>\n",
       "      <td>NaN</td>\n",
       "      <td>03/22/2022</td>\n",
       "      <td>https://www.fda.gov/inspections-compliance-enf...</td>\n",
       "    </tr>\n",
       "    <tr>\n",
       "      <th>2</th>\n",
       "      <td>03/22/2022</td>\n",
       "      <td>03/15/2022</td>\n",
       "      <td>(Steam Puff Vapor LLC DBA Vapery 2, https://ww...</td>\n",
       "      <td>Center for Tobacco Products</td>\n",
       "      <td>Family Smoking Prevention and Tobacco Control ...</td>\n",
       "      <td>NaN</td>\n",
       "      <td>NaN</td>\n",
       "      <td>Steam Puff Vapor LLC DBA Vapery 2</td>\n",
       "      <td>https://www.fda.gov/inspections-compliance-enf...</td>\n",
       "      <td>NaN</td>\n",
       "      <td>NaN</td>\n",
       "      <td>NaN</td>\n",
       "      <td>NaN</td>\n",
       "    </tr>\n",
       "    <tr>\n",
       "      <th>3</th>\n",
       "      <td>03/22/2022</td>\n",
       "      <td>03/18/2022</td>\n",
       "      <td>(Marlin Steam Co, https://www.fda.gov/inspecti...</td>\n",
       "      <td>Center for Tobacco Products</td>\n",
       "      <td>Family Smoking Prevention and Tobacco Control ...</td>\n",
       "      <td>NaN</td>\n",
       "      <td>NaN</td>\n",
       "      <td>Marlin Steam Co</td>\n",
       "      <td>https://www.fda.gov/inspections-compliance-enf...</td>\n",
       "      <td>NaN</td>\n",
       "      <td>NaN</td>\n",
       "      <td>NaN</td>\n",
       "      <td>NaN</td>\n",
       "    </tr>\n",
       "    <tr>\n",
       "      <th>4</th>\n",
       "      <td>03/22/2022</td>\n",
       "      <td>02/23/2022</td>\n",
       "      <td>(OC Raw Dog LLC, https://www.fda.gov/inspectio...</td>\n",
       "      <td>Office of Human and Animal Food Operations- We...</td>\n",
       "      <td>CGMP/Food for Animals/Prepared, Packed or Held...</td>\n",
       "      <td>NaN</td>\n",
       "      <td>NaN</td>\n",
       "      <td>OC Raw Dog LLC</td>\n",
       "      <td>https://www.fda.gov/inspections-compliance-enf...</td>\n",
       "      <td>NaN</td>\n",
       "      <td>NaN</td>\n",
       "      <td>NaN</td>\n",
       "      <td>NaN</td>\n",
       "    </tr>\n",
       "  </tbody>\n",
       "</table>\n",
       "</div>"
      ],
      "text/plain": [
       "  posted_date letter_issue_date  \\\n",
       "0  03/24/2022        03/24/2022   \n",
       "1  03/22/2022        02/03/2022   \n",
       "2  03/22/2022        03/15/2022   \n",
       "3  03/22/2022        03/18/2022   \n",
       "4  03/22/2022        02/23/2022   \n",
       "\n",
       "                               company_name_and_link  \\\n",
       "0  (Ohm Men Vape Shop LLC, https://www.fda.gov/in...   \n",
       "1  (ECI Pharmaceuticals, LLC, https://www.fda.gov...   \n",
       "2  (Steam Puff Vapor LLC DBA Vapery 2, https://ww...   \n",
       "3  (Marlin Steam Co, https://www.fda.gov/inspecti...   \n",
       "4  (OC Raw Dog LLC, https://www.fda.gov/inspectio...   \n",
       "\n",
       "                                      issuing_office  \\\n",
       "0                        Center for Tobacco Products   \n",
       "1     Center for Drug Evaluation and Research | CDER   \n",
       "2                        Center for Tobacco Products   \n",
       "3                        Center for Tobacco Products   \n",
       "4  Office of Human and Animal Food Operations- We...   \n",
       "\n",
       "                                             subject  \\\n",
       "0  Family Smoking Prevention and Tobacco Control ...   \n",
       "1                       Failure to Register and List   \n",
       "2  Family Smoking Prevention and Tobacco Control ...   \n",
       "3  Family Smoking Prevention and Tobacco Control ...   \n",
       "4  CGMP/Food for Animals/Prepared, Packed or Held...   \n",
       "\n",
       "  response_letter_date_and_link  \\\n",
       "0                           NaN   \n",
       "1                           NaN   \n",
       "2                           NaN   \n",
       "3                           NaN   \n",
       "4                           NaN   \n",
       "\n",
       "                       closeout_letter_date_and_link  \\\n",
       "0                                                NaN   \n",
       "1  (03/22/2022, https://www.fda.gov/inspections-c...   \n",
       "2                                                NaN   \n",
       "3                                                NaN   \n",
       "4                                                NaN   \n",
       "\n",
       "                        company_name  \\\n",
       "0              Ohm Men Vape Shop LLC   \n",
       "1           ECI Pharmaceuticals, LLC   \n",
       "2  Steam Puff Vapor LLC DBA Vapery 2   \n",
       "3                    Marlin Steam Co   \n",
       "4                     OC Raw Dog LLC   \n",
       "\n",
       "                                 warning_letter_link response_date  \\\n",
       "0  https://www.fda.gov/inspections-compliance-enf...           NaN   \n",
       "1  https://www.fda.gov/inspections-compliance-enf...           NaN   \n",
       "2  https://www.fda.gov/inspections-compliance-enf...           NaN   \n",
       "3  https://www.fda.gov/inspections-compliance-enf...           NaN   \n",
       "4  https://www.fda.gov/inspections-compliance-enf...           NaN   \n",
       "\n",
       "  response_link closeout_date  \\\n",
       "0           NaN           NaN   \n",
       "1           NaN    03/22/2022   \n",
       "2           NaN           NaN   \n",
       "3           NaN           NaN   \n",
       "4           NaN           NaN   \n",
       "\n",
       "                                       closeout_link  \n",
       "0                                                NaN  \n",
       "1  https://www.fda.gov/inspections-compliance-enf...  \n",
       "2                                                NaN  \n",
       "3                                                NaN  \n",
       "4                                                NaN  "
      ]
     },
     "execution_count": 26,
     "metadata": {},
     "output_type": "execute_result"
    }
   ],
   "source": [
    "df.head()"
   ]
  },
  {
   "cell_type": "markdown",
   "id": "cd633a69",
   "metadata": {
    "papermill": {
     "duration": 0.025973,
     "end_time": "2022-03-27T11:46:52.000039",
     "exception": false,
     "start_time": "2022-03-27T11:46:51.974066",
     "status": "completed"
    },
    "tags": []
   },
   "source": [
    "Creating a Scrapper to scrape through links and extract text"
   ]
  },
  {
   "cell_type": "code",
   "execution_count": 27,
   "id": "c88ec3e6",
   "metadata": {
    "execution": {
     "iopub.execute_input": "2022-03-27T11:46:52.055369Z",
     "iopub.status.busy": "2022-03-27T11:46:52.054606Z",
     "iopub.status.idle": "2022-03-27T11:46:52.057339Z",
     "shell.execute_reply": "2022-03-27T11:46:52.056761Z"
    },
    "papermill": {
     "duration": 0.032634,
     "end_time": "2022-03-27T11:46:52.057492",
     "exception": false,
     "start_time": "2022-03-27T11:46:52.024858",
     "status": "completed"
    },
    "tags": []
   },
   "outputs": [],
   "source": [
    "def div_scrapper(x):\n",
    "    \n",
    "    scrapped_text = \"\"\n",
    "    r = requests.get(x)\n",
    "    soup = bs(r.text, \"lxml\")\n",
    "    find_div = soup.find(\"div\", class_ = \"col-md-8 col-md-push-2\")\n",
    "    scrapped_text = re.sub(r'\\n+', '\\n', unicodedata.normalize(\"NFKD\", find_div.text))\n",
    "    scrapped_text = scrapped_text.strip()\n",
    "    \n",
    "    return scrapped_text"
   ]
  },
  {
   "cell_type": "code",
   "execution_count": 28,
   "id": "ea31c89b",
   "metadata": {
    "execution": {
     "iopub.execute_input": "2022-03-27T11:46:52.115026Z",
     "iopub.status.busy": "2022-03-27T11:46:52.114392Z",
     "iopub.status.idle": "2022-03-27T13:14:55.899004Z",
     "shell.execute_reply": "2022-03-27T13:14:55.897848Z"
    },
    "papermill": {
     "duration": 5283.817228,
     "end_time": "2022-03-27T13:14:55.899337",
     "exception": false,
     "start_time": "2022-03-27T11:46:52.082109",
     "status": "completed"
    },
    "tags": []
   },
   "outputs": [],
   "source": [
    "df[\"warning_letter_text\"] = df[\"warning_letter_link\"].apply(div_scrapper)\n",
    "df['response_text'] = df[get_rows_response_letter][\"response_link\"].apply(div_scrapper)\n",
    "df['closeout_text'] = df[get_rows_closeout_letter][\"closeout_link\"].apply(div_scrapper)\n",
    "df.to_csv(\"warning_letters.csv\")"
   ]
  }
 ],
 "metadata": {
  "kernelspec": {
   "display_name": "Python 3",
   "language": "python",
   "name": "python3"
  },
  "language_info": {
   "codemirror_mode": {
    "name": "ipython",
    "version": 3
   },
   "file_extension": ".py",
   "mimetype": "text/x-python",
   "name": "python",
   "nbconvert_exporter": "python",
   "pygments_lexer": "ipython3",
   "version": "3.7.12"
  },
  "papermill": {
   "default_parameters": {},
   "duration": 5327.129373,
   "end_time": "2022-03-27T13:14:56.652360",
   "environment_variables": {},
   "exception": null,
   "input_path": "__notebook__.ipynb",
   "output_path": "__notebook__.ipynb",
   "parameters": {},
   "start_time": "2022-03-27T11:46:09.522987",
   "version": "2.3.3"
  }
 },
 "nbformat": 4,
 "nbformat_minor": 5
}
